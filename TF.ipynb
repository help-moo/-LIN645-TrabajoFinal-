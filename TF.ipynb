{
 "cells": [
  {
   "cell_type": "markdown",
   "id": "f45b1ad4-f2d7-42fc-9c8d-fcd531011d8c",
   "metadata": {
    "tags": []
   },
   "source": [
    "# 'El discurso de Gastón': Un acercamiento *computacional* al análisis del discurso"
   ]
  },
  {
   "cell_type": "markdown",
   "id": "1afe7539-fefd-4037-913a-4faa2242db8c",
   "metadata": {
    "tags": []
   },
   "source": [
    "# Librerías utilizadas"
   ]
  },
  {
   "cell_type": "code",
   "execution_count": null,
   "id": "a4af2eb8-f2c1-41d7-ad75-6db42be62f6f",
   "metadata": {
    "tags": []
   },
   "outputs": [],
   "source": [
    "import nltk \n",
    "import pandas as pd\n",
    "import spacy\n",
    "import numpy as np\n",
    "import wordtree\n",
    "import networkx as nx\n",
    "from matplotlib import pyplot as plt   \n",
    "from nltk import sent_tokenize\n",
    "from pyvis.network import Network\n",
    "from sklearn.feature_extraction.text import TfidfVectorizer\n",
    "from sklearn.feature_extraction.text import CountVectorizer\n",
    "from itertools import chain\n",
    "nlp = spacy.load('es_dep_news_trf')   # Modelo "
   ]
  },
  {
   "cell_type": "markdown",
   "id": "029f2512-8dfe-4862-8a65-5b2636580a81",
   "metadata": {
    "tags": []
   },
   "source": [
    "# Análisis"
   ]
  },
  {
   "cell_type": "markdown",
   "id": "d3b3da19-4c7d-4d53-bbba-0fe681f57d4f",
   "metadata": {},
   "source": [
    "## Importar los datos "
   ]
  },
  {
   "cell_type": "code",
   "execution_count": 373,
   "id": "18ed87ad-668d-4a22-ad5c-a4b46f46e1bf",
   "metadata": {
    "tags": []
   },
   "outputs": [],
   "source": [
    "discurso = open(\"discurso_gaston.txt\")\n",
    "discurso = discurso.read()"
   ]
  },
  {
   "cell_type": "markdown",
   "id": "2c5e672d-2864-4903-889f-f9a573d29ea8",
   "metadata": {},
   "source": [
    "## Limpieza y pre-procesamiento de los datos"
   ]
  },
  {
   "cell_type": "markdown",
   "id": "9fe654aa-965e-42a3-895b-c5c6971ef062",
   "metadata": {},
   "source": [
    "#### Definir la función preprocess_o "
   ]
  },
  {
   "cell_type": "code",
   "execution_count": 472,
   "id": "2330fa85-58d5-4a84-b6fa-bdc7f5a6e887",
   "metadata": {
    "tags": []
   },
   "outputs": [],
   "source": [
    "def preprocess_o(text):\n",
    "    doc = nlp(text)\n",
    "    tokens = [token.lemma_ for token in doc if not token.is_stop and not token.is_punct and not token.like_num or token.pos_ in ['AUX']]\n",
    "    return \" \".join(tokens)"
   ]
  },
  {
   "cell_type": "markdown",
   "id": "678f44d7-f79e-455d-bcfa-ae31ced6b182",
   "metadata": {
    "tags": []
   },
   "source": [
    "#### Tokenizar en oraciones los datos"
   ]
  },
  {
   "cell_type": "code",
   "execution_count": 481,
   "id": "f0dc51a3-039c-43b4-af19-c14f8369fe85",
   "metadata": {
    "tags": []
   },
   "outputs": [],
   "source": [
    "oraciones_discurso = sent_tokenize(discurso.lower())\n",
    "\n",
    "oraciones = []\n",
    "for o in oraciones_discurso:\n",
    "    oraciones = oraciones + [preprocess_o(o)]"
   ]
  },
  {
   "cell_type": "markdown",
   "id": "be11c4ff-9266-45ea-9e71-dfe1189d78c3",
   "metadata": {
    "tags": []
   },
   "source": [
    "## Organización de los datos en un Dataframe"
   ]
  },
  {
   "cell_type": "markdown",
   "id": "47a285f0-d472-4aca-9d56-42596e493ea4",
   "metadata": {},
   "source": [
    "### Crear columna de oraciones "
   ]
  },
  {
   "cell_type": "code",
   "execution_count": 482,
   "id": "affd0bc3-4a17-4794-876f-bde9d34b5566",
   "metadata": {
    "tags": []
   },
   "outputs": [],
   "source": [
    "df = pd.DataFrame(oraciones)\n",
    "df.columns = ['oraciones']"
   ]
  },
  {
   "cell_type": "markdown",
   "id": "e7fde733-306e-44b6-ad7d-d201a824bbf7",
   "metadata": {},
   "source": [
    "### Agregar columna de verbos y verbos-auxiliares (lemmatizados) "
   ]
  },
  {
   "cell_type": "code",
   "execution_count": 483,
   "id": "66ae1d7a-b8f1-4f4f-9458-030452293751",
   "metadata": {},
   "outputs": [
    {
     "data": {
      "text/html": [
       "<div>\n",
       "<style scoped>\n",
       "    .dataframe tbody tr th:only-of-type {\n",
       "        vertical-align: middle;\n",
       "    }\n",
       "\n",
       "    .dataframe tbody tr th {\n",
       "        vertical-align: top;\n",
       "    }\n",
       "\n",
       "    .dataframe thead th {\n",
       "        text-align: right;\n",
       "    }\n",
       "</style>\n",
       "<table border=\"1\" class=\"dataframe\">\n",
       "  <thead>\n",
       "    <tr style=\"text-align: right;\">\n",
       "      <th></th>\n",
       "      <th>oraciones</th>\n",
       "      <th>Verbos</th>\n",
       "      <th>Verblemma</th>\n",
       "      <th>Auxlemma</th>\n",
       "    </tr>\n",
       "  </thead>\n",
       "  <tbody>\n",
       "    <tr>\n",
       "      <th>0</th>\n",
       "      <td>poder pensar recurso natural país haber ser be...</td>\n",
       "      <td>[pensar, enseñar]</td>\n",
       "      <td>[pensar, enseñar]</td>\n",
       "      <td>[poder, haber, ser, haber]</td>\n",
       "    </tr>\n",
       "    <tr>\n",
       "      <th>1</th>\n",
       "      <td>ser caucho guano ser mineral</td>\n",
       "      <td>[]</td>\n",
       "      <td>[]</td>\n",
       "      <td>[ser, ser]</td>\n",
       "    </tr>\n",
       "    <tr>\n",
       "      <th>2</th>\n",
       "      <td>acabar terminar ciclo económico bonanza aparec...</td>\n",
       "      <td>[acabar, terminar, aparecer, destruir]</td>\n",
       "      <td>[acabar, terminar, aparecer, destruir]</td>\n",
       "      <td>[]</td>\n",
       "    </tr>\n",
       "    <tr>\n",
       "      <th>3</th>\n",
       "      <td>quedar crecimiento estabilidad riqueza país es...</td>\n",
       "      <td>[quedar, estar, elaborar]</td>\n",
       "      <td>[quedar, estar, elaborar]</td>\n",
       "      <td>[]</td>\n",
       "    </tr>\n",
       "    <tr>\n",
       "      <th>4</th>\n",
       "      <td>suizo comprar recurso cacao oro elaborar choco...</td>\n",
       "      <td>[comprar, elaborar, comprar, transformar]</td>\n",
       "      <td>[comprar, elaborar, comprar, transformar]</td>\n",
       "      <td>[]</td>\n",
       "    </tr>\n",
       "    <tr>\n",
       "      <th>...</th>\n",
       "      <td>...</td>\n",
       "      <td>...</td>\n",
       "      <td>...</td>\n",
       "      <td>...</td>\n",
       "    </tr>\n",
       "    <tr>\n",
       "      <th>119</th>\n",
       "      <td>terminar querer decir él realidad pedir él ir ...</td>\n",
       "      <td>[terminar, decir, pedir, ir]</td>\n",
       "      <td>[terminar, decir, pedir, ir]</td>\n",
       "      <td>[querer, ser]</td>\n",
       "    </tr>\n",
       "    <tr>\n",
       "      <th>120</th>\n",
       "      <td>salir estudiar maestría regresen</td>\n",
       "      <td>[salir, estudiar, regresen]</td>\n",
       "      <td>[salir, estudiar, regresen]</td>\n",
       "      <td>[]</td>\n",
       "    </tr>\n",
       "    <tr>\n",
       "      <th>121</th>\n",
       "      <td>ir ser oportunidad ser riqueza ser vida sentido</td>\n",
       "      <td>[]</td>\n",
       "      <td>[]</td>\n",
       "      <td>[ir, ser, ser, ser]</td>\n",
       "    </tr>\n",
       "    <tr>\n",
       "      <th>122</th>\n",
       "      <td>ir pueblo necesitar perú necesitar historia ne...</td>\n",
       "      <td>[necesitar, necesitar, necesitar]</td>\n",
       "      <td>[necesitar, necesitar, necesitar]</td>\n",
       "      <td>[ir]</td>\n",
       "    </tr>\n",
       "    <tr>\n",
       "      <th>123</th>\n",
       "      <td>gracia</td>\n",
       "      <td>[]</td>\n",
       "      <td>[]</td>\n",
       "      <td>[]</td>\n",
       "    </tr>\n",
       "  </tbody>\n",
       "</table>\n",
       "<p>124 rows × 4 columns</p>\n",
       "</div>"
      ],
      "text/plain": [
       "                                             oraciones  \\\n",
       "0    poder pensar recurso natural país haber ser be...   \n",
       "1                         ser caucho guano ser mineral   \n",
       "2    acabar terminar ciclo económico bonanza aparec...   \n",
       "3    quedar crecimiento estabilidad riqueza país es...   \n",
       "4    suizo comprar recurso cacao oro elaborar choco...   \n",
       "..                                                 ...   \n",
       "119  terminar querer decir él realidad pedir él ir ...   \n",
       "120                   salir estudiar maestría regresen   \n",
       "121    ir ser oportunidad ser riqueza ser vida sentido   \n",
       "122  ir pueblo necesitar perú necesitar historia ne...   \n",
       "123                                             gracia   \n",
       "\n",
       "                                        Verbos  \\\n",
       "0                            [pensar, enseñar]   \n",
       "1                                           []   \n",
       "2       [acabar, terminar, aparecer, destruir]   \n",
       "3                    [quedar, estar, elaborar]   \n",
       "4    [comprar, elaborar, comprar, transformar]   \n",
       "..                                         ...   \n",
       "119               [terminar, decir, pedir, ir]   \n",
       "120                [salir, estudiar, regresen]   \n",
       "121                                         []   \n",
       "122          [necesitar, necesitar, necesitar]   \n",
       "123                                         []   \n",
       "\n",
       "                                     Verblemma                    Auxlemma  \n",
       "0                            [pensar, enseñar]  [poder, haber, ser, haber]  \n",
       "1                                           []                  [ser, ser]  \n",
       "2       [acabar, terminar, aparecer, destruir]                          []  \n",
       "3                    [quedar, estar, elaborar]                          []  \n",
       "4    [comprar, elaborar, comprar, transformar]                          []  \n",
       "..                                         ...                         ...  \n",
       "119               [terminar, decir, pedir, ir]               [querer, ser]  \n",
       "120                [salir, estudiar, regresen]                          []  \n",
       "121                                         []         [ir, ser, ser, ser]  \n",
       "122          [necesitar, necesitar, necesitar]                        [ir]  \n",
       "123                                         []                          []  \n",
       "\n",
       "[124 rows x 4 columns]"
      ]
     },
     "execution_count": 483,
     "metadata": {},
     "output_type": "execute_result"
    }
   ],
   "source": [
    "# Verbos\n",
    "V = [] \n",
    "Vlemma = [] \n",
    "\n",
    "#Auxiliares\n",
    "A = [] \n",
    "Alemma = []\n",
    "\n",
    "# N = [] # noun\n",
    "\n",
    "for oracion in oraciones:\n",
    "    o = nlp(oracion)\n",
    "    V = V + [[token.text for token in o if token.pos_ in ['VERB']]]\n",
    "    Vlemma = Vlemma + [[token.lemma_ for token in o if token.pos_ in ['VERB']]]\n",
    "   # A = A + [[token.text for token in o if token.pos_ in ['AUX']]]\n",
    "    Alemma = Alemma + [[token.lemma_ for token in o if token.pos_ in ['AUX']]]\n",
    "    N = N + [[token.text for token in o if token.pos_ in ['NOUN']]]\n",
    "    \n",
    "df['Verbos'] = V\n",
    "df['Verblemma'] = Vlemma\n",
    "df['Auxlemma'] = Alemma\n",
    "#df['Aux'] = A\n",
    "# df['Noun'] = N\n",
    "\n",
    "df"
   ]
  },
  {
   "cell_type": "markdown",
   "id": "374de78e-5647-4bca-b85e-75e3d1ea5271",
   "metadata": {},
   "source": [
    "### Verbos"
   ]
  },
  {
   "cell_type": "code",
   "execution_count": 504,
   "id": "1aa65052-b46f-4b0e-b379-ced49aa486e5",
   "metadata": {
    "tags": []
   },
   "outputs": [
    {
     "name": "stdout",
     "output_type": "stream",
     "text": [
      "el total de verbos es501\n"
     ]
    },
    {
     "data": {
      "text/plain": [
       "'el total de verbos diferentes es 193'"
      ]
     },
     "execution_count": 504,
     "metadata": {},
     "output_type": "execute_result"
    }
   ],
   "source": [
    "aux = (list(chain(*df['Auxlemma'])))\n",
    "verbos = list(chain(*df['Verblemma']))\n",
    "verbos = verbos + aux\n",
    "\n",
    "print('el total de verbos es' +  str(len(verbos)))\n",
    "f'el total de verbos diferentes es {len(set(verbos))}'"
   ]
  },
  {
   "cell_type": "markdown",
   "id": "e9e387fc-4dee-43b3-a847-304b3551b792",
   "metadata": {},
   "source": [
    "#### Crear un diccionario {(verbos: frecuencia de aparición)} [solo los 5 más frecuentes]"
   ]
  },
  {
   "cell_type": "code",
   "execution_count": 477,
   "id": "2e76b2b8-4b39-469e-9b9a-05a6d92f21e9",
   "metadata": {
    "tags": []
   },
   "outputs": [
    {
     "data": {
      "text/plain": [
       "{'ser': 63, 'haber': 38, 'estar': 20, 'poder': 18, 'crear': 9}"
      ]
     },
     "execution_count": 477,
     "metadata": {},
     "output_type": "execute_result"
    }
   ],
   "source": [
    "d ={}\n",
    "for i in verbos:\n",
    "    if i in d.keys():\n",
    "        d[i] = 1 + d[i]\n",
    "    else:\n",
    "        d[i] = 1\n",
    "d = sorted(d.items(), key=lambda x: x[1], reverse=True)\n",
    "d = dict(d[:5])\n",
    "d"
   ]
  },
  {
   "cell_type": "markdown",
   "id": "2274d76f-628d-4b8d-80d8-ca7cdbfc8ccc",
   "metadata": {
    "tags": []
   },
   "source": [
    "### Histograma del top 5 verbos en los datos"
   ]
  },
  {
   "cell_type": "code",
   "execution_count": 478,
   "id": "6d4dfa82-5c42-4a03-9336-036e60e180fa",
   "metadata": {
    "tags": []
   },
   "outputs": [
    {
     "data": {
      "text/plain": [
       "<Axes: title={'center': 'Top verbos'}, xlabel='verbos'>"
      ]
     },
     "execution_count": 478,
     "metadata": {},
     "output_type": "execute_result"
    },
    {
     "data": {
      "image/png": "[encoded data removed]",
      "text/plain": [
       "<Figure size 640x480 with 1 Axes>"
      ]
     },
     "metadata": {},
     "output_type": "display_data"
    }
   ],
   "source": [
    "d = {'verbos':d.keys(), 'Frecuencia':d.values()}\n",
    "df = pd.DataFrame.from_dict(d)\n",
    "ax = df.plot.bar(x='verbos', y='Frecuencia', rot=60, title='Top verbos')\n",
    "ax"
   ]
  },
  {
   "cell_type": "markdown",
   "id": "2cb380b7-f4dd-46bc-9629-3c6032d704f0",
   "metadata": {},
   "source": [
    "### Lista de verbos"
   ]
  },
  {
   "cell_type": "code",
   "execution_count": 508,
   "id": "4699a181-013d-4c89-92a8-1e3626f923ec",
   "metadata": {
    "tags": []
   },
   "outputs": [
    {
     "name": "stdout",
     "output_type": "stream",
     "text": [
      "{'elitar', 'cocina', 'admirar', 'comer', 'simplificar', 'llamar', 'vender', 'rebatir', 'enseñar', 'prevalecer', 'argumentar', 'dirigir', 'faltar', 'necesitar', 'dividir', 'transformar', 'cautivar', 'indicar', 'definir', 'alzar', 'renunciar', 'emitir', 'ganar', 'fracasar', 'repreguntar', 'ir', 'llegar', 'multiplicar', 'conceder', 'satisfacer', 'devolver', 'ubicar', 'broaster', 'acabar', 'llevar', 'mantener', 'empezar', 'carecer', 'suponer', 'considerar', 'cuestionar', 'despegar', 'preguntar', 'alcanzar', 'producir', 'bajar', 'introducir', 'encontrar', 'ofrecer', 'ver', 'incite', 'analizar', 'esconder', 'adornar', 'expandir', 'rebasar', 'visitar', 'traducir', 'poder', 'aparecer', 'cuestionabl', 'contar', 'imitar', 'condenar', 'depender', 'buscar', 'entender', 'quedar', 'deber', 'mejorar', 'formar', 'apreciar', 'encarar', 'representar', 'crear', 'inaugurar', 'permitir', 'destruir', 'descubrir', 'reacomodar', 'globalizar', 'pensar', 'aceptar', 'cubrir', 'salir', 'enviar', 'mostrar', 'cambiar', 'comenzar', 'revertir', 'vivir', 'hacer', 'liberar', 'trascender', 'disponer', 'padecer', 'sentar', 'chifar', 'asumir', 'haber', 'codear', 'trabajar', 'perseguir', 'preparar', 'marcar', 'traer', 'imaginar', 'abrazar', 'generar', 'recibir', 'activar', 'pagar', 'valorar', 'competir', 'estandarizar', 'decidir', 'escoger', 'cocinar', 'conocer', 'recordar', 'quebrar', 'incentivar', 'tardar', 'crecer', 'invertir', 'reconstruir', 'estar', 'diferenciar', 'vigilar', 'creer', 'quitar', 'desarrollar', 'intervenir', 'comprar', 'exportar', 'elaborar', 'dar', 'escuchar', 'conquistar', 'decir', 'aprovechar', 'estudiar', 'reconocer', 'existir', 'abrir', 'tener', 'pedir', 'proteger', 'aspirar', 'rechazar', 'terminar', 'suceder', 'querer', 'logracer', 'amar', 'esperar', 'gustar', 'sentir', 'publicar', 'inspirar', 'indignar', 'leer', 'desaparecer', 'crean', 'dejar', 'relegar', 'encerrar', 'abastecer', 'educar', 'regresen', 'convertir', 'conservar', 'aplaudir', 'caminar', 'concebir', 'ingresar', 'cumplir', 'lamentar', 'desempolvar', 'expandecir', 'tolerar', 'construir', 'acabacer', 'venir', 'ser', 'devaluar', 'entrar', 'significar', 'nacer', 'integrar', 'compita', 'iniciar', 'lograr'}\n"
     ]
    }
   ],
   "source": [
    "verbos = set(verbos)\n",
    "print(verbos)"
   ]
  },
  {
   "cell_type": "markdown",
   "id": "e6d37cea-2b21-4103-bcc4-f4c6a83f675c",
   "metadata": {
    "tags": []
   },
   "source": [
    "#### Pre-procesar los datos y eliminar el pronombre 'él' y los verbos auxiliares 'ser', 'haber', 'poder' y 'estar'"
   ]
  },
  {
   "cell_type": "code",
   "execution_count": 428,
   "id": "0f6b6456-2d4c-4a6c-b20c-2630926fa19f",
   "metadata": {
    "tags": []
   },
   "outputs": [],
   "source": [
    "discurso = preprocess_o(discurso.replace(\"él\", \"\").replace(\"ser\",\"\").replace(\"haber\",\"\").replace(\"poder\",\"\").replace(\"estar\",\"\")) \n",
    "# 'él' genera ruido, pues es agregado por por el lemmatizador de spaCy\n",
    "# También se eliminan los verbos auxiliares 'ser', 'haber', 'poder' y 'estar'"
   ]
  },
  {
   "cell_type": "markdown",
   "id": "ffa2b727-1bbb-45d0-a38e-c3f167060c2d",
   "metadata": {},
   "source": [
    "#### Definir la función get_top_grams "
   ]
  },
  {
   "cell_type": "code",
   "execution_count": 429,
   "id": "d8741a5b-a558-423c-a198-d91f1a903e2c",
   "metadata": {
    "tags": []
   },
   "outputs": [],
   "source": [
    "# Definir función que muestra top palabras (unigrams) \n",
    "# Bag of Words (BoW)\n",
    "\n",
    "def get_top_grams(corpus, n=None):\n",
    "    vec = CountVectorizer(ngram_range=(1, 1)).fit(corpus)\n",
    "    bag_of_words = vec.transform(corpus)\n",
    "    sum_words = bag_of_words.sum(axis=0) \n",
    "    words_freq = [(word, sum_words[0, idx]) for word, idx in vec.vocabulary_.items()]\n",
    "    words_freq =sorted(words_freq, key = lambda x: x[1], reverse=True)\n",
    "    return words_freq[:n]"
   ]
  },
  {
   "cell_type": "markdown",
   "id": "b7fa31ed-36ee-4398-84a3-0b71cd920bde",
   "metadata": {},
   "source": [
    "#### Crear un diccionario con las palabras más frecuentes y significativos en los datos"
   ]
  },
  {
   "cell_type": "code",
   "execution_count": 430,
   "id": "69b44636-8c21-4a8b-9fdb-cf04a54ea85b",
   "metadata": {
    "tags": []
   },
   "outputs": [
    {
     "name": "stdout",
     "output_type": "stream",
     "text": [
      "{'palabras': dict_keys(['peruano', 'mundo', 'marca', 'concepto', 'país', 'producto', 'restaurante', 'cocina', 'perú', 'crear']), 'Frecuencia': dict_values([45, 24, 20, 19, 17, 17, 16, 13, 12, 10])}\n"
     ]
    }
   ],
   "source": [
    "a = dict(get_top_grams([discurso], n=10))\n",
    "a = {'palabras':a.keys(), 'Frecuencia':a.values()}\n",
    "print(a)"
   ]
  },
  {
   "cell_type": "markdown",
   "id": "afdedb29-68e4-4d85-b3d0-79705404e65f",
   "metadata": {},
   "source": [
    "#### Crear un DataFrame {(palabra:frecuencia)} a partir del diccionario de palabras frecuentes y significativas"
   ]
  },
  {
   "cell_type": "code",
   "execution_count": 431,
   "id": "8dee924a-52a7-4e0c-a660-1cdfbfa3165e",
   "metadata": {
    "tags": []
   },
   "outputs": [
    {
     "data": {
      "text/html": [
       "<div>\n",
       "<style scoped>\n",
       "    .dataframe tbody tr th:only-of-type {\n",
       "        vertical-align: middle;\n",
       "    }\n",
       "\n",
       "    .dataframe tbody tr th {\n",
       "        vertical-align: top;\n",
       "    }\n",
       "\n",
       "    .dataframe thead th {\n",
       "        text-align: right;\n",
       "    }\n",
       "</style>\n",
       "<table border=\"1\" class=\"dataframe\">\n",
       "  <thead>\n",
       "    <tr style=\"text-align: right;\">\n",
       "      <th></th>\n",
       "      <th>palabras</th>\n",
       "      <th>Frecuencia</th>\n",
       "    </tr>\n",
       "  </thead>\n",
       "  <tbody>\n",
       "    <tr>\n",
       "      <th>0</th>\n",
       "      <td>peruano</td>\n",
       "      <td>45</td>\n",
       "    </tr>\n",
       "    <tr>\n",
       "      <th>1</th>\n",
       "      <td>mundo</td>\n",
       "      <td>24</td>\n",
       "    </tr>\n",
       "    <tr>\n",
       "      <th>2</th>\n",
       "      <td>marca</td>\n",
       "      <td>20</td>\n",
       "    </tr>\n",
       "    <tr>\n",
       "      <th>3</th>\n",
       "      <td>concepto</td>\n",
       "      <td>19</td>\n",
       "    </tr>\n",
       "    <tr>\n",
       "      <th>4</th>\n",
       "      <td>país</td>\n",
       "      <td>17</td>\n",
       "    </tr>\n",
       "    <tr>\n",
       "      <th>5</th>\n",
       "      <td>producto</td>\n",
       "      <td>17</td>\n",
       "    </tr>\n",
       "    <tr>\n",
       "      <th>6</th>\n",
       "      <td>restaurante</td>\n",
       "      <td>16</td>\n",
       "    </tr>\n",
       "    <tr>\n",
       "      <th>7</th>\n",
       "      <td>cocina</td>\n",
       "      <td>13</td>\n",
       "    </tr>\n",
       "    <tr>\n",
       "      <th>8</th>\n",
       "      <td>perú</td>\n",
       "      <td>12</td>\n",
       "    </tr>\n",
       "    <tr>\n",
       "      <th>9</th>\n",
       "      <td>crear</td>\n",
       "      <td>10</td>\n",
       "    </tr>\n",
       "  </tbody>\n",
       "</table>\n",
       "</div>"
      ],
      "text/plain": [
       "      palabras  Frecuencia\n",
       "0      peruano          45\n",
       "1        mundo          24\n",
       "2        marca          20\n",
       "3     concepto          19\n",
       "4         país          17\n",
       "5     producto          17\n",
       "6  restaurante          16\n",
       "7       cocina          13\n",
       "8         perú          12\n",
       "9        crear          10"
      ]
     },
     "execution_count": 431,
     "metadata": {},
     "output_type": "execute_result"
    }
   ],
   "source": [
    "df = pd.DataFrame.from_dict(a)\n",
    "df"
   ]
  },
  {
   "cell_type": "markdown",
   "id": "c11f2700-e67b-4133-ab40-645dce984b4e",
   "metadata": {},
   "source": [
    "#### Crear una lista a partir de la columna 'palabras' del DataFrame de palabras más frecuentes y significativas"
   ]
  },
  {
   "cell_type": "code",
   "execution_count": 433,
   "id": "bd252650-b1b1-4a17-8cce-60ea110d7cb9",
   "metadata": {
    "tags": []
   },
   "outputs": [
    {
     "data": {
      "text/plain": [
       "['peruano',\n",
       " 'mundo',\n",
       " 'marca',\n",
       " 'concepto',\n",
       " 'país',\n",
       " 'producto',\n",
       " 'restaurante',\n",
       " 'cocina',\n",
       " 'perú',\n",
       " 'crear']"
      ]
     },
     "execution_count": 433,
     "metadata": {},
     "output_type": "execute_result"
    }
   ],
   "source": [
    "P = list(a['palabras'])\n",
    "P # servirá para elaborar una red de textos "
   ]
  },
  {
   "cell_type": "markdown",
   "id": "ef9cea1a-f97a-4468-bbae-9459bcd26d42",
   "metadata": {},
   "source": [
    "#### Generar un histograma a partir del diccionario de palabras más frecuentes y significativas"
   ]
  },
  {
   "cell_type": "code",
   "execution_count": 434,
   "id": "eebdd093-344c-47bb-85c3-e7dc032485eb",
   "metadata": {
    "tags": []
   },
   "outputs": [
    {
     "data": {
      "text/plain": [
       "(array([0, 1, 2, 3, 4, 5, 6, 7, 8, 9]),\n",
       " [Text(0, 0, 'peruano'),\n",
       "  Text(1, 0, 'mundo'),\n",
       "  Text(2, 0, 'marca'),\n",
       "  Text(3, 0, 'concepto'),\n",
       "  Text(4, 0, 'país'),\n",
       "  Text(5, 0, 'producto'),\n",
       "  Text(6, 0, 'restaurante'),\n",
       "  Text(7, 0, 'cocina'),\n",
       "  Text(8, 0, 'perú'),\n",
       "  Text(9, 0, 'crear')])"
      ]
     },
     "execution_count": 434,
     "metadata": {},
     "output_type": "execute_result"
    },
    {
     "data": {
      "image/png": "[encoded data removed]",
      "text/plain": [
       "<Figure size 640x480 with 1 Axes>"
      ]
     },
     "metadata": {},
     "output_type": "display_data"
    }
   ],
   "source": [
    "ax = df.plot.bar(x='palabras', y='Frecuencia', rot=0, title='Top palabras')\n",
    "plt.xticks(rotation=40)"
   ]
  },
  {
   "cell_type": "markdown",
   "id": "7c59da91-1594-457f-a15a-1d889ba5f173",
   "metadata": {
    "tags": []
   },
   "source": [
    "## Exploración de n-gramas"
   ]
  },
  {
   "cell_type": "markdown",
   "id": "52216056-207f-4b63-b89c-047608229c85",
   "metadata": {},
   "source": [
    "#### Definir la función get_top_bigrams"
   ]
  },
  {
   "cell_type": "code",
   "execution_count": 389,
   "id": "98f69792-4c79-445b-a929-89856771dea3",
   "metadata": {
    "tags": []
   },
   "outputs": [],
   "source": [
    "def get_top_bigrams(corpus, n=None):\n",
    "    vec = CountVectorizer(ngram_range=(2, 2)).fit(corpus)\n",
    "    bag_of_words = vec.transform(corpus)\n",
    "    sum_words = bag_of_words.sum(axis=0) \n",
    "    words_freq = [(word, sum_words[0, idx]) for word, idx in vec.vocabulary_.items()]\n",
    "    words_freq =sorted(words_freq, key = lambda x: x[1], reverse=True)\n",
    "    return words_freq[:n]"
   ]
  },
  {
   "cell_type": "markdown",
   "id": "d36a013d-a719-4375-b16c-47b03a6120bf",
   "metadata": {},
   "source": [
    "#### Utilizar la función get_top_bigrams y visualizar los resultados en un DataFrame"
   ]
  },
  {
   "cell_type": "code",
   "execution_count": 388,
   "id": "308fe725-97a8-49cf-9906-afe80a5002ad",
   "metadata": {
    "tags": []
   },
   "outputs": [
    {
     "data": {
      "text/html": [
       "<div>\n",
       "<style scoped>\n",
       "    .dataframe tbody tr th:only-of-type {\n",
       "        vertical-align: middle;\n",
       "    }\n",
       "\n",
       "    .dataframe tbody tr th {\n",
       "        vertical-align: top;\n",
       "    }\n",
       "\n",
       "    .dataframe thead th {\n",
       "        text-align: right;\n",
       "    }\n",
       "</style>\n",
       "<table border=\"1\" class=\"dataframe\">\n",
       "  <thead>\n",
       "    <tr style=\"text-align: right;\">\n",
       "      <th></th>\n",
       "      <th>palabra</th>\n",
       "      <th>Frecuencia</th>\n",
       "    </tr>\n",
       "  </thead>\n",
       "  <tbody>\n",
       "    <tr>\n",
       "      <th>0</th>\n",
       "      <td>el mundo</td>\n",
       "      <td>18</td>\n",
       "    </tr>\n",
       "    <tr>\n",
       "      <th>1</th>\n",
       "      <td>de los</td>\n",
       "      <td>15</td>\n",
       "    </tr>\n",
       "    <tr>\n",
       "      <th>2</th>\n",
       "      <td>de la</td>\n",
       "      <td>13</td>\n",
       "    </tr>\n",
       "    <tr>\n",
       "      <th>3</th>\n",
       "      <td>por el</td>\n",
       "      <td>12</td>\n",
       "    </tr>\n",
       "    <tr>\n",
       "      <th>4</th>\n",
       "      <td>no solo</td>\n",
       "      <td>11</td>\n",
       "    </tr>\n",
       "  </tbody>\n",
       "</table>\n",
       "</div>"
      ],
      "text/plain": [
       "    palabra  Frecuencia\n",
       "0  el mundo          18\n",
       "1    de los          15\n",
       "2     de la          13\n",
       "3    por el          12\n",
       "4   no solo          11"
      ]
     },
     "execution_count": 388,
     "metadata": {},
     "output_type": "execute_result"
    }
   ],
   "source": [
    "top_bigrams = dict(get_top_bigrams([discurso], n=5))\n",
    "b = {'palabra':top_bigrams.keys(), 'Frecuencia':top_bigrams.values()}\n",
    "df = pd.DataFrame.from_dict(b)\n",
    "df"
   ]
  },
  {
   "cell_type": "markdown",
   "id": "2566ceaf-d4b4-4c0e-b2bf-e48494a7be61",
   "metadata": {},
   "source": [
    "## Red de palabras del top 5 bi-gramas"
   ]
  },
  {
   "cell_type": "markdown",
   "id": "40816845-21df-41ba-9c52-48aea477da93",
   "metadata": {},
   "source": [
    "#### Elaborar una red de palabras a partir del DataFrame de top bi-gramas"
   ]
  },
  {
   "cell_type": "code",
   "execution_count": 387,
   "id": "f618016c-a8f4-4674-9efd-81923e8830ff",
   "metadata": {
    "tags": []
   },
   "outputs": [
    {
     "name": "stdout",
     "output_type": "stream",
     "text": [
      "Warning: When  cdn_resources is 'local' jupyter notebook has issues displaying graphics on chrome/safari. Use cdn_resources='in_line' or cdn_resources='remote' if you have issues viewing graphics in a notebook.\n",
      "bigrams.html\n"
     ]
    },
    {
     "data": {
      "text/html": [
       "\n",
       "        <iframe\n",
       "            width=\"500px\"\n",
       "            height=\"400px\"\n",
       "            src=\"bigrams.html\"\n",
       "            frameborder=\"0\"\n",
       "            allowfullscreen\n",
       "            \n",
       "        ></iframe>\n",
       "        "
      ],
      "text/plain": [
       "<IPython.lib.display.IFrame at 0x29efcb250>"
      ]
     },
     "execution_count": 387,
     "metadata": {},
     "output_type": "execute_result"
    },
    {
     "data": {
      "text/plain": [
       "<Figure size 400x400 with 0 Axes>"
      ]
     },
     "metadata": {},
     "output_type": "display_data"
    }
   ],
   "source": [
    "B = []\n",
    "for b in top_bigrams.keys():\n",
    "    r = b.split(' ')\n",
    "    B = B + [(r[0],r[1])]\n",
    "\n",
    "plt.figure(figsize=(4,4))\n",
    "G = nx.DiGraph()\n",
    "G.add_edges_from(B)\n",
    "net = Network(notebook = True, \n",
    "              width = \"500px\",\n",
    "              height=\"400px\",\n",
    "              bgcolor = \"white\",\n",
    "             font_color = \"black\",\n",
    "             directed=True)\n",
    "\n",
    "\n",
    "net.from_nx(G)\n",
    "net.show(\"bigrams.html\")"
   ]
  },
  {
   "cell_type": "markdown",
   "id": "b2a14a84-6d7c-4c3d-bc64-71d537945751",
   "metadata": {
    "tags": []
   },
   "source": [
    "## Red de palabras (Palabras significativas <---> verbos) "
   ]
  },
  {
   "cell_type": "markdown",
   "id": "39eadb73-9c9c-43ac-b111-fcdfe4d7fa4d",
   "metadata": {},
   "source": [
    "#### Realizar un diccionar de tuplas: vincula las frases nominales (que incluyen los palabras más frecuentes y significativas) y los verbos"
   ]
  },
  {
   "cell_type": "code",
   "execution_count": 441,
   "id": "cdaef154-4119-41b9-97da-010a01658519",
   "metadata": {
    "tags": []
   },
   "outputs": [
    {
     "name": "stdout",
     "output_type": "stream",
     "text": [
      "[('país', 'pensar'), ('producto', 'estar'), ('país', 'comprar'), ('producto', 'comprar'), ('mundo', 'expandir'), ('mundo', 'comprar'), ('perú', 'comprar'), ('producto', 'crear'), ('mundo', 'exportar'), ('cocina', 'comprar'), ('cocina', 'comprar'), ('concepto', 'crear'), ('producto', 'convertir'), ('producto', 'convertir'), ('concepto', 'codear'), ('mundo', 'expandir'), ('concepto', 'indicar'), ('restaurante', 'invertir'), ('perú', 'invertir'), ('cocina', 'vivir'), ('perú', 'visitar'), ('restaurante', 'crear'), ('producto', 'disponer'), ('restaurante', 'invertir'), ('marca', 'rechazar'), ('concepto', 'decidir'), ('marca', 'necesitar'), ('concepto', 'desarrollar'), ('restaurante', 'empezar'), ('restaurante', 'definir'), ('marca', 'preparar'), ('producto', 'devaluar'), ('cocina', 'devaluar'), ('restaurante', 'llamar'), ('mundo', 'encontrar'), ('concepto', 'crear'), ('concepto', 'abrir'), ('marca', 'esperar'), ('mundo', 'expandecir'), ('marca', 'compita'), ('marca', 'hacer'), ('perú', 'hacer'), ('marca', 'construir'), ('mundo', 'vender'), ('país', 'hacer'), ('cocina', 'hacer'), ('marca', 'hacer'), ('restaurante', 'hacer'), ('producto', 'generar'), ('marca', 'recibir'), ('mundo', 'salir'), ('restaurante', 'conquistar'), ('concepto', 'introducir'), ('producto', 'entrar'), ('concepto', 'entrar'), ('producto', 'contar'), ('producto', 'contar'), ('restaurante', 'necesitar'), ('país', 'traer'), ('restaurante', 'imaginar'), ('restaurante', 'encontrar'), ('país', 'padecer'), ('producto', 'exportar'), ('concepto', 'imaginar'), ('marca', 'dar'), ('concepto', 'elaborar'), ('mundo', 'salir'), ('país', 'representar'), ('mundo', 'vender'), ('producto', 'salir'), ('país', 'construir'), ('país', 'reconstruir'), ('mundo', 'abrir'), ('perú', 'necesitar')]\n"
     ]
    }
   ],
   "source": [
    "doc=nlp(preprocess_o(discurso.lower()))\n",
    "\n",
    "D = []\n",
    "for palabra in doc.noun_chunks:\n",
    "    \n",
    "    if palabra.root.head.text in verbos and palabra.root.text in P:\n",
    "        D = D + [(palabra.root.text, palabra.root.head.text)]\n",
    "print(D)"
   ]
  },
  {
   "cell_type": "markdown",
   "id": "58a2476a-48f5-482b-a486-dacbe9cd9eca",
   "metadata": {},
   "source": [
    "#### Crear una red de palabras a partir del diccionario de tuplas D"
   ]
  },
  {
   "cell_type": "code",
   "execution_count": 438,
   "id": "f84d264f-900b-4942-b0e2-7580de8fb4f3",
   "metadata": {
    "tags": []
   },
   "outputs": [
    {
     "name": "stdout",
     "output_type": "stream",
     "text": [
      "Warning: When  cdn_resources is 'local' jupyter notebook has issues displaying graphics on chrome/safari. Use cdn_resources='in_line' or cdn_resources='remote' if you have issues viewing graphics in a notebook.\n",
      "red.html\n"
     ]
    },
    {
     "data": {
      "text/html": [
       "\n",
       "        <iframe\n",
       "            width=\"1000px\"\n",
       "            height=\"900px\"\n",
       "            src=\"red.html\"\n",
       "            frameborder=\"0\"\n",
       "            allowfullscreen\n",
       "            \n",
       "        ></iframe>\n",
       "        "
      ],
      "text/plain": [
       "<IPython.lib.display.IFrame at 0x299ac9bd0>"
      ]
     },
     "execution_count": 438,
     "metadata": {},
     "output_type": "execute_result"
    },
    {
     "data": {
      "text/plain": [
       "<Figure size 1200x1200 with 0 Axes>"
      ]
     },
     "metadata": {},
     "output_type": "display_data"
    }
   ],
   "source": [
    "plt.figure(figsize=(12,12))\n",
    "G = nx.Graph()\n",
    "G.add_edges_from(D)\n",
    "\n",
    "net = Network(notebook = True, \n",
    "              width = \"1000px\",\n",
    "              height=\"900px\",\n",
    "              bgcolor = \"white\",\n",
    "             font_color = \"black\")\n",
    "\n",
    "node_degree = dict(G.degree)\n",
    "\n",
    "nx.set_node_attributes(G,node_degree,'size')\n",
    "\n",
    "net.from_nx(G)\n",
    "net.show(\"red.html\")"
   ]
  },
  {
   "cell_type": "markdown",
   "id": "d466c18c-23b9-441c-923d-3f74fd4a2152",
   "metadata": {
    "tags": []
   },
   "source": [
    "# Bibliografía"
   ]
  },
  {
   "cell_type": "markdown",
   "id": "0e52986f-1884-468c-9304-edc757502662",
   "metadata": {},
   "source": [
    "*NLTK*\n",
    "Bird, S., Klein, E., & Loper, E. (2009). Natural language processing with Python: analyzing text with the natural language toolkit. \" O'Reilly Media, Inc.\". \n",
    "\n",
    "*Pandas*\n",
    "Wes McKinney. Data Structures for Statistical Computing in Python, Proceedings of the 9th Python in Science Conference, 51-56 (2010)\n",
    "\n",
    "*Spacy*\n",
    "Honnibal, M., & Montani, I. (2017). spaCy 2: Natural language understanding with Bloom embeddings, convolutional neural networks and incremental parsing.\n",
    "\n",
    "*Numpy*\n",
    "Charles R. Harris, K. Jarrod Millman, Stéfan J. van der Walt, Ralf Gommers, Pauli Virtanen, David Cournapeau, Eric Wieser, Julian Taylor, Sebastian Berg, Nathaniel J. Smith, Robert Kern, Matti Picus, Stephan Hoyer, Marten H. van Kerkwijk, Matthew Brett, Allan Haldane, Jaime Fernández del Río, Mark Wiebe, Pearu Peterson, Pierre Gérard-Marchant, Kevin Sheppard, Tyler Reddy, Warren Weckesser, Hameer Abbasi, Christoph Gohlke & Travis E. Oliphant. Array programming with NumPy, Nature, 585, 357–362 (2020), DOI:10.1038/s41586-020-2649-2\n",
    "\n",
    "*Networkx*\n",
    "Hagberg, A., Swart, P., & S Chult, D. (2008). Exploring network structure, dynamics, and function using NetworkX (No. LA-UR-08-05495; LA-UR-08-5495). Los Alamos National Lab.(LANL), Los Alamos, NM (United States).\n",
    "\n",
    "*Matplotlib*\n",
    "Hunter, J. D. (2007). Matplotlib: A 2D graphics environment. Computing in science & engineering, 9(03), 90-95.\n"
   ]
  }
 ],
 "metadata": {
  "kernelspec": {
   "display_name": "Python 3 (ipykernel)",
   "language": "python",
   "name": "python3"
  },
  "language_info": {
   "codemirror_mode": {
    "name": "ipython",
    "version": 3
   },
   "file_extension": ".py",
   "mimetype": "text/x-python",
   "name": "python",
   "nbconvert_exporter": "python",
   "pygments_lexer": "ipython3",
   "version": "3.11.3"
  }
 },
 "nbformat": 4,
 "nbformat_minor": 5
}
