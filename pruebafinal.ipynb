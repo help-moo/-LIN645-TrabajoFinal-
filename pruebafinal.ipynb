{
 "cells": [
  {
   "cell_type": "code",
   "execution_count": null,
   "id": "aaae1fef-e309-4485-89fb-bf4af6de2553",
   "metadata": {
    "tags": []
   },
   "outputs": [],
   "source": [
    "discurso = open('Data/discurso_gaston.txt')\n",
    "discurso = discurso.read()"
   ]
  },
  {
   "cell_type": "code",
   "execution_count": null,
   "id": "1b672e84-dc4f-448c-9dbc-fdae913a00b2",
   "metadata": {
    "tags": []
   },
   "outputs": [],
   "source": [
    "discurso"
   ]
  },
  {
   "cell_type": "code",
   "execution_count": 3,
   "id": "ea5eb92e-4d07-4977-9895-08bae729c13d",
   "metadata": {
    "tags": []
   },
   "outputs": [],
   "source": [
    "#### \"Limpiar\" ####\n",
    "\n",
    "# Creamos la lista \"borrar\" con los str que queremos borrar del texto #\n",
    "borrar = [\"1\",\"2\",\"3\",\"4\",\"5\",\"6\",\"7\",\"8\",\"9\",\"10\",\" – \",\"_\",\"()\",\"\\n\",\"0\",\"´\",\",\",\"©\",\"/\",\".\",\":\",\";\"]\n",
    "\n",
    "\n",
    "for borrado in borrar:\n",
    "    discurso = discursoo.lower().replace(borrado,\"\") # borrar cada elemento de la lista \"borrar\" en discurso"
   ]
  },
  {
   "cell_type": "code",
   "execution_count": null,
   "id": "bd4d4b49-1590-4e06-bdcd-e6f82d58abbf",
   "metadata": {
    "tags": []
   },
   "outputs": [],
   "source": [
    "import nltk\n",
    "nltk.download()\n",
    "nltk.download('punkt')\n",
    "from nltk.tokenize import sent_tokenize, word_tokenize\n",
    "discurso = sent_tokenize(discurso)\n",
    "dicurso"
   ]
  },
  {
   "cell_type": "code",
   "execution_count": null,
   "id": "1d3f98b8-d9b1-4175-9ccc-eb11bd4b3f7a",
   "metadata": {
    "tags": []
   },
   "outputs": [],
   "source": [
    "import nltk\n",
    "nltk.download('punkt')\n",
    "from nltk import sent_tokenize\n",
    "discurso = sent_tokenize(discursox)"
   ]
  },
  {
   "cell_type": "code",
   "execution_count": 2,
   "id": "bba79f6f-52d2-40d4-badd-f39fc2ce5369",
   "metadata": {
    "tags": []
   },
   "outputs": [
    {
     "name": "stdout",
     "output_type": "stream",
     "text": [
      "Collecting es-dep-news-trf==3.7.2\n",
      "  Downloading https://github.com/explosion/spacy-models/releases/download/es_dep_news_trf-3.7.2/es_dep_news_trf-3.7.2-py3-none-any.whl (407.8 MB)\n",
      "\u001b[2K     \u001b[90m━━━━━━━━━━━━━━━━━━━━━━━━━━━━━━━━━━━━━━━\u001b[0m \u001b[32m407.8/407.8 MB\u001b[0m \u001b[31m4.2 MB/s\u001b[0m eta \u001b[36m0:00:00\u001b[0m00:01\u001b[0m00:02\u001b[0m\n",
      "\u001b[?25hRequirement already satisfied: spacy<3.8.0,>=3.7.0 in /Library/Frameworks/Python.framework/Versions/3.11/lib/python3.11/site-packages (from es-dep-news-trf==3.7.2) (3.7.2)\n",
      "Requirement already satisfied: spacy-curated-transformers<0.3.0,>=0.2.0 in /Library/Frameworks/Python.framework/Versions/3.11/lib/python3.11/site-packages (from es-dep-news-trf==3.7.2) (0.2.1)\n",
      "Requirement already satisfied: spacy-legacy<3.1.0,>=3.0.11 in /Library/Frameworks/Python.framework/Versions/3.11/lib/python3.11/site-packages (from spacy<3.8.0,>=3.7.0->es-dep-news-trf==3.7.2) (3.0.12)\n",
      "Requirement already satisfied: spacy-loggers<2.0.0,>=1.0.0 in /Library/Frameworks/Python.framework/Versions/3.11/lib/python3.11/site-packages (from spacy<3.8.0,>=3.7.0->es-dep-news-trf==3.7.2) (1.0.5)\n",
      "Requirement already satisfied: murmurhash<1.1.0,>=0.28.0 in /Library/Frameworks/Python.framework/Versions/3.11/lib/python3.11/site-packages (from spacy<3.8.0,>=3.7.0->es-dep-news-trf==3.7.2) (1.0.10)\n",
      "Requirement already satisfied: cymem<2.1.0,>=2.0.2 in /Library/Frameworks/Python.framework/Versions/3.11/lib/python3.11/site-packages (from spacy<3.8.0,>=3.7.0->es-dep-news-trf==3.7.2) (2.0.8)\n",
      "Requirement already satisfied: preshed<3.1.0,>=3.0.2 in /Library/Frameworks/Python.framework/Versions/3.11/lib/python3.11/site-packages (from spacy<3.8.0,>=3.7.0->es-dep-news-trf==3.7.2) (3.0.9)\n",
      "Requirement already satisfied: thinc<8.3.0,>=8.1.8 in /Library/Frameworks/Python.framework/Versions/3.11/lib/python3.11/site-packages (from spacy<3.8.0,>=3.7.0->es-dep-news-trf==3.7.2) (8.2.1)\n",
      "Requirement already satisfied: wasabi<1.2.0,>=0.9.1 in /Library/Frameworks/Python.framework/Versions/3.11/lib/python3.11/site-packages (from spacy<3.8.0,>=3.7.0->es-dep-news-trf==3.7.2) (1.1.2)\n",
      "Requirement already satisfied: srsly<3.0.0,>=2.4.3 in /Library/Frameworks/Python.framework/Versions/3.11/lib/python3.11/site-packages (from spacy<3.8.0,>=3.7.0->es-dep-news-trf==3.7.2) (2.4.8)\n",
      "Requirement already satisfied: catalogue<2.1.0,>=2.0.6 in /Library/Frameworks/Python.framework/Versions/3.11/lib/python3.11/site-packages (from spacy<3.8.0,>=3.7.0->es-dep-news-trf==3.7.2) (2.0.10)\n",
      "Requirement already satisfied: weasel<0.4.0,>=0.1.0 in /Library/Frameworks/Python.framework/Versions/3.11/lib/python3.11/site-packages (from spacy<3.8.0,>=3.7.0->es-dep-news-trf==3.7.2) (0.3.4)\n",
      "Requirement already satisfied: typer<0.10.0,>=0.3.0 in /Library/Frameworks/Python.framework/Versions/3.11/lib/python3.11/site-packages (from spacy<3.8.0,>=3.7.0->es-dep-news-trf==3.7.2) (0.9.0)\n",
      "Requirement already satisfied: smart-open<7.0.0,>=5.2.1 in /Library/Frameworks/Python.framework/Versions/3.11/lib/python3.11/site-packages (from spacy<3.8.0,>=3.7.0->es-dep-news-trf==3.7.2) (6.4.0)\n",
      "Requirement already satisfied: tqdm<5.0.0,>=4.38.0 in /Users/hosuenuez/Library/Python/3.11/lib/python/site-packages (from spacy<3.8.0,>=3.7.0->es-dep-news-trf==3.7.2) (4.66.1)\n",
      "Requirement already satisfied: requests<3.0.0,>=2.13.0 in /Library/Frameworks/Python.framework/Versions/3.11/lib/python3.11/site-packages (from spacy<3.8.0,>=3.7.0->es-dep-news-trf==3.7.2) (2.28.2)\n",
      "Requirement already satisfied: pydantic!=1.8,!=1.8.1,<3.0.0,>=1.7.4 in /Library/Frameworks/Python.framework/Versions/3.11/lib/python3.11/site-packages (from spacy<3.8.0,>=3.7.0->es-dep-news-trf==3.7.2) (2.5.2)\n",
      "Requirement already satisfied: jinja2 in /Library/Frameworks/Python.framework/Versions/3.11/lib/python3.11/site-packages (from spacy<3.8.0,>=3.7.0->es-dep-news-trf==3.7.2) (3.1.2)\n",
      "Requirement already satisfied: setuptools in /Library/Frameworks/Python.framework/Versions/3.11/lib/python3.11/site-packages (from spacy<3.8.0,>=3.7.0->es-dep-news-trf==3.7.2) (69.0.2)\n",
      "Requirement already satisfied: packaging>=20.0 in /Library/Frameworks/Python.framework/Versions/3.11/lib/python3.11/site-packages (from spacy<3.8.0,>=3.7.0->es-dep-news-trf==3.7.2) (23.1)\n",
      "Requirement already satisfied: langcodes<4.0.0,>=3.2.0 in /Library/Frameworks/Python.framework/Versions/3.11/lib/python3.11/site-packages (from spacy<3.8.0,>=3.7.0->es-dep-news-trf==3.7.2) (3.3.0)\n",
      "Requirement already satisfied: numpy>=1.19.0 in /Library/Frameworks/Python.framework/Versions/3.11/lib/python3.11/site-packages (from spacy<3.8.0,>=3.7.0->es-dep-news-trf==3.7.2) (1.26.2)\n",
      "Requirement already satisfied: curated-transformers<0.2.0,>=0.1.0 in /Library/Frameworks/Python.framework/Versions/3.11/lib/python3.11/site-packages (from spacy-curated-transformers<0.3.0,>=0.2.0->es-dep-news-trf==3.7.2) (0.1.1)\n",
      "Requirement already satisfied: curated-tokenizers<0.1.0,>=0.0.7 in /Library/Frameworks/Python.framework/Versions/3.11/lib/python3.11/site-packages (from spacy-curated-transformers<0.3.0,>=0.2.0->es-dep-news-trf==3.7.2) (0.0.8)\n",
      "Requirement already satisfied: torch>=1.12.0 in /Library/Frameworks/Python.framework/Versions/3.11/lib/python3.11/site-packages (from spacy-curated-transformers<0.3.0,>=0.2.0->es-dep-news-trf==3.7.2) (2.1.1)\n",
      "Requirement already satisfied: regex>=2022 in /Users/hosuenuez/Library/Python/3.11/lib/python/site-packages (from curated-tokenizers<0.1.0,>=0.0.7->spacy-curated-transformers<0.3.0,>=0.2.0->es-dep-news-trf==3.7.2) (2023.10.3)\n",
      "Requirement already satisfied: annotated-types>=0.4.0 in /Library/Frameworks/Python.framework/Versions/3.11/lib/python3.11/site-packages (from pydantic!=1.8,!=1.8.1,<3.0.0,>=1.7.4->spacy<3.8.0,>=3.7.0->es-dep-news-trf==3.7.2) (0.6.0)\n",
      "Requirement already satisfied: pydantic-core==2.14.5 in /Library/Frameworks/Python.framework/Versions/3.11/lib/python3.11/site-packages (from pydantic!=1.8,!=1.8.1,<3.0.0,>=1.7.4->spacy<3.8.0,>=3.7.0->es-dep-news-trf==3.7.2) (2.14.5)\n",
      "Requirement already satisfied: typing-extensions>=4.6.1 in /Library/Frameworks/Python.framework/Versions/3.11/lib/python3.11/site-packages (from pydantic!=1.8,!=1.8.1,<3.0.0,>=1.7.4->spacy<3.8.0,>=3.7.0->es-dep-news-trf==3.7.2) (4.8.0)\n",
      "Requirement already satisfied: charset-normalizer<4,>=2 in /Library/Frameworks/Python.framework/Versions/3.11/lib/python3.11/site-packages (from requests<3.0.0,>=2.13.0->spacy<3.8.0,>=3.7.0->es-dep-news-trf==3.7.2) (3.1.0)\n",
      "Requirement already satisfied: idna<4,>=2.5 in /Library/Frameworks/Python.framework/Versions/3.11/lib/python3.11/site-packages (from requests<3.0.0,>=2.13.0->spacy<3.8.0,>=3.7.0->es-dep-news-trf==3.7.2) (3.4)\n",
      "Requirement already satisfied: urllib3<1.27,>=1.21.1 in /Library/Frameworks/Python.framework/Versions/3.11/lib/python3.11/site-packages (from requests<3.0.0,>=2.13.0->spacy<3.8.0,>=3.7.0->es-dep-news-trf==3.7.2) (1.26.15)\n",
      "Requirement already satisfied: certifi>=2017.4.17 in /Library/Frameworks/Python.framework/Versions/3.11/lib/python3.11/site-packages (from requests<3.0.0,>=2.13.0->spacy<3.8.0,>=3.7.0->es-dep-news-trf==3.7.2) (2023.11.17)\n",
      "Requirement already satisfied: blis<0.8.0,>=0.7.8 in /Library/Frameworks/Python.framework/Versions/3.11/lib/python3.11/site-packages (from thinc<8.3.0,>=8.1.8->spacy<3.8.0,>=3.7.0->es-dep-news-trf==3.7.2) (0.7.11)\n",
      "Requirement already satisfied: confection<1.0.0,>=0.0.1 in /Library/Frameworks/Python.framework/Versions/3.11/lib/python3.11/site-packages (from thinc<8.3.0,>=8.1.8->spacy<3.8.0,>=3.7.0->es-dep-news-trf==3.7.2) (0.1.4)\n",
      "Requirement already satisfied: filelock in /Library/Frameworks/Python.framework/Versions/3.11/lib/python3.11/site-packages (from torch>=1.12.0->spacy-curated-transformers<0.3.0,>=0.2.0->es-dep-news-trf==3.7.2) (3.13.1)\n",
      "Requirement already satisfied: sympy in /Library/Frameworks/Python.framework/Versions/3.11/lib/python3.11/site-packages (from torch>=1.12.0->spacy-curated-transformers<0.3.0,>=0.2.0->es-dep-news-trf==3.7.2) (1.12)\n",
      "Requirement already satisfied: networkx in /Library/Frameworks/Python.framework/Versions/3.11/lib/python3.11/site-packages (from torch>=1.12.0->spacy-curated-transformers<0.3.0,>=0.2.0->es-dep-news-trf==3.7.2) (3.2.1)\n",
      "Requirement already satisfied: fsspec in /Library/Frameworks/Python.framework/Versions/3.11/lib/python3.11/site-packages (from torch>=1.12.0->spacy-curated-transformers<0.3.0,>=0.2.0->es-dep-news-trf==3.7.2) (2023.12.1)\n",
      "Requirement already satisfied: click<9.0.0,>=7.1.1 in /Users/hosuenuez/Library/Python/3.11/lib/python/site-packages (from typer<0.10.0,>=0.3.0->spacy<3.8.0,>=3.7.0->es-dep-news-trf==3.7.2) (8.1.7)\n",
      "Requirement already satisfied: cloudpathlib<0.17.0,>=0.7.0 in /Library/Frameworks/Python.framework/Versions/3.11/lib/python3.11/site-packages (from weasel<0.4.0,>=0.1.0->spacy<3.8.0,>=3.7.0->es-dep-news-trf==3.7.2) (0.16.0)\n",
      "Requirement already satisfied: MarkupSafe>=2.0 in /Library/Frameworks/Python.framework/Versions/3.11/lib/python3.11/site-packages (from jinja2->spacy<3.8.0,>=3.7.0->es-dep-news-trf==3.7.2) (2.1.2)\n",
      "Requirement already satisfied: mpmath>=0.19 in /Library/Frameworks/Python.framework/Versions/3.11/lib/python3.11/site-packages (from sympy->torch>=1.12.0->spacy-curated-transformers<0.3.0,>=0.2.0->es-dep-news-trf==3.7.2) (1.3.0)\n",
      "\u001b[38;5;2m✔ Download and installation successful\u001b[0m\n",
      "You can now load the package via spacy.load('es_dep_news_trf')\n"
     ]
    }
   ],
   "source": [
    "import spacy\n",
    "spacy.cli.download(\"es_dep_news_trf\")"
   ]
  },
  {
   "cell_type": "code",
   "execution_count": 7,
   "id": "9bb150df-b705-4506-9cf2-b0e262f2f13c",
   "metadata": {
    "tags": []
   },
   "outputs": [
    {
     "data": {
      "text/plain": [
       "['Si bien podríamos pensar que los recursos naturales con los que cuenta nuestro país han sido una bendición, la historia nos ha enseñado siempre lo contrario.',\n",
       " 'Alguna vez fue el caucho; otra vez, el guano; hoy son los minerales.',\n",
       " 'Sin embargo, cuando estos se acaban, con ellos termina un ciclo económico de bonanza y aparece esa odiosa debacle e incertidumbre que destruye democracias y da origen a falsos caudillos.',\n",
       " 'Nos queda claro, entonces, que el crecimiento, la estabilidad y la riqueza de un país nunca estará del lado de los recursos naturales, sino de los productos que se elaboren con ellos.',\n",
       " 'Por ello, los suizos compran recursos como el cacao o el oro y con ellos elaboran chocolates, joyas o relojes; y, por ello, los japoneses y los coreanos compran minerales para luego transformarlos en electrodomésticos y automóviles.',\n",
       " 'Los ciudadanos de todos los países industrializados han entendido que la gran riqueza no está solo en la elaboración de productos genéricos, sino en la creación de marcas cuyo reconocimiento en términos de calidad les permite expandirse por todo el mundo.',\n",
       " 'Por ello, Suiza compró cacao y oro, y sus ciudadanos los convirtieron en chocolates Nestlé y en relojes Rolex; Japón y Corea compraron minerales y su gente los convirtió en Toyota, Nissan o Samsung; y en épocas aún más recientes, el norteamericano Howard Shultz compró café por el mundo y se lo devolvió convertido en Starbucks.',\n",
       " 'Pues bien, la gastronomía peruana hasta hace muy poco ha sido justamente eso: un gran recurso.',\n",
       " 'En efecto, ha sido un recurso muy querido por todos, un orgullo para todos, y muy apreciado por algunos extranjeros que descubrían anecdóticamente sus bondades en visitas de trabajo por el Perú.',\n",
       " 'Sin embargo, nuestra gastronomía no es afortunadamente solo un gran recurso, sino una suma de cocinas y conceptos que, en muchos casos, aún esconden un gran potencial.',\n",
       " 'Una vez desempolvado tal potencial y luego de haberse creado el marco conceptual y puesto en valor, los productos de la gastronomía peruana podrían ser exportados por todo el mundo.',\n",
       " 'Así es.',\n",
       " 'Detrás de nuestra entrañable cocina criolla, de nuestras pollerías, de los chifitas de barrio, de la cocina novoandina, de las picanterías arequipeñas, de los anticuchos, de los sánguches, de la cocina nikkei o de las cebicherias, existen oportunidades inmensas de crear conceptos que trasciendan su ámbito local para convertirse en productos, productos peruanos de exportación que no solo aspiren a codearse con conceptos ya instalados globalmente como pizzerías, hamburgueserías, sushi bares o taquerías mejicanas, sino que, además, generen al Perú enormes beneficios tanto económicos como de marca país.',\n",
       " 'Hasta aquí creo que podemos entender cómo nuestra gastronomía, un gran recurso, con productos con gran potencial, está lista para expandirse por el mundo; sin embargo, algo falta para el despegue final.',\n",
       " '¿Qué sucede que aún no despegamos como quisiéramos?',\n",
       " 'Todos los estudios de mercado hechos fuera del Perú por empresas internacionales indican que el concepto culinario más en alza en el mundo es el peruano, que la demanda del consumidor internacional por conceptos peruanos rebasa largamente a su oferta, que invertir en un restaurante peruano bueno es invertir sin riesgo en cualquier ciudad norteamericana o europea.',\n",
       " 'Dentro del Perú hemos vivido una revolución editorial y educativa en términos culinarios que nos ha llevado a publicar en los últimos diez años más libros de cocina que en toda nuestra historia editorial previa.',\n",
       " 'En Lima se han abierto, en los últimos 5 años, 22 escuelas de cocina reconocidas oficialmente, lo que la convierte en la ciudad con más escuelas de cocina en el mundo.',\n",
       " 'Este año el 30 por ciento de los turistas que visitó el Perú para ir a Cuzco decidió quedarse en Lima un par de días adicionales solo por todo lo que había leído y escuchado acerca de su gastronomía.',\n",
       " 'Los periodistas más importantes de todo el mundo son enviados a cubrir esta revolución culinaria y publican artículos y emiten programas de TV deslumbrados por lo que ellos consideran la inminente invasión peruana de sabores por todo el mundo.',\n",
       " '¿Por qué a pesar de todos esos indicadores aún no se crean restaurantes peruanos en todas partes?',\n",
       " 'La respuesta es más que evidente.',\n",
       " 'Tenemos el recurso, disponemos de los productos.',\n",
       " '¿Qué nos falta?',\n",
       " 'Las marcas.',\n",
       " 'Las marcas peruanas de productos culinarios peruanos por el mundo.',\n",
       " 'Allí está la clave.',\n",
       " 'Algunos dirán que nos falta también el capital, los recursos financieros.',\n",
       " 'Nosotros podemos rebatir ello contándoles que recibimos casi diariamente propuestas de inversionistas, desde Arabia Saudí hasta Australia, para invertir en restaurantes peruanos, propuestas que en su mayoría rechazamos porque creemos firmemente que todo tiene su momento, su espacio, su oportunidad.',\n",
       " 'Marcas peruanas, eso es lo que los cocineros y empresarios peruanos tenemos que lograr para que esos inversionistas no tengan una, sino muchas opciones para escoger a la hora de decidirse por uno u otro concepto.',\n",
       " 'Necesitamos marcas que hayan desarrollado internamente todo aquello que hace que una pequeña gran idea, un pequeño gran sueño se traduzca en una filosofía poderosa que vaya creciendo poco a poco hasta convertirse en un modelo para estudiar, imitar, admirar, e incite a invertir.',\n",
       " 'En el caso de nuestra organización hemos venido desarrollando conceptos culinarios cuya aspiración, desde el comienzo, fue no solo su internacionalización, sino también su segmentación, pues entendimos desde el comienzo que los restaurantes no son escenarios genéricos sino espacios para públicos distintos, para momentos distintos, para economías distintas.',\n",
       " 'Cuando empezamos con el restaurante “Astrid y Gastón” hace doce años, lo hicimos con un capital de 45,000 dólares, prestados por familiares y amigos sin mucha fe, pero con un gran cariño hacia nosotros.',\n",
       " 'Al cabo de 5 años, y luego de haber encontrado finalmente nuestra filosofía, después de habernos definido conceptualmente como restaurante de alta cocina peruana, lo que nos permitió ubicarnos en la cúspide de la pirámide de segmentación del mercado culinario, hicimos nuestra primera incursión fuera del país, en Chile, donde la cocina peruana ya tenía un gran reconocimiento.',\n",
       " 'Los premios no tardaron en llegar, y luego vinieron Colombia, Ecuador, y, ahora, Venezuela, Panamá y México.',\n",
       " 'Hoy cada uno de los locales ubicados en los mencionados países no solo es rentable, sino que, además, es reconocido como líder y referente de alta cocina en cada lugar.',\n",
       " 'Así es: alta cocina peruana codo a codo con la francesa, la española, la italiana, etc.',\n",
       " 'Como en algunos casos, las revoluciones empiezan de arriba hacia abajo, esto nos ha preparado el terreno para que nuestras otras marcas puedan ingresar con facilidad en otros segmentos avaladas por el prestigio generado por la anterior.',\n",
       " 'Es más fácil conquistar corazones haciendo alta cocina y luego sánguches que haciendo sánguches y luego alta cocina.',\n",
       " 'Después nació “Tanta”, al que ubicamos dentro del segmento del restaurante familiar y lo definimos como el bistró o el deli de los peruanos, el lugar donde quien no podía pagar “Astrid y Gastón” podía sentir la misma filosofía y el mismo espíritu, pero en un ambiente informal y con precios asequibles, siempre con los sabores peruanos, pero siempre con originalidad, sofisticación y espíritu artesanal.',\n",
       " 'Para nosotros hacer “Tanta” fue de alguna manera una catarsis, pues cada vez más “Astrid y Gastón” nos dejaba esa sensación de ser cocineros de elites pequeñas en un país de muchos y “Tanta” significaba justamente liberarnos de esas ataduras y poder mostrar a muchos todo aquello que queríamos decir con nuestro trabajo.',\n",
       " 'Hoy tenemos tres locales en Lima, abrimos uno más este año y hemos terminado ya el proceso de elaboración de manuales, con lo cual ya está listo para ser exportado.',\n",
       " 'Luego vino “La Mar”.',\n",
       " 'Si bien tengo muchas cebicherías favoritas, siempre sentí que todas carecían de una filosofía total que les permitiera competir con liderazgo en cualquier parte del mundo.',\n",
       " 'Sentía mucha pena al ver cómo los peruanos habíamos devaluado un producto tan atractivo y sofisticado como nuestra cocina marina, relegándolo a categoría de “chingana” con sillas de plástico, sin servicio y con otras carencias notables.',\n",
       " 'Y lo que era más grave, cuando algún empresario decidía mejorar sus instalaciones o mejorar el servicio, automáticamente quitaba el cartel de cebichería, para llamarlo restaurante de pescados y mariscos, sin darse cuenta de que era justamente ese nombre su mayor virtud, la que lo diferenciaba de las demás ofertas marinas que encontramos por el mundo.',\n",
       " 'Cebichería, peruvian seafood, eso fue lo que imaginamos como una realidad difundida por todas partes.',\n",
       " 'Y, claro, lo demás era simple: había que aprovechar la enorme popularidad del cebiche por el mundo y crear una cebichería como concepto ubicado en el segmento étnico que compitiera internacionalmente con los sushi bares japoneses, con la convicción de que no eran ni mejores ni peores, sino simplemente distintos, con la diferencia de que frente a la solemnidad casi monacal del sushi bar, estaba el espíritu divertido y desenfadado de la cebichería.',\n",
       " 'Había que mantener los elementos identificadores: la caña, el viento, la luz, pero con diseño.',\n",
       " 'También era necesario mejorar y estandarizar la materia prima, crear una filosofía de servicio acorde con el ambiente alegre que debía de prevalecer, conservar los sabores con detalles de imaginación, y contar esa historia real de que los peruanos amamos el cebiche, y la cebichería es nuestro templo en todas partes.',\n",
       " 'Hoy estamos abriendo el segundo “La Mar” en Lima y ya hemos vendido franquicias de este concepto en México, toda Centroamérica y el Caribe, y Brasil.',\n",
       " 'Para el año 2007 esperamos iniciar las actividades de esta marca en Inglaterra y Washington.',\n",
       " 'Creemos firmemente, por muchas razones, que la cebichería peruana es el concepto que se expandirá más rápidamente por todo el mundo.',\n",
       " '¿Cuál es nuestra cuarta marca?',\n",
       " 'Cuando uno pregunta a diez peruanos si les gusta el pan con chicharrón, los diez dicen que sí.',\n",
       " 'Cuando uno pregunta si les gustan las hamburguesas, la cifra baja a 5 ó 6.',\n",
       " 'Sin embargo, cuando uno repregunta cuántos panes con chicharrón o cuántas hamburguesas ha comido durante la semana, estas últimas siempre terminan ganando.',\n",
       " 'Por haber conocido y analizado esta realidad, entendimos claramente el mensaje.',\n",
       " 'El problema no era nuestro sánguche, el problema era que no había una marca que pudiera salirles al frente a las cadenas de comida rápida con una propuesta que, a partir de nuestras tradiciones sangucheras, pudiera crear un escenario que satisficiera las aspiraciones de nuestra gente.',\n",
       " 'En estos momentos estamos por inaugurar la sanguchería “Pasquale hermanos” para ubicarse dentro del segmento de comidas rápidas, para que, sin renunciar a su espíritu artesanal, sino más bien haciendo de ello una ventaja, compita directamente con las marcas de comida rápida internacionales con un concepto netamente peruano.',\n",
       " 'Allí existirá un escenario ad hoc, unos protagonistas, los hermanos Pasquale, primos de los Carbone, los Cordano, los Queirolo, los Palermo, fundadores de las sangucherías limeñas, pero donde el peruano sentirá que finalmente el sánguche peruano dejó de ser una aventura mensual y valiente, y se hará parte de su vida cotidiana.',\n",
       " 'Lo que nos inspira es la ilusión de que este segmento de mercado se reacomode y dé cabida a una propuesta netamente nacional.',\n",
       " 'Esperamos abrir muchos “Pasquale” en Lima y su internacionalización dependerá del éxito de las cebicherías, los bistrós peruanos, y otros conceptos que harán de la marca genérica Perú lo suficientemente fuerte como para que “Pasquale” tenga el camino expedito.',\n",
       " 'Estamos ahora en busca del local para construir nuestra quinta marca: “Panchita”.',\n",
       " 'Durante siglos, las anticucheras de las esquinas formaron parte del ornato y la identidad de nuestra ciudad y, por cierto, del atractivo hacia el turista.',\n",
       " 'Sin embargo, en los últimos años autoridades equivocadas las persiguieron argumentando razones sanitarias, en vez de darles las herramientas para que estuvieran de acuerdo con los tiempos, al punto que hoy es casi imposible encontrar una anticuchera de aquellas que daban vida y aroma a nuestras esquinas.',\n",
       " 'Paradójicamente en cada una de esas esquinas han abierto pequeños negocios de hamburguesas o pollos broaster con costumbres sanitarias mucho más cuestionables que las de nuestras doñas Panchitas de antaño y que, además, en nada podrían cautivar al extranjero que nos visita.',\n",
       " 'Es con tal espíritu reivindicador con el que nace “Panchita”, como un homenaje a esa tradición y a todas esas anticucheras que alguna vez adornaron la ciudad.',\n",
       " 'Anticuchería, pero convertida en un restaurante de verdad, con servicio, con diseño, con filosofía propia; anticuchería que será vendida al mundo como la parrilla de los peruanos, y que nace con la vocación internacional de competir directamente con las parrillas argentinas y los rodizios brasileños, pero todo en el mundo del anticucho, dentro de un marco festivo y con decoración que recuerda a las haciendas peruanas, con anticucheras robustas en vez de parrilleros gauchos, con parrillas como las de las esquinas, con huancaínas y cremas en vez de chimichurris, con 25 tipos de anticuchos con todos los sabores, desde el clásico de corazón hasta el sofisticado de atún, con yuca frita, papas doradas, choclos y tacu tacus en vez de papas fritas, con música latina en vez de tangos, con una fiesta de sabores peruanos en vez de una sola pieza de carne de 500 gramos.',\n",
       " 'La anticuchera de la esquina, pues, quedará convertida en restaurante.',\n",
       " 'Su internacionalización dependerá del éxito de las cebicherías.',\n",
       " 'Estamos en proceso de creación de tres marcas más.',\n",
       " 'La primera es la de un chifa, pero que sea el real reflejo de una fusión peruano-china y no de un restaurante chino con toques peruanos.',\n",
       " 'Hoy el Perú cuenta con 5,000 chifas; sin embargo, no tenemos ninguna marca.',\n",
       " 'Deberemos crear decoración, ambiente, música, filosofía de servicio, y comida, por cierto, comida que sea el reflejo de un auténtico mestizaje peruano-chino, cuya diferenciación de lo chino será la clave para su internacionalización.',\n",
       " 'Estamos también en proceso de creación de la pollería de nuestros sueños, donde las guarniciones peruanas harán la diferencia frente al roasted chicken de otros lares, y donde la brasa que le da todo el sabor original, y que lamentablemente algunos comercios hoy devalúan llamándolo brasa cuando usan gas, será lo que marque la diferencia y el sello de roasted chicken peruvian style.',\n",
       " 'Crearemos también una cadena de hoteles boutique en lugares paradisíacos de nuestro país, con un espíritu peruano latino, donde el diseño, el buen precio, el servicio esmerado y, a la vez, espontáneo y la gran cocina avalada por nuestras marcas serán la clave de su crecimiento y de su internacionalización.',\n",
       " 'Finalmente hemos terminado de desarrollar lo que es el comienzo de nuestra división industrial.',\n",
       " 'Tenemos claro que, en un futuro, el desarrollo de la cocina peruana, no solo en restaurantes orientados al extranjero, sino también en los hábitos de consumo internacionales, generará una demanda de bases de sabor, salsas, productos derivados que simplifiquen el camino a la hora de preparar un cebiche, un tiradito, una causa y demás.',\n",
       " 'Hemos desarrollado ya las fórmulas: solo nos queda esperar que el mercado esté listo para recibirlas en una marca que tenga como aliado estratégico a un productor emprendedor de Virú, con quien ya contamos, y un distribuidor apasionado, peruano también, quien ya está listo para asumir su función.',\n",
       " 'Me imagino que ustedes y mucha gente se preguntará por qué tanta fe.',\n",
       " 'En realidad no es fe, es simplemente resultado de un análisis concreto.',\n",
       " 'En los años 80 se dio el inicio del gran despegue de la cocina mejicana por el mundo.',\n",
       " 'En aquel entonces no había Internet, ni las economías estaban globalizadas, ni las barreras culturales habían sido quebradas, ni las fusiones estaban de moda.',\n",
       " 'En ese momento, los mejicanos salieron al mundo con sus tacos y sus tequilas, convencidos de que con ello conquistarían a todos.',\n",
       " 'En aquel entonces habría unos 500 restaurantes mejicanos.',\n",
       " 'Hoy debe haber más de 200,000.',\n",
       " 'Con ello no solo lograron introducir dicho concepto, sino que también lograron poner de moda el tequila, la cerveza Corona, las salsas derivadas que hoy vemos en todos los supermercados y, por supuesto, el chile.',\n",
       " 'La difusión del chile llegó a tal punto, que hoy nuestro valle de Virú tiene que producir chile jalapeño porque el agro mejicano no es suficiente para abastecer la demanda mundial.',\n",
       " 'Con los japoneses sucedió lo mismo.',\n",
       " 'A inicios de los ochenta no había sushi bares por el mundo.',\n",
       " 'Hoy hay más de 50,000, y, gracias a ellos, pudieron entrar no solo productos sino otros conceptos como el teppanyakki, del benihana, o los noodle bars tan de moda en Europa.',\n",
       " 'Entonces, si hoy las barreras culturales ya no existen, si el Internet está al servicio de todos los conocimientos culinarios internacionales, si las economías se han globalizado irreversiblemente, si los estudios, la prensa internacional y el consumidor foráneo nos dan permanentes señales de estar esperándonos, y si, además, contamos no con un producto, sino con muchos productos mucho más diversos, sofisticados y divertidos que ofrecer, ¿por qué creer que vamos a fracasar en el intento?',\n",
       " 'Nuestra fe nace del análisis, no de la ilusión, y nuestra fuerza, eso sí, nace del deber, de la convicción de que los cocineros somos actores reales de los procesos de cambio que el Perú necesita.',\n",
       " 'Creemos firmemente que el éxito de los restaurantes peruanos por el mundo traerá consigo muchísimos beneficios directos e indirectos para el país.',\n",
       " 'Imaginamos de aquí a veinte años un escenario donde existan, al igual que hoy hay mejicanos, unos 200,000 restaurantes peruanos de todo tipo y en todas partes.',\n",
       " 'Supongamos que, cuando caminemos por cualquier ciudad europea, encontraremos una anticuchería al lado de una pizzería, una sanguchería al lado de una hamburguesería, una cebichería al lado de un sushi bar o un restaurante criollo al lado de un tex mex.',\n",
       " 'Si somos capaces de concebir esa realidad, entonces podremos imaginarnos todos los beneficios que aquel escenario traerá consigo.',\n",
       " 'La demanda de productos tan comunes como papa amarilla, ají, cebolla roja, rocoto o limón se multiplicaría infinitamente y con ello acabaríamos con uno de los más dolorosos males que padece nuestro país y que genera tanto enfrentamiento aprovechado coyunturalmente por falsos profetas: el empobrecimiento del campesino peruano en los Andes.',\n",
       " 'Hoy, para solo darles un ejemplo, el kilo de papa amarilla se vende en Europa en mercados étnicos a 5 euros el kilo.',\n",
       " 'En contraste, por lo mismo al campesino peruano se le pagan solo 30 céntimos de sol en chacra.',\n",
       " 'Con el nuevo escenario, esto cambiaría y, con ello, desaparecería un permanente caldo de cultivo para la inestabilidad del país.',\n",
       " 'En dicho escenario se generarían también muchas industrias y productos de base de sabor, como la que venimos desarrollando, de salsas, de pisco, de libros, de revistas, de turismo gastronómico, de asesoramiento gastronómico, de snacks, de dips y todo aquello que va naciendo alrededor de conceptos como los que tenemos.',\n",
       " 'Italia, por ejemplo, exporta productos por 5,000 millones de dólares solo porque un concepto llamado pizza existe por todo el mundo.',\n",
       " 'Esto es más que elocuente para imaginar lo que podríamos generar en torno a toda nuestra gama de conceptos.',\n",
       " 'Quizás lograríamos una cifra mucho mayor que esa.',\n",
       " 'Por último, el hecho de tener estos conceptos y marcas por el mundo, le daría a la marca Perú un poder de seducción que no solo llamaría la atención del público internacional hacia otras propuestas peruanas, como la moda, el diseño, la joyería, la música, la industria y demás, sino que también incentivaría y activaría la creatividad y la confianza de nuestros jóvenes para elaborar conceptos propios y tener la valentía de salir al mundo con ellos.',\n",
       " 'Por estas razones creemos que los cocineros tenemos muchas cosas que decir: además de cocinar, tenemos una enorme responsabilidad como miembros de una generación a la que se ha dado con mucha generosidad la oportunidad de representar a su país en aquello que tiene de más poderoso: su gastronomía; en aquello que el mercado hoy más valora y aprecia de nosotros; en aquello que puede generar enormes cambios no solo económicos, sino sobre todo en la manera como los peruanos debemos encarar nuestro futuro personal y el futuro del Perú.',\n",
       " 'Los peruanos debemos buscar la riqueza dentro de nosotros mismos: estamos llenos de oportunidades por todas partes esperando a alguien que les dé el valor y la fuerza necesarios para convertirlas en algo atractivo y poderoso para vender al mundo.',\n",
       " 'La clave está en entender que somos una gran nación, con una gran cultura viva, fruto de siglos de mestizaje, y que es justamente ese mestizaje el que ha hecho de nuestra cocina una propuesta variada y diversa que ha cautivado finalmente al público internacional.',\n",
       " 'Es en ese mestizaje donde los peruanos debemos encontrar la fuente de inspiración no solo para generar riqueza, sino sobre todo para aceptarnos y querernos como nación.',\n",
       " 'Solo a partir de ello podremos encontrar dentro de nosotros todas aquellas ideas que luego saldrán transformadas en productos y en marcas para conquistar el planeta.',\n",
       " 'Hoy estoy aquí muy emocionado por el hecho de poder dirigirme a ustedes no solo para contarles todas estas cosas, sino para recordarles que, como yo, son ustedes los jóvenes más afortunados de este país.',\n",
       " 'Que son aquellos a quienes la suerte les concedió haber nacido en una familia que los pudo educar con amor en un país donde muchos niños ni siquiera conocen el amor.',\n",
       " 'Ustedes, hoy y aquí, están recibiendo la mejor educación, como la que yo recibí y como la que hoy reciben mis hijas, mientras muchas otras niñas en vez de ir a la escuela tienen que trabajar.',\n",
       " 'Esto no solo debe indignarnos como ciudadanos de un país al que amamos y en el que queremos crear riqueza y logros personales, sino que debe convertirnos en actores para revertir para siempre esta situación y llevarnos finalmente a construir un país próspero lleno de riqueza, donde sintamos orgullo de formar parte de una nación en la que las oportunidades están basadas en una educación igual para todos, en la que existe una justicia igual para todos y un Estado que, de la mano con sus ciudadanos, vigila e interviene enérgicamente frente a la arbitrariedad, el abuso y el rompimiento de las reglas de juego pactadas por todos.',\n",
       " 'Créanme, solo es posible cumplir sus sueños personales si tenemos un sueño nacional anterior.',\n",
       " 'El éxito personal solo llegará si nuestros objetivos trascienden al ámbito individual para formar parte de una gran aspiración colectiva.',\n",
       " 'Japón reconstruyó su país en ruinas para convertirse en la potencia de hoy porque antes que individuos eran japoneses.',\n",
       " 'Alemania hizo lo mismo, Israel también, al igual que naciones mucho más jóvenes como Australia o Nueva Zelanda.',\n",
       " 'Es en ese espíritu nacional, pero el positivo, el que se abre al mundo, el que se cuestiona, el que tolera, el que abraza, el que integra, el que aplaude el éxito y no en el nacionalismo que se lamenta, que condena, que divide, que se encierra y protege la mediocridad, en donde finalmente los peruanos alcanzaremos el rostro definitivo de nuestra nación y con él la tan ansiada prosperidad.',\n",
       " 'Para terminar quisiera decirles, en realidad pedirles, que no se vayan del Perú: ustedes son sus hijos más afortunados, sus hijos más preparados.',\n",
       " 'Si salen a estudiar una maestría, regresen.',\n",
       " 'No se vayan: es aquí donde están las oportunidades, es aquí donde está la riqueza, es aquí donde la vida encuentra un sentido.',\n",
       " 'No se vayan porque su pueblo los necesita; el Perú los necesita; la historia los necesita.',\n",
       " 'Muchas gracias.']"
      ]
     },
     "execution_count": 7,
     "metadata": {},
     "output_type": "execute_result"
    }
   ],
   "source": [
    "discurso"
   ]
  },
  {
   "cell_type": "code",
   "execution_count": 21,
   "id": "6bd04ab9-4b72-45b9-9b32-05577973009a",
   "metadata": {
    "tags": []
   },
   "outputs": [
    {
     "ename": "SyntaxError",
     "evalue": "invalid syntax (2765129489.py, line 6)",
     "output_type": "error",
     "traceback": [
      "\u001b[0;36m  Cell \u001b[0;32mIn[21], line 6\u001b[0;36m\u001b[0m\n\u001b[0;31m    for i\u001b[0m\n\u001b[0m          ^\u001b[0m\n\u001b[0;31mSyntaxError\u001b[0m\u001b[0;31m:\u001b[0m invalid syntax\n"
     ]
    }
   ],
   "source": [
    "import pandas as pd\n",
    "\n",
    "df = pd.DataFrame(discurso)\n",
    "df.columns = ['oraciones']\n"
   ]
  },
  {
   "cell_type": "code",
   "execution_count": 5,
   "id": "dd380d0e-e0d9-45a2-8fe5-567ab51c07bf",
   "metadata": {
    "tags": []
   },
   "outputs": [],
   "source": [
    "import spacy\n",
    "nlp = spacy.load('es_dep_news_trf')"
   ]
  },
  {
   "cell_type": "code",
   "execution_count": 8,
   "id": "559df3e4-a421-44cf-aafa-b96eb8322b7d",
   "metadata": {
    "tags": []
   },
   "outputs": [],
   "source": [
    "lista = []\n",
    "D = {}\n",
    "for oracion in discurso:\n",
    "    o = nlp(oracion)\n",
    "    lista = lista + [[(token.text, token.lemma_, token.pos_) for token in o if token.pos_ in ['VERB', 'NOUN','AUX']]]\n",
    "\n",
    "for oracion in discurso:\n",
    "    o = nlp(oracion)\n",
    "    for token in o:\n",
    "        if token.pos_ in ['VERB', 'NOUN','AUX']:\n",
    "            D[token.text] = token.pos_"
   ]
  },
  {
   "cell_type": "code",
   "execution_count": 7,
   "id": "b1cc7f58-66c5-4aa6-90bc-57a14011c764",
   "metadata": {
    "tags": []
   },
   "outputs": [
    {
     "data": {
      "text/plain": [
       "{'podríamos': 'AUX',\n",
       " 'pensar': 'VERB',\n",
       " 'recursos': 'NOUN',\n",
       " 'cuenta': 'VERB',\n",
       " 'país': 'NOUN',\n",
       " 'han': 'AUX',\n",
       " 'sido': 'AUX',\n",
       " 'bendición': 'NOUN',\n",
       " 'historia': 'NOUN',\n",
       " 'ha': 'AUX',\n",
       " 'enseñado': 'VERB',\n",
       " 'contrario': 'NOUN',\n",
       " 'vez': 'NOUN',\n",
       " 'fue': 'AUX',\n",
       " 'caucho': 'NOUN',\n",
       " 'guano': 'NOUN',\n",
       " 'son': 'AUX',\n",
       " 'minerales': 'NOUN',\n",
       " 'embargo': 'NOUN',\n",
       " 'acaban': 'VERB',\n",
       " 'termina': 'VERB',\n",
       " 'ciclo': 'NOUN',\n",
       " 'bonanza': 'NOUN',\n",
       " 'aparece': 'VERB',\n",
       " 'debacle': 'NOUN',\n",
       " 'incertidumbre': 'NOUN',\n",
       " 'destruye': 'VERB',\n",
       " 'democracias': 'NOUN',\n",
       " 'da': 'VERB',\n",
       " 'origen': 'NOUN',\n",
       " 'caudillos': 'NOUN',\n",
       " 'queda': 'VERB',\n",
       " 'crecimiento': 'NOUN',\n",
       " 'estabilidad': 'NOUN',\n",
       " 'riqueza': 'NOUN',\n",
       " 'estará': 'AUX',\n",
       " 'lado': 'NOUN',\n",
       " 'productos': 'NOUN',\n",
       " 'elaboren': 'VERB',\n",
       " 'suizos': 'NOUN',\n",
       " 'compran': 'VERB',\n",
       " 'cacao': 'NOUN',\n",
       " 'oro': 'NOUN',\n",
       " 'elaboran': 'VERB',\n",
       " 'chocolates': 'NOUN',\n",
       " 'joyas': 'NOUN',\n",
       " 'relojes': 'NOUN',\n",
       " 'japoneses': 'NOUN',\n",
       " 'coreanos': 'NOUN',\n",
       " 'transformarlos': 'VERB',\n",
       " 'electrodomésticos': 'NOUN',\n",
       " 'automóviles': 'NOUN',\n",
       " 'ciudadanos': 'NOUN',\n",
       " 'países': 'NOUN',\n",
       " 'entendido': 'VERB',\n",
       " 'está': 'VERB',\n",
       " 'elaboración': 'NOUN',\n",
       " 'creación': 'NOUN',\n",
       " 'marcas': 'NOUN',\n",
       " 'reconocimiento': 'NOUN',\n",
       " 'términos': 'NOUN',\n",
       " 'calidad': 'NOUN',\n",
       " 'permite': 'VERB',\n",
       " 'expandirse': 'VERB',\n",
       " 'mundo': 'NOUN',\n",
       " 'compró': 'VERB',\n",
       " 'convirtieron': 'VERB',\n",
       " 'compraron': 'VERB',\n",
       " 'gente': 'NOUN',\n",
       " 'convirtió': 'VERB',\n",
       " 'épocas': 'NOUN',\n",
       " 'norteamericano': 'NOUN',\n",
       " 'café': 'NOUN',\n",
       " 'devolvió': 'VERB',\n",
       " 'Pues': 'NOUN',\n",
       " 'gastronomía': 'NOUN',\n",
       " 'hace': 'VERB',\n",
       " 'recurso': 'NOUN',\n",
       " 'efecto': 'NOUN',\n",
       " 'orgullo': 'NOUN',\n",
       " 'extranjeros': 'NOUN',\n",
       " 'descubrían': 'VERB',\n",
       " 'bondades': 'NOUN',\n",
       " 'visitas': 'NOUN',\n",
       " 'trabajo': 'NOUN',\n",
       " 'es': 'AUX',\n",
       " 'suma': 'NOUN',\n",
       " 'cocinas': 'NOUN',\n",
       " 'conceptos': 'NOUN',\n",
       " 'casos': 'NOUN',\n",
       " 'esconden': 'VERB',\n",
       " 'potencial': 'NOUN',\n",
       " 'desempolvado': 'VERB',\n",
       " 'haberse': 'AUX',\n",
       " 'creado': 'VERB',\n",
       " 'marco': 'NOUN',\n",
       " 'valor': 'NOUN',\n",
       " 'podrían': 'AUX',\n",
       " 'ser': 'AUX',\n",
       " 'exportados': 'VERB',\n",
       " 'cocina': 'NOUN',\n",
       " 'pollerías': 'NOUN',\n",
       " 'chifitas': 'NOUN',\n",
       " 'barrio': 'NOUN',\n",
       " 'picanterías': 'NOUN',\n",
       " 'anticuchos': 'NOUN',\n",
       " 'sánguches': 'NOUN',\n",
       " 'nikkei': 'NOUN',\n",
       " 'cebicherias': 'NOUN',\n",
       " 'existen': 'VERB',\n",
       " 'oportunidades': 'NOUN',\n",
       " 'crear': 'VERB',\n",
       " 'trasciendan': 'VERB',\n",
       " 'ámbito': 'NOUN',\n",
       " 'convertirse': 'VERB',\n",
       " 'exportación': 'NOUN',\n",
       " 'solo': 'NOUN',\n",
       " 'aspiren': 'VERB',\n",
       " 'codearse': 'VERB',\n",
       " 'pizzerías': 'NOUN',\n",
       " 'hamburgueserías': 'NOUN',\n",
       " 'sushi': 'NOUN',\n",
       " 'bares': 'NOUN',\n",
       " 'taquerías': 'NOUN',\n",
       " 'generen': 'VERB',\n",
       " 'beneficios': 'NOUN',\n",
       " 'marca': 'NOUN',\n",
       " 'creo': 'VERB',\n",
       " 'podemos': 'AUX',\n",
       " 'entender': 'VERB',\n",
       " 'falta': 'VERB',\n",
       " 'despegue': 'NOUN',\n",
       " 'sucede': 'VERB',\n",
       " 'despegamos': 'VERB',\n",
       " 'quisiéramos': 'VERB',\n",
       " 'estudios': 'NOUN',\n",
       " 'mercado': 'NOUN',\n",
       " 'empresas': 'NOUN',\n",
       " 'indican': 'VERB',\n",
       " 'concepto': 'NOUN',\n",
       " 'alza': 'NOUN',\n",
       " 'demanda': 'NOUN',\n",
       " 'consumidor': 'NOUN',\n",
       " 'rebasa': 'VERB',\n",
       " 'oferta': 'NOUN',\n",
       " 'invertir': 'VERB',\n",
       " 'restaurante': 'NOUN',\n",
       " 'riesgo': 'NOUN',\n",
       " 'ciudad': 'NOUN',\n",
       " 'hemos': 'AUX',\n",
       " 'vivido': 'VERB',\n",
       " 'revolución': 'NOUN',\n",
       " 'llevado': 'VERB',\n",
       " 'publicar': 'VERB',\n",
       " 'años': 'NOUN',\n",
       " 'libros': 'NOUN',\n",
       " 'abierto': 'VERB',\n",
       " 'escuelas': 'NOUN',\n",
       " 'convierte': 'VERB',\n",
       " 'año': 'NOUN',\n",
       " 'turistas': 'NOUN',\n",
       " 'visitó': 'VERB',\n",
       " 'ir': 'VERB',\n",
       " 'decidió': 'VERB',\n",
       " 'quedarse': 'VERB',\n",
       " 'par': 'NOUN',\n",
       " 'días': 'NOUN',\n",
       " 'había': 'AUX',\n",
       " 'leído': 'VERB',\n",
       " 'escuchado': 'VERB',\n",
       " 'periodistas': 'NOUN',\n",
       " 'enviados': 'VERB',\n",
       " 'cubrir': 'VERB',\n",
       " 'publican': 'VERB',\n",
       " 'artículos': 'NOUN',\n",
       " 'emiten': 'VERB',\n",
       " 'programas': 'NOUN',\n",
       " 'TV': 'NOUN',\n",
       " 'consideran': 'VERB',\n",
       " 'invasión': 'NOUN',\n",
       " 'sabores': 'NOUN',\n",
       " 'pesar': 'NOUN',\n",
       " 'indicadores': 'NOUN',\n",
       " 'crean': 'VERB',\n",
       " 'restaurantes': 'NOUN',\n",
       " 'partes': 'NOUN',\n",
       " 'respuesta': 'NOUN',\n",
       " 'Tenemos': 'VERB',\n",
       " 'disponemos': 'VERB',\n",
       " 'clave': 'NOUN',\n",
       " 'dirán': 'VERB',\n",
       " 'capital': 'NOUN',\n",
       " 'rebatir': 'VERB',\n",
       " 'contándoles': 'VERB',\n",
       " 'recibimos': 'VERB',\n",
       " 'propuestas': 'NOUN',\n",
       " 'inversionistas': 'NOUN',\n",
       " 'mayoría': 'NOUN',\n",
       " 'rechazamos': 'VERB',\n",
       " 'creemos': 'VERB',\n",
       " 'tiene': 'VERB',\n",
       " 'momento': 'NOUN',\n",
       " 'espacio': 'NOUN',\n",
       " 'oportunidad': 'NOUN',\n",
       " 'Marcas': 'NOUN',\n",
       " 'cocineros': 'NOUN',\n",
       " 'empresarios': 'NOUN',\n",
       " 'tenemos': 'VERB',\n",
       " 'lograr': 'VERB',\n",
       " 'tengan': 'VERB',\n",
       " 'opciones': 'NOUN',\n",
       " 'escoger': 'VERB',\n",
       " 'hora': 'NOUN',\n",
       " 'decidirse': 'VERB',\n",
       " 'Necesitamos': 'VERB',\n",
       " 'hayan': 'AUX',\n",
       " 'desarrollado': 'VERB',\n",
       " 'idea': 'NOUN',\n",
       " 'sueño': 'NOUN',\n",
       " 'traduzca': 'VERB',\n",
       " 'filosofía': 'NOUN',\n",
       " 'vaya': 'AUX',\n",
       " 'creciendo': 'VERB',\n",
       " 'modelo': 'NOUN',\n",
       " 'estudiar': 'VERB',\n",
       " 'imitar': 'VERB',\n",
       " 'admirar': 'VERB',\n",
       " 'incite': 'VERB',\n",
       " 'caso': 'NOUN',\n",
       " 'organización': 'NOUN',\n",
       " 'venido': 'VERB',\n",
       " 'desarrollando': 'VERB',\n",
       " 'aspiración': 'NOUN',\n",
       " 'comienzo': 'NOUN',\n",
       " 'internacionalización': 'NOUN',\n",
       " 'también': 'NOUN',\n",
       " 'segmentación': 'NOUN',\n",
       " 'entendimos': 'VERB',\n",
       " 'escenarios': 'NOUN',\n",
       " 'espacios': 'NOUN',\n",
       " 'públicos': 'NOUN',\n",
       " 'momentos': 'NOUN',\n",
       " 'economías': 'NOUN',\n",
       " 'empezamos': 'VERB',\n",
       " 'hicimos': 'VERB',\n",
       " 'dólares': 'NOUN',\n",
       " 'familiares': 'NOUN',\n",
       " 'amigos': 'NOUN',\n",
       " 'fe': 'NOUN',\n",
       " 'cariño': 'NOUN',\n",
       " 'cabo': 'NOUN',\n",
       " 'haber': 'AUX',\n",
       " 'encontrado': 'VERB',\n",
       " 'habernos': 'VERB',\n",
       " 'definido': 'VERB',\n",
       " 'permitió': 'VERB',\n",
       " 'ubicarnos': 'VERB',\n",
       " 'cúspide': 'NOUN',\n",
       " 'pirámide': 'NOUN',\n",
       " 'incursión': 'NOUN',\n",
       " 'tenía': 'VERB',\n",
       " 'premios': 'NOUN',\n",
       " 'tardaron': 'VERB',\n",
       " 'llegar': 'VERB',\n",
       " 'vinieron': 'VERB',\n",
       " 'locales': 'NOUN',\n",
       " 'reconocido': 'VERB',\n",
       " 'líder': 'NOUN',\n",
       " 'referente': 'NOUN',\n",
       " 'lugar': 'NOUN',\n",
       " 'codo': 'NOUN',\n",
       " 'revoluciones': 'NOUN',\n",
       " 'empiezan': 'VERB',\n",
       " 'preparado': 'VERB',\n",
       " 'terreno': 'NOUN',\n",
       " 'puedan': 'AUX',\n",
       " 'ingresar': 'VERB',\n",
       " 'facilidad': 'NOUN',\n",
       " 'segmentos': 'NOUN',\n",
       " 'prestigio': 'NOUN',\n",
       " 'Es': 'AUX',\n",
       " 'conquistar': 'VERB',\n",
       " 'corazones': 'NOUN',\n",
       " 'haciendo': 'VERB',\n",
       " 'nació': 'VERB',\n",
       " 'ubicamos': 'VERB',\n",
       " 'segmento': 'NOUN',\n",
       " 'definimos': 'VERB',\n",
       " 'bistró': 'NOUN',\n",
       " 'deli': 'NOUN',\n",
       " 'peruanos': 'NOUN',\n",
       " 'podía': 'AUX',\n",
       " 'pagar': 'VERB',\n",
       " 'sentir': 'VERB',\n",
       " 'espíritu': 'NOUN',\n",
       " 'ambiente': 'NOUN',\n",
       " 'precios': 'NOUN',\n",
       " 'originalidad': 'NOUN',\n",
       " 'sofisticación': 'NOUN',\n",
       " 'hacer': 'VERB',\n",
       " 'manera': 'NOUN',\n",
       " 'catarsis': 'NOUN',\n",
       " 'dejaba': 'VERB',\n",
       " 'sensación': 'NOUN',\n",
       " 'elites': 'NOUN',\n",
       " 'Tanta': 'NOUN',\n",
       " 'significaba': 'VERB',\n",
       " 'liberarnos': 'VERB',\n",
       " 'ataduras': 'NOUN',\n",
       " 'poder': 'AUX',\n",
       " 'mostrar': 'VERB',\n",
       " 'queríamos': 'VERB',\n",
       " 'decir': 'VERB',\n",
       " 'abrimos': 'VERB',\n",
       " 'terminado': 'VERB',\n",
       " 'proceso': 'NOUN',\n",
       " 'manuales': 'NOUN',\n",
       " 'exportado': 'VERB',\n",
       " 'vino': 'VERB',\n",
       " 'tengo': 'VERB',\n",
       " 'cebicherías': 'NOUN',\n",
       " 'sentí': 'VERB',\n",
       " 'carecían': 'VERB',\n",
       " 'permitiera': 'VERB',\n",
       " 'competir': 'VERB',\n",
       " 'liderazgo': 'NOUN',\n",
       " 'parte': 'NOUN',\n",
       " 'Sentía': 'VERB',\n",
       " 'pena': 'NOUN',\n",
       " 'ver': 'VERB',\n",
       " 'habíamos': 'AUX',\n",
       " 'devaluado': 'VERB',\n",
       " 'producto': 'NOUN',\n",
       " 'relegándolo': 'VERB',\n",
       " 'categoría': 'NOUN',\n",
       " 'chingana': 'NOUN',\n",
       " 'sillas': 'NOUN',\n",
       " 'plástico': 'NOUN',\n",
       " 'servicio': 'NOUN',\n",
       " 'carencias': 'NOUN',\n",
       " 'era': 'AUX',\n",
       " 'empresario': 'NOUN',\n",
       " 'decidía': 'VERB',\n",
       " 'mejorar': 'VERB',\n",
       " 'instalaciones': 'NOUN',\n",
       " 'quitaba': 'VERB',\n",
       " 'cartel': 'NOUN',\n",
       " 'cebichería': 'NOUN',\n",
       " 'llamarlo': 'VERB',\n",
       " 'pescados': 'NOUN',\n",
       " 'mariscos': 'NOUN',\n",
       " 'darse': 'VERB',\n",
       " 'nombre': 'NOUN',\n",
       " 'virtud': 'NOUN',\n",
       " 'diferenciaba': 'VERB',\n",
       " 'ofertas': 'NOUN',\n",
       " 'encontramos': 'VERB',\n",
       " 'imaginamos': 'VERB',\n",
       " 'realidad': 'NOUN',\n",
       " 'aprovechar': 'VERB',\n",
       " 'popularidad': 'NOUN',\n",
       " 'cebiche': 'NOUN',\n",
       " 'compitiera': 'VERB',\n",
       " 'convicción': 'NOUN',\n",
       " 'eran': 'AUX',\n",
       " 'diferencia': 'NOUN',\n",
       " 'solemnidad': 'NOUN',\n",
       " 'bar': 'NOUN',\n",
       " 'estaba': 'AUX',\n",
       " 'Había': 'AUX',\n",
       " 'mantener': 'VERB',\n",
       " 'elementos': 'NOUN',\n",
       " 'caña': 'NOUN',\n",
       " 'viento': 'NOUN',\n",
       " 'luz': 'NOUN',\n",
       " 'diseño': 'NOUN',\n",
       " 'estandarizar': 'VERB',\n",
       " 'materia': 'NOUN',\n",
       " 'debía': 'AUX',\n",
       " 'prevalecer': 'VERB',\n",
       " 'conservar': 'VERB',\n",
       " 'detalles': 'NOUN',\n",
       " 'imaginación': 'NOUN',\n",
       " 'contar': 'VERB',\n",
       " 'amamos': 'VERB',\n",
       " 'templo': 'NOUN',\n",
       " 'estamos': 'AUX',\n",
       " 'abriendo': 'VERB',\n",
       " 'vendido': 'VERB',\n",
       " 'franquicias': 'NOUN',\n",
       " 'esperamos': 'VERB',\n",
       " 'iniciar': 'VERB',\n",
       " 'actividades': 'NOUN',\n",
       " 'Creemos': 'VERB',\n",
       " 'razones': 'NOUN',\n",
       " 'expandirá': 'VERB',\n",
       " 'pregunta': 'VERB',\n",
       " 'gusta': 'VERB',\n",
       " 'pan': 'NOUN',\n",
       " 'chicharrón': 'NOUN',\n",
       " 'dicen': 'VERB',\n",
       " 'gustan': 'VERB',\n",
       " 'hamburguesas': 'NOUN',\n",
       " 'cifra': 'NOUN',\n",
       " 'baja': 'VERB',\n",
       " 'repregunta': 'VERB',\n",
       " 'panes': 'NOUN',\n",
       " 'comido': 'VERB',\n",
       " 'semana': 'NOUN',\n",
       " 'terminan': 'VERB',\n",
       " 'ganando': 'VERB',\n",
       " 'conocido': 'VERB',\n",
       " 'analizado': 'VERB',\n",
       " 'mensaje': 'NOUN',\n",
       " 'problema': 'NOUN',\n",
       " 'sánguche': 'NOUN',\n",
       " 'pudiera': 'AUX',\n",
       " 'salirles': 'VERB',\n",
       " 'frente': 'NOUN',\n",
       " 'cadenas': 'NOUN',\n",
       " 'comida': 'NOUN',\n",
       " 'propuesta': 'NOUN',\n",
       " 'partir': 'NOUN',\n",
       " 'tradiciones': 'NOUN',\n",
       " 'escenario': 'NOUN',\n",
       " 'satisficiera': 'VERB',\n",
       " 'aspiraciones': 'NOUN',\n",
       " 'inaugurar': 'VERB',\n",
       " 'sanguchería': 'NOUN',\n",
       " 'ubicarse': 'VERB',\n",
       " 'comidas': 'NOUN',\n",
       " 'renunciar': 'VERB',\n",
       " 'ventaja': 'NOUN',\n",
       " 'compita': 'VERB',\n",
       " 'existirá': 'VERB',\n",
       " 'protagonistas': 'NOUN',\n",
       " 'hermanos': 'NOUN',\n",
       " 'primos': 'NOUN',\n",
       " 'fundadores': 'NOUN',\n",
       " 'sangucherías': 'NOUN',\n",
       " 'peruano': 'NOUN',\n",
       " 'sentirá': 'VERB',\n",
       " 'dejó': 'AUX',\n",
       " 'aventura': 'NOUN',\n",
       " 'hará': 'VERB',\n",
       " 'vida': 'NOUN',\n",
       " 'inspira': 'VERB',\n",
       " 'ilusión': 'NOUN',\n",
       " 'reacomode': 'VERB',\n",
       " 'dé': 'VERB',\n",
       " 'cabida': 'NOUN',\n",
       " 'Esperamos': 'VERB',\n",
       " 'abrir': 'VERB',\n",
       " 'dependerá': 'VERB',\n",
       " 'éxito': 'NOUN',\n",
       " 'bistrós': 'NOUN',\n",
       " 'harán': 'VERB',\n",
       " 'tenga': 'VERB',\n",
       " 'camino': 'NOUN',\n",
       " 'Estamos': 'AUX',\n",
       " 'busca': 'NOUN',\n",
       " 'local': 'NOUN',\n",
       " 'construir': 'VERB',\n",
       " 'siglos': 'NOUN',\n",
       " 'anticucheras': 'NOUN',\n",
       " 'esquinas': 'NOUN',\n",
       " 'formaron': 'VERB',\n",
       " 'ornato': 'NOUN',\n",
       " 'identidad': 'NOUN',\n",
       " 'atractivo': 'NOUN',\n",
       " 'turista': 'NOUN',\n",
       " 'autoridades': 'NOUN',\n",
       " 'persiguieron': 'VERB',\n",
       " 'argumentando': 'VERB',\n",
       " 'darles': 'VERB',\n",
       " 'herramientas': 'NOUN',\n",
       " 'estuvieran': 'AUX',\n",
       " 'acuerdo': 'NOUN',\n",
       " 'tiempos': 'NOUN',\n",
       " 'punto': 'NOUN',\n",
       " 'encontrar': 'VERB',\n",
       " 'anticuchera': 'NOUN',\n",
       " 'daban': 'VERB',\n",
       " 'aroma': 'NOUN',\n",
       " 'negocios': 'NOUN',\n",
       " 'pollos': 'NOUN',\n",
       " 'broaster': 'VERB',\n",
       " 'costumbres': 'NOUN',\n",
       " 'doñas': 'NOUN',\n",
       " 'nada': 'NOUN',\n",
       " 'cautivar': 'VERB',\n",
       " 'extranjero': 'NOUN',\n",
       " 'visita': 'VERB',\n",
       " 'nace': 'VERB',\n",
       " 'homenaje': 'NOUN',\n",
       " 'tradición': 'NOUN',\n",
       " 'adornaron': 'VERB',\n",
       " 'Anticuchería': 'NOUN',\n",
       " 'verdad': 'NOUN',\n",
       " 'anticuchería': 'NOUN',\n",
       " 'será': 'AUX',\n",
       " 'vendida': 'VERB',\n",
       " 'parrilla': 'NOUN',\n",
       " 'vocación': 'NOUN',\n",
       " 'parrillas': 'NOUN',\n",
       " 'rodizios': 'NOUN',\n",
       " 'anticucho': 'NOUN',\n",
       " 'decoración': 'NOUN',\n",
       " 'recuerda': 'VERB',\n",
       " 'haciendas': 'NOUN',\n",
       " 'parrilleros': 'NOUN',\n",
       " 'huancaínas': 'NOUN',\n",
       " 'cremas': 'NOUN',\n",
       " 'chimichurris': 'NOUN',\n",
       " 'tipos': 'NOUN',\n",
       " 'corazón': 'NOUN',\n",
       " 'atún': 'NOUN',\n",
       " 'yuca': 'NOUN',\n",
       " 'papas': 'NOUN',\n",
       " 'choclos': 'NOUN',\n",
       " 'tacu': 'NOUN',\n",
       " 'tacus': 'NOUN',\n",
       " 'música': 'NOUN',\n",
       " 'tangos': 'NOUN',\n",
       " 'fiesta': 'NOUN',\n",
       " 'pieza': 'NOUN',\n",
       " 'carne': 'NOUN',\n",
       " 'gramos': 'NOUN',\n",
       " 'esquina': 'NOUN',\n",
       " 'quedará': 'VERB',\n",
       " 'chifa': 'NOUN',\n",
       " 'sea': 'AUX',\n",
       " 'reflejo': 'NOUN',\n",
       " 'fusión': 'NOUN',\n",
       " 'toques': 'NOUN',\n",
       " 'chifas': 'NOUN',\n",
       " 'Deberemos': 'VERB',\n",
       " 'mestizaje': 'NOUN',\n",
       " 'diferenciación': 'NOUN',\n",
       " 'pollería': 'NOUN',\n",
       " 'sueños': 'NOUN',\n",
       " 'guarniciones': 'NOUN',\n",
       " 'lares': 'NOUN',\n",
       " 'brasa': 'NOUN',\n",
       " 'sabor': 'NOUN',\n",
       " 'comercios': 'NOUN',\n",
       " 'devalúan': 'VERB',\n",
       " 'llamándolo': 'VERB',\n",
       " 'usan': 'VERB',\n",
       " 'gas': 'NOUN',\n",
       " 'marque': 'VERB',\n",
       " 'sello': 'NOUN',\n",
       " 'Crearemos': 'VERB',\n",
       " 'cadena': 'NOUN',\n",
       " 'hoteles': 'NOUN',\n",
       " 'lugares': 'NOUN',\n",
       " 'precio': 'NOUN',\n",
       " 'serán': 'AUX',\n",
       " 'desarrollar': 'VERB',\n",
       " 'división': 'NOUN',\n",
       " 'futuro': 'NOUN',\n",
       " 'desarrollo': 'NOUN',\n",
       " 'hábitos': 'NOUN',\n",
       " 'consumo': 'NOUN',\n",
       " 'generará': 'VERB',\n",
       " 'bases': 'NOUN',\n",
       " 'salsas': 'NOUN',\n",
       " 'simplifiquen': 'VERB',\n",
       " 'preparar': 'VERB',\n",
       " 'tiradito': 'NOUN',\n",
       " 'causa': 'NOUN',\n",
       " 'Hemos': 'AUX',\n",
       " 'fórmulas': 'NOUN',\n",
       " 'esperar': 'VERB',\n",
       " 'esté': 'AUX',\n",
       " 'recibirlas': 'VERB',\n",
       " 'aliado': 'NOUN',\n",
       " 'productor': 'NOUN',\n",
       " 'contamos': 'VERB',\n",
       " 'distribuidor': 'NOUN',\n",
       " 'asumir': 'VERB',\n",
       " 'función': 'NOUN',\n",
       " 'imagino': 'VERB',\n",
       " 'preguntará': 'VERB',\n",
       " 'resultado': 'NOUN',\n",
       " 'análisis': 'NOUN',\n",
       " 'dio': 'VERB',\n",
       " 'inicio': 'NOUN',\n",
       " 'estaban': 'AUX',\n",
       " 'barreras': 'NOUN',\n",
       " 'habían': 'AUX',\n",
       " 'quebradas': 'VERB',\n",
       " 'fusiones': 'NOUN',\n",
       " 'moda': 'NOUN',\n",
       " 'mejicanos': 'NOUN',\n",
       " 'salieron': 'VERB',\n",
       " 'tacos': 'NOUN',\n",
       " 'tequilas': 'NOUN',\n",
       " 'conquistarían': 'VERB',\n",
       " 'habría': 'AUX',\n",
       " 'debe': 'AUX',\n",
       " 'lograron': 'VERB',\n",
       " 'introducir': 'VERB',\n",
       " 'poner': 'VERB',\n",
       " 'tequila': 'NOUN',\n",
       " 'cerveza': 'NOUN',\n",
       " 'vemos': 'VERB',\n",
       " 'supermercados': 'NOUN',\n",
       " 'supuesto': 'NOUN',\n",
       " 'chile': 'NOUN',\n",
       " 'difusión': 'NOUN',\n",
       " 'llegó': 'VERB',\n",
       " 'valle': 'NOUN',\n",
       " 'producir': 'VERB',\n",
       " 'agro': 'NOUN',\n",
       " 'abastecer': 'VERB',\n",
       " 'sucedió': 'VERB',\n",
       " 'inicios': 'NOUN',\n",
       " 'ochenta': 'NOUN',\n",
       " 'hay': 'AUX',\n",
       " 'gracias': 'NOUN',\n",
       " 'pudieron': 'AUX',\n",
       " 'entrar': 'VERB',\n",
       " 'teppanyakki': 'NOUN',\n",
       " 'noodle': 'NOUN',\n",
       " 'bars': 'NOUN',\n",
       " 'conocimientos': 'NOUN',\n",
       " 'globalizado': 'VERB',\n",
       " 'prensa': 'NOUN',\n",
       " 'dan': 'VERB',\n",
       " 'señales': 'NOUN',\n",
       " 'estar': 'AUX',\n",
       " 'esperándonos': 'VERB',\n",
       " 'ofrecer': 'VERB',\n",
       " 'creer': 'VERB',\n",
       " 'vamos': 'AUX',\n",
       " 'fracasar': 'VERB',\n",
       " 'intento': 'NOUN',\n",
       " 'fuerza': 'NOUN',\n",
       " 'deber': 'NOUN',\n",
       " 'somos': 'AUX',\n",
       " 'actores': 'NOUN',\n",
       " 'procesos': 'NOUN',\n",
       " 'cambio': 'NOUN',\n",
       " 'necesita': 'VERB',\n",
       " 'traerá': 'VERB',\n",
       " 'Imaginamos': 'VERB',\n",
       " 'existan': 'VERB',\n",
       " 'tipo': 'NOUN',\n",
       " 'Supongamos': 'VERB',\n",
       " 'caminemos': 'VERB',\n",
       " 'encontraremos': 'VERB',\n",
       " 'pizzería': 'NOUN',\n",
       " 'hamburguesería': 'NOUN',\n",
       " 'concebir': 'VERB',\n",
       " 'podremos': 'AUX',\n",
       " 'imaginarnos': 'VERB',\n",
       " 'papa': 'NOUN',\n",
       " 'ají': 'NOUN',\n",
       " 'cebolla': 'NOUN',\n",
       " 'rocoto': 'NOUN',\n",
       " 'limón': 'NOUN',\n",
       " 'multiplicaría': 'VERB',\n",
       " 'acabaríamos': 'VERB',\n",
       " 'males': 'NOUN',\n",
       " 'padece': 'VERB',\n",
       " 'genera': 'VERB',\n",
       " 'enfrentamiento': 'NOUN',\n",
       " 'profetas': 'NOUN',\n",
       " 'empobrecimiento': 'NOUN',\n",
       " 'campesino': 'NOUN',\n",
       " 'ejemplo': 'NOUN',\n",
       " 'kilo': 'NOUN',\n",
       " 'vende': 'VERB',\n",
       " 'mercados': 'NOUN',\n",
       " 'euros': 'NOUN',\n",
       " 'contraste': 'NOUN',\n",
       " 'pagan': 'VERB',\n",
       " 'céntimos': 'NOUN',\n",
       " 'sol': 'NOUN',\n",
       " 'chacra': 'NOUN',\n",
       " 'cambiaría': 'VERB',\n",
       " 'desaparecería': 'VERB',\n",
       " 'caldo': 'NOUN',\n",
       " 'cultivo': 'NOUN',\n",
       " 'inestabilidad': 'NOUN',\n",
       " 'generarían': 'VERB',\n",
       " 'industrias': 'NOUN',\n",
       " 'base': 'NOUN',\n",
       " 'venimos': 'VERB',\n",
       " 'pisco': 'NOUN',\n",
       " 'revistas': 'NOUN',\n",
       " 'turismo': 'NOUN',\n",
       " 'asesoramiento': 'NOUN',\n",
       " 'snacks': 'NOUN',\n",
       " 'dips': 'NOUN',\n",
       " 'va': 'AUX',\n",
       " 'naciendo': 'VERB',\n",
       " 'exporta': 'VERB',\n",
       " 'millones': 'NOUN',\n",
       " 'pizza': 'NOUN',\n",
       " 'existe': 'VERB',\n",
       " 'imaginar': 'VERB',\n",
       " 'generar': 'VERB',\n",
       " 'torno': 'NOUN',\n",
       " 'gama': 'NOUN',\n",
       " 'lograríamos': 'VERB',\n",
       " 'último': 'NOUN',\n",
       " 'hecho': 'NOUN',\n",
       " 'tener': 'VERB',\n",
       " 'daría': 'VERB',\n",
       " 'seducción': 'NOUN',\n",
       " 'llamaría': 'VERB',\n",
       " 'atención': 'NOUN',\n",
       " 'público': 'NOUN',\n",
       " 'joyería': 'NOUN',\n",
       " 'industria': 'NOUN',\n",
       " 'incentivaría': 'VERB',\n",
       " 'activaría': 'VERB',\n",
       " 'creatividad': 'NOUN',\n",
       " 'confianza': 'NOUN',\n",
       " 'jóvenes': 'NOUN',\n",
       " 'elaborar': 'VERB',\n",
       " 'valentía': 'NOUN',\n",
       " 'salir': 'VERB',\n",
       " 'cosas': 'NOUN',\n",
       " 'cocinar': 'VERB',\n",
       " 'responsabilidad': 'NOUN',\n",
       " 'miembros': 'NOUN',\n",
       " 'generación': 'NOUN',\n",
       " 'dado': 'VERB',\n",
       " 'generosidad': 'NOUN',\n",
       " 'representar': 'VERB',\n",
       " 'valora': 'VERB',\n",
       " 'aprecia': 'VERB',\n",
       " 'puede': 'AUX',\n",
       " 'cambios': 'NOUN',\n",
       " 'debemos': 'AUX',\n",
       " 'encarar': 'VERB',\n",
       " 'buscar': 'VERB',\n",
       " 'esperando': 'VERB',\n",
       " 'convertirlas': 'VERB',\n",
       " 'vender': 'VERB',\n",
       " 'nación': 'NOUN',\n",
       " 'cultura': 'NOUN',\n",
       " 'fruto': 'NOUN',\n",
       " 'cautivado': 'VERB',\n",
       " 'fuente': 'NOUN',\n",
       " 'inspiración': 'NOUN',\n",
       " 'aceptarnos': 'VERB',\n",
       " 'querernos': 'VERB',\n",
       " 'ideas': 'NOUN',\n",
       " 'saldrán': 'VERB',\n",
       " 'planeta': 'NOUN',\n",
       " 'estoy': 'AUX',\n",
       " 'dirigirme': 'VERB',\n",
       " 'contarles': 'VERB',\n",
       " 'recordarles': 'VERB',\n",
       " 'suerte': 'NOUN',\n",
       " 'concedió': 'VERB',\n",
       " 'nacido': 'VERB',\n",
       " 'familia': 'NOUN',\n",
       " 'pudo': 'AUX',\n",
       " 'educar': 'VERB',\n",
       " 'amor': 'NOUN',\n",
       " 'niños': 'NOUN',\n",
       " 'siquiera': 'NOUN',\n",
       " 'conocen': 'VERB',\n",
       " 'están': 'VERB',\n",
       " 'recibiendo': 'VERB',\n",
       " 'educación': 'NOUN',\n",
       " 'recibí': 'VERB',\n",
       " 'reciben': 'VERB',\n",
       " 'hijas': 'NOUN',\n",
       " 'niñas': 'NOUN',\n",
       " 'escuela': 'NOUN',\n",
       " 'tienen': 'VERB',\n",
       " 'trabajar': 'VERB',\n",
       " 'indignarnos': 'VERB',\n",
       " 'queremos': 'VERB',\n",
       " 'logros': 'NOUN',\n",
       " 'convertirnos': 'VERB',\n",
       " 'revertir': 'VERB',\n",
       " 'situación': 'NOUN',\n",
       " 'llevarnos': 'VERB',\n",
       " 'sintamos': 'VERB',\n",
       " 'formar': 'VERB',\n",
       " 'justicia': 'NOUN',\n",
       " 'mano': 'NOUN',\n",
       " 'vigila': 'VERB',\n",
       " 'interviene': 'VERB',\n",
       " 'arbitrariedad': 'NOUN',\n",
       " 'abuso': 'NOUN',\n",
       " 'rompimiento': 'NOUN',\n",
       " 'reglas': 'NOUN',\n",
       " 'juego': 'NOUN',\n",
       " 'Créanme': 'VERB',\n",
       " 'cumplir': 'VERB',\n",
       " 'llegará': 'VERB',\n",
       " 'objetivos': 'NOUN',\n",
       " 'trascienden': 'VERB',\n",
       " 'reconstruyó': 'VERB',\n",
       " 'ruinas': 'NOUN',\n",
       " 'potencia': 'NOUN',\n",
       " 'individuos': 'NOUN',\n",
       " 'hizo': 'VERB',\n",
       " 'naciones': 'NOUN',\n",
       " 'abre': 'VERB',\n",
       " 'cuestiona': 'VERB',\n",
       " 'tolera': 'VERB',\n",
       " 'abraza': 'VERB',\n",
       " 'integra': 'VERB',\n",
       " 'aplaude': 'VERB',\n",
       " 'nacionalismo': 'NOUN',\n",
       " 'lamenta': 'VERB',\n",
       " 'condena': 'VERB',\n",
       " 'divide': 'VERB',\n",
       " 'encierra': 'VERB',\n",
       " 'protege': 'VERB',\n",
       " 'mediocridad': 'NOUN',\n",
       " 'alcanzaremos': 'VERB',\n",
       " 'rostro': 'NOUN',\n",
       " 'prosperidad': 'NOUN',\n",
       " 'terminar': 'VERB',\n",
       " 'quisiera': 'VERB',\n",
       " 'decirles': 'VERB',\n",
       " 'pedirles': 'VERB',\n",
       " 'vayan': 'VERB',\n",
       " 'hijos': 'NOUN',\n",
       " 'salen': 'VERB',\n",
       " 'maestría': 'NOUN',\n",
       " 'regresen': 'VERB',\n",
       " 'encuentra': 'VERB',\n",
       " 'sentido': 'NOUN',\n",
       " 'pueblo': 'NOUN'}"
      ]
     },
     "execution_count": 7,
     "metadata": {},
     "output_type": "execute_result"
    }
   ],
   "source": [
    "D"
   ]
  },
  {
   "cell_type": "code",
   "execution_count": 9,
   "id": "46b5f5b6-fe88-4a93-a7c6-371afaa63a9c",
   "metadata": {
    "tags": []
   },
   "outputs": [
    {
     "data": {
      "text/plain": [
       "[[('podríamos', 'poder', 'AUX'),\n",
       "  ('pensar', 'pensar', 'VERB'),\n",
       "  ('recursos', 'recurso', 'NOUN'),\n",
       "  ('cuenta', 'contar', 'VERB'),\n",
       "  ('país', 'país', 'NOUN'),\n",
       "  ('han', 'haber', 'AUX'),\n",
       "  ('sido', 'ser', 'AUX'),\n",
       "  ('bendición', 'bendición', 'NOUN'),\n",
       "  ('historia', 'historia', 'NOUN'),\n",
       "  ('ha', 'haber', 'AUX'),\n",
       "  ('enseñado', 'enseñar', 'VERB'),\n",
       "  ('contrario', 'contrario', 'NOUN')],\n",
       " [('vez', 'vez', 'NOUN'),\n",
       "  ('fue', 'ser', 'AUX'),\n",
       "  ('caucho', 'caucho', 'NOUN'),\n",
       "  ('vez', 'vez', 'NOUN'),\n",
       "  ('guano', 'guano', 'NOUN'),\n",
       "  ('son', 'ser', 'AUX'),\n",
       "  ('minerales', 'mineral', 'NOUN')],\n",
       " [('embargo', 'embargo', 'NOUN'),\n",
       "  ('acaban', 'acabar', 'VERB'),\n",
       "  ('termina', 'terminar', 'VERB'),\n",
       "  ('ciclo', 'ciclo', 'NOUN'),\n",
       "  ('bonanza', 'bonanza', 'NOUN'),\n",
       "  ('aparece', 'aparecer', 'VERB'),\n",
       "  ('debacle', 'debacle', 'NOUN'),\n",
       "  ('incertidumbre', 'incertidumbre', 'NOUN'),\n",
       "  ('destruye', 'destruir', 'VERB'),\n",
       "  ('democracias', 'democracia', 'NOUN'),\n",
       "  ('da', 'dar', 'VERB'),\n",
       "  ('origen', 'origen', 'NOUN'),\n",
       "  ('caudillos', 'caudillo', 'NOUN')],\n",
       " [('queda', 'quedar', 'VERB'),\n",
       "  ('crecimiento', 'crecimiento', 'NOUN'),\n",
       "  ('estabilidad', 'estabilidad', 'NOUN'),\n",
       "  ('riqueza', 'riqueza', 'NOUN'),\n",
       "  ('país', 'país', 'NOUN'),\n",
       "  ('estará', 'estar', 'AUX'),\n",
       "  ('lado', 'lado', 'NOUN'),\n",
       "  ('recursos', 'recurso', 'NOUN'),\n",
       "  ('productos', 'producto', 'NOUN'),\n",
       "  ('elaboren', 'elaborar', 'VERB')],\n",
       " [('suizos', 'suizo', 'NOUN'),\n",
       "  ('compran', 'comprar', 'VERB'),\n",
       "  ('recursos', 'recurso', 'NOUN'),\n",
       "  ('cacao', 'cacao', 'NOUN'),\n",
       "  ('oro', 'oro', 'NOUN'),\n",
       "  ('elaboran', 'elaborar', 'VERB'),\n",
       "  ('chocolates', 'chocolate', 'NOUN'),\n",
       "  ('joyas', 'joya', 'NOUN'),\n",
       "  ('relojes', 'reloj', 'NOUN'),\n",
       "  ('japoneses', 'japonés', 'NOUN'),\n",
       "  ('coreanos', 'coreano', 'NOUN'),\n",
       "  ('compran', 'comprar', 'VERB'),\n",
       "  ('minerales', 'mineral', 'NOUN'),\n",
       "  ('transformarlos', 'transformar él', 'VERB'),\n",
       "  ('electrodomésticos', 'electrodoméstico', 'NOUN'),\n",
       "  ('automóviles', 'automóvil', 'NOUN')],\n",
       " [('ciudadanos', 'ciudadano', 'NOUN'),\n",
       "  ('países', 'país', 'NOUN'),\n",
       "  ('han', 'haber', 'AUX'),\n",
       "  ('entendido', 'entender', 'VERB'),\n",
       "  ('riqueza', 'riqueza', 'NOUN'),\n",
       "  ('está', 'estar', 'AUX'),\n",
       "  ('elaboración', 'elaboración', 'NOUN'),\n",
       "  ('productos', 'producto', 'NOUN'),\n",
       "  ('creación', 'creación', 'NOUN'),\n",
       "  ('marcas', 'marca', 'NOUN'),\n",
       "  ('reconocimiento', 'reconocimiento', 'NOUN'),\n",
       "  ('términos', 'término', 'NOUN'),\n",
       "  ('calidad', 'calidad', 'NOUN'),\n",
       "  ('permite', 'permitir', 'VERB'),\n",
       "  ('expandirse', 'expandir él', 'VERB'),\n",
       "  ('mundo', 'mundo', 'NOUN')],\n",
       " [('compró', 'comprar', 'VERB'),\n",
       "  ('cacao', 'cacao', 'NOUN'),\n",
       "  ('oro', 'oro', 'NOUN'),\n",
       "  ('ciudadanos', 'ciudadano', 'NOUN'),\n",
       "  ('convirtieron', 'convertir', 'VERB'),\n",
       "  ('chocolates', 'chocolate', 'NOUN'),\n",
       "  ('relojes', 'reloj', 'NOUN'),\n",
       "  ('compraron', 'comprar', 'VERB'),\n",
       "  ('minerales', 'mineral', 'NOUN'),\n",
       "  ('gente', 'gente', 'NOUN'),\n",
       "  ('convirtió', 'convertir', 'VERB'),\n",
       "  ('épocas', 'época', 'NOUN'),\n",
       "  ('norteamericano', 'norteamericano', 'NOUN'),\n",
       "  ('compró', 'comprar', 'VERB'),\n",
       "  ('café', 'café', 'NOUN'),\n",
       "  ('mundo', 'mundo', 'NOUN'),\n",
       "  ('devolvió', 'devolver', 'VERB')],\n",
       " [('Pues', 'pues', 'NOUN'),\n",
       "  ('gastronomía', 'gastronomía', 'NOUN'),\n",
       "  ('hace', 'hacer', 'VERB'),\n",
       "  ('ha', 'haber', 'AUX'),\n",
       "  ('sido', 'ser', 'AUX'),\n",
       "  ('recurso', 'recurso', 'NOUN')],\n",
       " [('efecto', 'efecto', 'NOUN'),\n",
       "  ('ha', 'haber', 'AUX'),\n",
       "  ('sido', 'ser', 'AUX'),\n",
       "  ('recurso', 'recurso', 'NOUN'),\n",
       "  ('orgullo', 'orgullo', 'NOUN'),\n",
       "  ('extranjeros', 'extranjero', 'NOUN'),\n",
       "  ('descubrían', 'descubrir', 'VERB'),\n",
       "  ('bondades', 'bondad', 'NOUN'),\n",
       "  ('visitas', 'visita', 'NOUN'),\n",
       "  ('trabajo', 'trabajo', 'NOUN')],\n",
       " [('embargo', 'embargo', 'NOUN'),\n",
       "  ('gastronomía', 'gastronomía', 'NOUN'),\n",
       "  ('es', 'ser', 'AUX'),\n",
       "  ('recurso', 'recurso', 'NOUN'),\n",
       "  ('suma', 'suma', 'NOUN'),\n",
       "  ('cocinas', 'cocina', 'NOUN'),\n",
       "  ('conceptos', 'concepto', 'NOUN'),\n",
       "  ('casos', 'caso', 'NOUN'),\n",
       "  ('esconden', 'esconder', 'VERB'),\n",
       "  ('potencial', 'potencial', 'NOUN')],\n",
       " [('vez', 'vez', 'NOUN'),\n",
       "  ('desempolvado', 'desempolvar', 'VERB'),\n",
       "  ('potencial', 'potencial', 'NOUN'),\n",
       "  ('haberse', 'haber él', 'AUX'),\n",
       "  ('creado', 'crear', 'VERB'),\n",
       "  ('marco', 'marco', 'NOUN'),\n",
       "  ('valor', 'valor', 'NOUN'),\n",
       "  ('productos', 'producto', 'NOUN'),\n",
       "  ('gastronomía', 'gastronomía', 'NOUN'),\n",
       "  ('podrían', 'poder', 'AUX'),\n",
       "  ('ser', 'ser', 'AUX'),\n",
       "  ('exportados', 'exportar', 'VERB'),\n",
       "  ('mundo', 'mundo', 'NOUN')],\n",
       " [('es', 'ser', 'AUX')],\n",
       " [('cocina', 'cocina', 'NOUN'),\n",
       "  ('pollerías', 'pollería', 'NOUN'),\n",
       "  ('chifitas', 'chifita', 'NOUN'),\n",
       "  ('barrio', 'barrio', 'NOUN'),\n",
       "  ('cocina', 'cocina', 'NOUN'),\n",
       "  ('picanterías', 'picantería', 'NOUN'),\n",
       "  ('anticuchos', 'anticucho', 'NOUN'),\n",
       "  ('sánguches', 'sánguch', 'NOUN'),\n",
       "  ('cocina', 'cocina', 'NOUN'),\n",
       "  ('nikkei', 'nikkei', 'NOUN'),\n",
       "  ('cebicherias', 'cebicheria', 'NOUN'),\n",
       "  ('existen', 'existir', 'VERB'),\n",
       "  ('oportunidades', 'oportunidad', 'NOUN'),\n",
       "  ('crear', 'crear', 'VERB'),\n",
       "  ('conceptos', 'concepto', 'NOUN'),\n",
       "  ('trasciendan', 'trascender', 'VERB'),\n",
       "  ('ámbito', 'ámbito', 'NOUN'),\n",
       "  ('convertirse', 'convertir él', 'VERB'),\n",
       "  ('productos', 'producto', 'NOUN'),\n",
       "  ('productos', 'producto', 'NOUN'),\n",
       "  ('exportación', 'exportación', 'NOUN'),\n",
       "  ('solo', 'solo', 'NOUN'),\n",
       "  ('aspiren', 'aspirar', 'VERB'),\n",
       "  ('codearse', 'codear él', 'VERB'),\n",
       "  ('conceptos', 'concepto', 'NOUN'),\n",
       "  ('pizzerías', 'pizzería', 'NOUN'),\n",
       "  ('hamburgueserías', 'hamburguesería', 'NOUN'),\n",
       "  ('sushi', 'sushi', 'NOUN'),\n",
       "  ('bares', 'bares', 'NOUN'),\n",
       "  ('taquerías', 'taquería', 'NOUN'),\n",
       "  ('generen', 'generen', 'VERB'),\n",
       "  ('beneficios', 'beneficio', 'NOUN'),\n",
       "  ('marca', 'marca', 'NOUN'),\n",
       "  ('país', 'país', 'NOUN')],\n",
       " [('creo', 'creer', 'VERB'),\n",
       "  ('podemos', 'poder', 'AUX'),\n",
       "  ('entender', 'entender', 'VERB'),\n",
       "  ('gastronomía', 'gastronomía', 'NOUN'),\n",
       "  ('recurso', 'recurso', 'NOUN'),\n",
       "  ('productos', 'producto', 'NOUN'),\n",
       "  ('potencial', 'potencial', 'NOUN'),\n",
       "  ('está', 'estar', 'AUX'),\n",
       "  ('expandirse', 'expandir él', 'VERB'),\n",
       "  ('mundo', 'mundo', 'NOUN'),\n",
       "  ('embargo', 'embargo', 'NOUN'),\n",
       "  ('falta', 'faltar', 'VERB'),\n",
       "  ('despegue', 'despegue', 'NOUN')],\n",
       " [('sucede', 'suceder', 'VERB'),\n",
       "  ('despegamos', 'despegar', 'VERB'),\n",
       "  ('quisiéramos', 'querer', 'VERB')],\n",
       " [('estudios', 'estudio', 'NOUN'),\n",
       "  ('mercado', 'mercado', 'NOUN'),\n",
       "  ('empresas', 'empresa', 'NOUN'),\n",
       "  ('indican', 'indicar', 'VERB'),\n",
       "  ('concepto', 'concepto', 'NOUN'),\n",
       "  ('alza', 'alza', 'NOUN'),\n",
       "  ('mundo', 'mundo', 'NOUN'),\n",
       "  ('es', 'ser', 'AUX'),\n",
       "  ('demanda', 'demanda', 'NOUN'),\n",
       "  ('consumidor', 'consumidor', 'NOUN'),\n",
       "  ('conceptos', 'concepto', 'NOUN'),\n",
       "  ('rebasa', 'rebasar', 'VERB'),\n",
       "  ('oferta', 'oferta', 'NOUN'),\n",
       "  ('invertir', 'invertir', 'VERB'),\n",
       "  ('restaurante', 'restaurante', 'NOUN'),\n",
       "  ('es', 'ser', 'AUX'),\n",
       "  ('invertir', 'invertir', 'VERB'),\n",
       "  ('riesgo', 'riesgo', 'NOUN'),\n",
       "  ('ciudad', 'ciudad', 'NOUN')],\n",
       " [('hemos', 'haber', 'AUX'),\n",
       "  ('vivido', 'vivir', 'VERB'),\n",
       "  ('revolución', 'revolución', 'NOUN'),\n",
       "  ('términos', 'término', 'NOUN'),\n",
       "  ('ha', 'haber', 'AUX'),\n",
       "  ('llevado', 'llevar', 'VERB'),\n",
       "  ('publicar', 'publicar', 'VERB'),\n",
       "  ('años', 'año', 'NOUN'),\n",
       "  ('libros', 'libro', 'NOUN'),\n",
       "  ('cocina', 'cocina', 'NOUN'),\n",
       "  ('historia', 'historia', 'NOUN')],\n",
       " [('han', 'haber', 'AUX'),\n",
       "  ('abierto', 'abrir', 'VERB'),\n",
       "  ('años', 'año', 'NOUN'),\n",
       "  ('escuelas', 'escuela', 'NOUN'),\n",
       "  ('cocina', 'cocina', 'NOUN'),\n",
       "  ('convierte', 'convertir', 'VERB'),\n",
       "  ('ciudad', 'ciudad', 'NOUN'),\n",
       "  ('escuelas', 'escuela', 'NOUN'),\n",
       "  ('cocina', 'cocina', 'NOUN'),\n",
       "  ('mundo', 'mundo', 'NOUN')],\n",
       " [('año', 'año', 'NOUN'),\n",
       "  ('turistas', 'turista', 'NOUN'),\n",
       "  ('visitó', 'visitar', 'VERB'),\n",
       "  ('ir', 'ir', 'VERB'),\n",
       "  ('decidió', 'decidir', 'VERB'),\n",
       "  ('quedarse', 'quedar él', 'VERB'),\n",
       "  ('par', 'par', 'NOUN'),\n",
       "  ('días', 'día', 'NOUN'),\n",
       "  ('había', 'haber', 'AUX'),\n",
       "  ('leído', 'leer', 'VERB'),\n",
       "  ('escuchado', 'escuchar', 'VERB'),\n",
       "  ('gastronomía', 'gastronomía', 'NOUN')],\n",
       " [('periodistas', 'periodista', 'NOUN'),\n",
       "  ('mundo', 'mundo', 'NOUN'),\n",
       "  ('son', 'ser', 'AUX'),\n",
       "  ('enviados', 'enviar', 'VERB'),\n",
       "  ('cubrir', 'cubrir', 'VERB'),\n",
       "  ('revolución', 'revolución', 'NOUN'),\n",
       "  ('publican', 'publicar', 'VERB'),\n",
       "  ('artículos', 'artículo', 'NOUN'),\n",
       "  ('emiten', 'emitir', 'VERB'),\n",
       "  ('programas', 'programa', 'NOUN'),\n",
       "  ('TV', 'tv', 'NOUN'),\n",
       "  ('consideran', 'considerar', 'VERB'),\n",
       "  ('invasión', 'invasión', 'NOUN'),\n",
       "  ('sabores', 'sabor', 'NOUN'),\n",
       "  ('mundo', 'mundo', 'NOUN')],\n",
       " [('pesar', 'pesar', 'NOUN'),\n",
       "  ('indicadores', 'indicador', 'NOUN'),\n",
       "  ('crean', 'crear', 'VERB'),\n",
       "  ('restaurantes', 'restaurante', 'NOUN'),\n",
       "  ('partes', 'parte', 'NOUN')],\n",
       " [('respuesta', 'respuesta', 'NOUN'), ('es', 'ser', 'AUX')],\n",
       " [('Tenemos', 'tener', 'VERB'),\n",
       "  ('recurso', 'recurso', 'NOUN'),\n",
       "  ('disponemos', 'disponer', 'VERB'),\n",
       "  ('productos', 'producto', 'NOUN')],\n",
       " [('falta', 'faltar', 'VERB')],\n",
       " [('marcas', 'marca', 'NOUN')],\n",
       " [('marcas', 'marca', 'NOUN'),\n",
       "  ('productos', 'producto', 'NOUN'),\n",
       "  ('mundo', 'mundo', 'NOUN')],\n",
       " [('está', 'estar', 'VERB'), ('clave', 'clave', 'NOUN')],\n",
       " [('dirán', 'decir', 'VERB'),\n",
       "  ('falta', 'faltar', 'VERB'),\n",
       "  ('capital', 'capital', 'NOUN'),\n",
       "  ('recursos', 'recurso', 'NOUN')],\n",
       " [('podemos', 'poder', 'AUX'),\n",
       "  ('rebatir', 'rebatir', 'VERB'),\n",
       "  ('contándoles', 'contar él', 'VERB'),\n",
       "  ('recibimos', 'recibir', 'VERB'),\n",
       "  ('propuestas', 'propuesta', 'NOUN'),\n",
       "  ('inversionistas', 'inversionista', 'NOUN'),\n",
       "  ('invertir', 'invertir', 'VERB'),\n",
       "  ('restaurantes', 'restaurante', 'NOUN'),\n",
       "  ('propuestas', 'propuesta', 'NOUN'),\n",
       "  ('mayoría', 'mayoría', 'NOUN'),\n",
       "  ('rechazamos', 'rechazar', 'VERB'),\n",
       "  ('creemos', 'creer', 'VERB'),\n",
       "  ('tiene', 'tener', 'VERB'),\n",
       "  ('momento', 'momento', 'NOUN'),\n",
       "  ('espacio', 'espacio', 'NOUN'),\n",
       "  ('oportunidad', 'oportunidad', 'NOUN')],\n",
       " [('Marcas', 'marca', 'NOUN'),\n",
       "  ('es', 'ser', 'AUX'),\n",
       "  ('cocineros', 'cocinero', 'NOUN'),\n",
       "  ('empresarios', 'empresario', 'NOUN'),\n",
       "  ('tenemos', 'tener', 'VERB'),\n",
       "  ('lograr', 'lograr', 'VERB'),\n",
       "  ('inversionistas', 'inversionista', 'NOUN'),\n",
       "  ('tengan', 'tener', 'VERB'),\n",
       "  ('opciones', 'opción', 'NOUN'),\n",
       "  ('escoger', 'escoger', 'VERB'),\n",
       "  ('hora', 'hora', 'NOUN'),\n",
       "  ('decidirse', 'decidir él', 'VERB'),\n",
       "  ('concepto', 'concepto', 'NOUN')],\n",
       " [('Necesitamos', 'necesitar', 'VERB'),\n",
       "  ('marcas', 'marca', 'NOUN'),\n",
       "  ('hayan', 'haber', 'AUX'),\n",
       "  ('desarrollado', 'desarrollar', 'VERB'),\n",
       "  ('hace', 'hacer', 'VERB'),\n",
       "  ('idea', 'idea', 'NOUN'),\n",
       "  ('sueño', 'sueño', 'NOUN'),\n",
       "  ('traduzca', 'traducir', 'VERB'),\n",
       "  ('filosofía', 'filosofía', 'NOUN'),\n",
       "  ('vaya', 'ir', 'AUX'),\n",
       "  ('creciendo', 'crecer', 'VERB'),\n",
       "  ('convertirse', 'convertir él', 'VERB'),\n",
       "  ('modelo', 'modelo', 'NOUN'),\n",
       "  ('estudiar', 'estudiar', 'VERB'),\n",
       "  ('imitar', 'imitar', 'VERB'),\n",
       "  ('admirar', 'admirar', 'VERB'),\n",
       "  ('incite', 'incite', 'VERB'),\n",
       "  ('invertir', 'invertir', 'VERB')],\n",
       " [('caso', 'caso', 'NOUN'),\n",
       "  ('organización', 'organización', 'NOUN'),\n",
       "  ('hemos', 'haber', 'AUX'),\n",
       "  ('venido', 'venir', 'VERB'),\n",
       "  ('desarrollando', 'desarrollar', 'VERB'),\n",
       "  ('conceptos', 'concepto', 'NOUN'),\n",
       "  ('aspiración', 'aspiración', 'NOUN'),\n",
       "  ('comienzo', 'comienzo', 'NOUN'),\n",
       "  ('fue', 'ser', 'AUX'),\n",
       "  ('solo', 'solo', 'NOUN'),\n",
       "  ('internacionalización', 'internacionalización', 'NOUN'),\n",
       "  ('también', 'también', 'NOUN'),\n",
       "  ('segmentación', 'segmentación', 'NOUN'),\n",
       "  ('entendimos', 'entender', 'VERB'),\n",
       "  ('comienzo', 'comienzo', 'NOUN'),\n",
       "  ('restaurantes', 'restaurante', 'NOUN'),\n",
       "  ('son', 'ser', 'AUX'),\n",
       "  ('escenarios', 'escenario', 'NOUN'),\n",
       "  ('espacios', 'espacio', 'NOUN'),\n",
       "  ('públicos', 'público', 'NOUN'),\n",
       "  ('momentos', 'momento', 'NOUN'),\n",
       "  ('economías', 'economía', 'NOUN')],\n",
       " [('empezamos', 'empezar', 'VERB'),\n",
       "  ('restaurante', 'restaurante', 'NOUN'),\n",
       "  ('hace', 'hacer', 'VERB'),\n",
       "  ('años', 'año', 'NOUN'),\n",
       "  ('hicimos', 'hacer', 'VERB'),\n",
       "  ('capital', 'capital', 'NOUN'),\n",
       "  ('dólares', 'dólares', 'NOUN'),\n",
       "  ('familiares', 'familiar', 'NOUN'),\n",
       "  ('amigos', 'amigo', 'NOUN'),\n",
       "  ('fe', 'fe', 'NOUN'),\n",
       "  ('cariño', 'cariño', 'NOUN')],\n",
       " [('cabo', 'cabo', 'NOUN'),\n",
       "  ('años', 'año', 'NOUN'),\n",
       "  ('haber', 'haber', 'AUX'),\n",
       "  ('encontrado', 'encontrar', 'VERB'),\n",
       "  ('filosofía', 'filosofía', 'NOUN'),\n",
       "  ('habernos', 'haber yo', 'VERB'),\n",
       "  ('definido', 'definir', 'VERB'),\n",
       "  ('restaurante', 'restaurante', 'NOUN'),\n",
       "  ('cocina', 'cocina', 'NOUN'),\n",
       "  ('permitió', 'permitir', 'VERB'),\n",
       "  ('ubicarnos', 'ubicar yo', 'VERB'),\n",
       "  ('cúspide', 'cúspide', 'NOUN'),\n",
       "  ('pirámide', 'pirámide', 'NOUN'),\n",
       "  ('segmentación', 'segmentación', 'NOUN'),\n",
       "  ('mercado', 'mercado', 'NOUN'),\n",
       "  ('hicimos', 'hacer', 'VERB'),\n",
       "  ('incursión', 'incursión', 'NOUN'),\n",
       "  ('país', 'país', 'NOUN'),\n",
       "  ('cocina', 'cocina', 'NOUN'),\n",
       "  ('tenía', 'tener', 'VERB'),\n",
       "  ('reconocimiento', 'reconocimiento', 'NOUN')],\n",
       " [('premios', 'premio', 'NOUN'),\n",
       "  ('tardaron', 'tardar', 'VERB'),\n",
       "  ('llegar', 'llegar', 'VERB'),\n",
       "  ('vinieron', 'venir', 'VERB')],\n",
       " [('locales', 'local', 'NOUN'),\n",
       "  ('países', 'país', 'NOUN'),\n",
       "  ('solo', 'solo', 'NOUN'),\n",
       "  ('es', 'ser', 'AUX'),\n",
       "  ('es', 'ser', 'AUX'),\n",
       "  ('reconocido', 'reconocer', 'VERB'),\n",
       "  ('líder', 'líder', 'NOUN'),\n",
       "  ('referente', 'referente', 'NOUN'),\n",
       "  ('cocina', 'cocina', 'NOUN'),\n",
       "  ('lugar', 'lugar', 'NOUN')],\n",
       " [('es', 'es', 'NOUN'),\n",
       "  ('cocina', 'cocina', 'NOUN'),\n",
       "  ('codo', 'codo', 'NOUN'),\n",
       "  ('codo', 'codo', 'NOUN')],\n",
       " [('casos', 'caso', 'NOUN'),\n",
       "  ('revoluciones', 'revolución', 'NOUN'),\n",
       "  ('empiezan', 'empezar', 'VERB'),\n",
       "  ('ha', 'haber', 'AUX'),\n",
       "  ('preparado', 'preparar', 'VERB'),\n",
       "  ('terreno', 'terreno', 'NOUN'),\n",
       "  ('marcas', 'marca', 'NOUN'),\n",
       "  ('puedan', 'poder', 'AUX'),\n",
       "  ('ingresar', 'ingresar', 'VERB'),\n",
       "  ('facilidad', 'facilidad', 'NOUN'),\n",
       "  ('segmentos', 'segmento', 'NOUN'),\n",
       "  ('prestigio', 'prestigio', 'NOUN')],\n",
       " [('Es', 'ser', 'AUX'),\n",
       "  ('conquistar', 'conquistar', 'VERB'),\n",
       "  ('corazones', 'corazón', 'NOUN'),\n",
       "  ('haciendo', 'hacer', 'VERB'),\n",
       "  ('cocina', 'cocina', 'NOUN'),\n",
       "  ('sánguches', 'sánguch', 'NOUN'),\n",
       "  ('haciendo', 'hacer', 'VERB'),\n",
       "  ('sánguches', 'sánguch', 'NOUN'),\n",
       "  ('cocina', 'cocina', 'NOUN')],\n",
       " [('nació', 'nacer', 'VERB'),\n",
       "  ('ubicamos', 'ubicar', 'VERB'),\n",
       "  ('segmento', 'segmento', 'NOUN'),\n",
       "  ('restaurante', 'restaurante', 'NOUN'),\n",
       "  ('definimos', 'definir', 'VERB'),\n",
       "  ('bistró', 'bistró', 'NOUN'),\n",
       "  ('deli', 'deli', 'NOUN'),\n",
       "  ('peruanos', 'peruano', 'NOUN'),\n",
       "  ('lugar', 'lugar', 'NOUN'),\n",
       "  ('podía', 'poder', 'AUX'),\n",
       "  ('pagar', 'pagar', 'VERB'),\n",
       "  ('podía', 'poder', 'AUX'),\n",
       "  ('sentir', 'sentir', 'VERB'),\n",
       "  ('filosofía', 'filosofía', 'NOUN'),\n",
       "  ('espíritu', 'espíritu', 'NOUN'),\n",
       "  ('ambiente', 'ambiente', 'NOUN'),\n",
       "  ('precios', 'precio', 'NOUN'),\n",
       "  ('sabores', 'sabor', 'NOUN'),\n",
       "  ('originalidad', 'originalidad', 'NOUN'),\n",
       "  ('sofisticación', 'sofisticación', 'NOUN'),\n",
       "  ('espíritu', 'espíritu', 'NOUN')],\n",
       " [('hacer', 'hacer', 'VERB'),\n",
       "  ('fue', 'ser', 'AUX'),\n",
       "  ('manera', 'manera', 'NOUN'),\n",
       "  ('catarsis', 'catarsis', 'NOUN'),\n",
       "  ('vez', 'vez', 'NOUN'),\n",
       "  ('dejaba', 'dejar', 'VERB'),\n",
       "  ('sensación', 'sensación', 'NOUN'),\n",
       "  ('ser', 'ser', 'AUX'),\n",
       "  ('cocineros', 'cocinero', 'NOUN'),\n",
       "  ('elites', 'elite', 'NOUN'),\n",
       "  ('país', 'país', 'NOUN'),\n",
       "  ('Tanta', 'tanta', 'NOUN'),\n",
       "  ('significaba', 'significar', 'VERB'),\n",
       "  ('liberarnos', 'liberar yo', 'VERB'),\n",
       "  ('ataduras', 'atadura', 'NOUN'),\n",
       "  ('poder', 'poder', 'AUX'),\n",
       "  ('mostrar', 'mostrar', 'VERB'),\n",
       "  ('queríamos', 'querer', 'VERB'),\n",
       "  ('decir', 'decir', 'VERB'),\n",
       "  ('trabajo', 'trabajo', 'NOUN')],\n",
       " [('tenemos', 'tener', 'VERB'),\n",
       "  ('locales', 'local', 'NOUN'),\n",
       "  ('abrimos', 'abrir', 'VERB'),\n",
       "  ('año', 'año', 'NOUN'),\n",
       "  ('hemos', 'haber', 'AUX'),\n",
       "  ('terminado', 'terminar', 'VERB'),\n",
       "  ('proceso', 'proceso', 'NOUN'),\n",
       "  ('elaboración', 'elaboración', 'NOUN'),\n",
       "  ('manuales', 'manual', 'NOUN'),\n",
       "  ('está', 'estar', 'AUX'),\n",
       "  ('ser', 'ser', 'AUX'),\n",
       "  ('exportado', 'exportar', 'VERB')],\n",
       " [('vino', 'venir', 'VERB')],\n",
       " [('tengo', 'tener', 'VERB'),\n",
       "  ('cebicherías', 'cebichería', 'NOUN'),\n",
       "  ('sentí', 'sentir', 'VERB'),\n",
       "  ('carecían', 'carecer', 'VERB'),\n",
       "  ('filosofía', 'filosofía', 'NOUN'),\n",
       "  ('permitiera', 'permitir', 'VERB'),\n",
       "  ('competir', 'competir', 'VERB'),\n",
       "  ('liderazgo', 'liderazgo', 'NOUN'),\n",
       "  ('parte', 'parte', 'NOUN'),\n",
       "  ('mundo', 'mundo', 'NOUN')],\n",
       " [('Sentía', 'sentir', 'VERB'),\n",
       "  ('pena', 'pena', 'NOUN'),\n",
       "  ('ver', 'ver', 'VERB'),\n",
       "  ('peruanos', 'peruano', 'NOUN'),\n",
       "  ('habíamos', 'haber', 'AUX'),\n",
       "  ('devaluado', 'devaluar', 'VERB'),\n",
       "  ('producto', 'producto', 'NOUN'),\n",
       "  ('cocina', 'cocina', 'NOUN'),\n",
       "  ('relegándolo', 'relegar él', 'VERB'),\n",
       "  ('categoría', 'categoría', 'NOUN'),\n",
       "  ('chingana', 'chingana', 'NOUN'),\n",
       "  ('sillas', 'silla', 'NOUN'),\n",
       "  ('plástico', 'plástico', 'NOUN'),\n",
       "  ('servicio', 'servicio', 'NOUN'),\n",
       "  ('carencias', 'carencia', 'NOUN')],\n",
       " [('era', 'ser', 'AUX'),\n",
       "  ('empresario', 'empresario', 'NOUN'),\n",
       "  ('decidía', 'decidir', 'VERB'),\n",
       "  ('mejorar', 'mejorar', 'VERB'),\n",
       "  ('instalaciones', 'instalación', 'NOUN'),\n",
       "  ('mejorar', 'mejorar', 'VERB'),\n",
       "  ('servicio', 'servicio', 'NOUN'),\n",
       "  ('quitaba', 'quitar', 'VERB'),\n",
       "  ('cartel', 'cartel', 'NOUN'),\n",
       "  ('cebichería', 'cebichería', 'NOUN'),\n",
       "  ('llamarlo', 'llamar él', 'VERB'),\n",
       "  ('restaurante', 'restaurante', 'NOUN'),\n",
       "  ('pescados', 'pescado', 'NOUN'),\n",
       "  ('mariscos', 'marisco', 'NOUN'),\n",
       "  ('darse', 'dar él', 'VERB'),\n",
       "  ('cuenta', 'cuenta', 'NOUN'),\n",
       "  ('era', 'ser', 'AUX'),\n",
       "  ('nombre', 'nombre', 'NOUN'),\n",
       "  ('virtud', 'virtud', 'NOUN'),\n",
       "  ('diferenciaba', 'diferenciar', 'VERB'),\n",
       "  ('ofertas', 'oferta', 'NOUN'),\n",
       "  ('encontramos', 'encontrar', 'VERB'),\n",
       "  ('mundo', 'mundo', 'NOUN')],\n",
       " [('fue', 'ser', 'AUX'),\n",
       "  ('imaginamos', 'imaginar', 'VERB'),\n",
       "  ('realidad', 'realidad', 'NOUN'),\n",
       "  ('partes', 'parte', 'NOUN')],\n",
       " [('era', 'ser', 'AUX'),\n",
       "  ('había', 'haber', 'AUX'),\n",
       "  ('aprovechar', 'aprovechar', 'VERB'),\n",
       "  ('popularidad', 'popularidad', 'NOUN'),\n",
       "  ('cebiche', 'cebiche', 'NOUN'),\n",
       "  ('mundo', 'mundo', 'NOUN'),\n",
       "  ('crear', 'crear', 'VERB'),\n",
       "  ('cebichería', 'cebichería', 'NOUN'),\n",
       "  ('concepto', 'concepto', 'NOUN'),\n",
       "  ('segmento', 'segmento', 'NOUN'),\n",
       "  ('compitiera', 'competir', 'VERB'),\n",
       "  ('sushi', 'sushi', 'NOUN'),\n",
       "  ('bares', 'bares', 'NOUN'),\n",
       "  ('convicción', 'convicción', 'NOUN'),\n",
       "  ('eran', 'ser', 'AUX'),\n",
       "  ('diferencia', 'diferencia', 'NOUN'),\n",
       "  ('solemnidad', 'solemnidad', 'NOUN'),\n",
       "  ('sushi', 'sushi', 'NOUN'),\n",
       "  ('bar', 'bar', 'NOUN'),\n",
       "  ('estaba', 'estar', 'AUX'),\n",
       "  ('espíritu', 'espíritu', 'NOUN'),\n",
       "  ('cebichería', 'cebichería', 'NOUN')],\n",
       " [('Había', 'haber', 'AUX'),\n",
       "  ('mantener', 'mantener', 'VERB'),\n",
       "  ('elementos', 'elemento', 'NOUN'),\n",
       "  ('caña', 'caña', 'NOUN'),\n",
       "  ('viento', 'viento', 'NOUN'),\n",
       "  ('luz', 'luz', 'NOUN'),\n",
       "  ('diseño', 'diseño', 'NOUN')],\n",
       " [('era', 'ser', 'AUX'),\n",
       "  ('mejorar', 'mejorar', 'VERB'),\n",
       "  ('estandarizar', 'estandarizar', 'VERB'),\n",
       "  ('materia', 'materia', 'NOUN'),\n",
       "  ('crear', 'crear', 'VERB'),\n",
       "  ('filosofía', 'filosofía', 'NOUN'),\n",
       "  ('servicio', 'servicio', 'NOUN'),\n",
       "  ('ambiente', 'ambiente', 'NOUN'),\n",
       "  ('debía', 'deber', 'AUX'),\n",
       "  ('prevalecer', 'prevalecer', 'VERB'),\n",
       "  ('conservar', 'conservar', 'VERB'),\n",
       "  ('sabores', 'sabor', 'NOUN'),\n",
       "  ('detalles', 'detalle', 'NOUN'),\n",
       "  ('imaginación', 'imaginación', 'NOUN'),\n",
       "  ('contar', 'contar', 'VERB'),\n",
       "  ('historia', 'historia', 'NOUN'),\n",
       "  ('peruanos', 'peruano', 'NOUN'),\n",
       "  ('amamos', 'amar', 'VERB'),\n",
       "  ('cebiche', 'cebiche', 'NOUN'),\n",
       "  ('cebichería', 'cebichería', 'NOUN'),\n",
       "  ('es', 'ser', 'AUX'),\n",
       "  ('templo', 'templo', 'NOUN'),\n",
       "  ('partes', 'parte', 'NOUN')],\n",
       " [('estamos', 'estar', 'AUX'),\n",
       "  ('abriendo', 'abrir', 'VERB'),\n",
       "  ('hemos', 'haber', 'AUX'),\n",
       "  ('vendido', 'vender', 'VERB'),\n",
       "  ('franquicias', 'franquicia', 'NOUN'),\n",
       "  ('concepto', 'concepto', 'NOUN')],\n",
       " [('año', 'año', 'NOUN'),\n",
       "  ('esperamos', 'esperar', 'VERB'),\n",
       "  ('iniciar', 'iniciar', 'VERB'),\n",
       "  ('actividades', 'actividad', 'NOUN'),\n",
       "  ('marca', 'marca', 'NOUN')],\n",
       " [('Creemos', 'creer', 'VERB'),\n",
       "  ('razones', 'razón', 'NOUN'),\n",
       "  ('cebichería', 'cebichería', 'NOUN'),\n",
       "  ('es', 'ser', 'AUX'),\n",
       "  ('concepto', 'concepto', 'NOUN'),\n",
       "  ('expandirá', 'expandecir', 'VERB'),\n",
       "  ('mundo', 'mundo', 'NOUN')],\n",
       " [('es', 'ser', 'AUX'), ('marca', 'marca', 'NOUN')],\n",
       " [('pregunta', 'preguntar', 'VERB'),\n",
       "  ('peruanos', 'peruano', 'NOUN'),\n",
       "  ('gusta', 'gustar', 'VERB'),\n",
       "  ('pan', 'pan', 'NOUN'),\n",
       "  ('chicharrón', 'chicharrón', 'NOUN'),\n",
       "  ('dicen', 'decir', 'VERB')],\n",
       " [('pregunta', 'preguntar', 'VERB'),\n",
       "  ('gustan', 'gustar', 'VERB'),\n",
       "  ('hamburguesas', 'hamburguesa', 'NOUN'),\n",
       "  ('cifra', 'cifra', 'NOUN'),\n",
       "  ('baja', 'bajar', 'VERB')],\n",
       " [('embargo', 'embargo', 'NOUN'),\n",
       "  ('repregunta', 'repreguntar', 'VERB'),\n",
       "  ('panes', 'pan', 'NOUN'),\n",
       "  ('chicharrón', 'chicharrón', 'NOUN'),\n",
       "  ('hamburguesas', 'hamburguesa', 'NOUN'),\n",
       "  ('ha', 'haber', 'AUX'),\n",
       "  ('comido', 'comer', 'VERB'),\n",
       "  ('semana', 'semana', 'NOUN'),\n",
       "  ('terminan', 'terminar', 'VERB'),\n",
       "  ('ganando', 'ganar', 'VERB')],\n",
       " [('haber', 'haber', 'AUX'),\n",
       "  ('conocido', 'conocer', 'VERB'),\n",
       "  ('analizado', 'analizar', 'VERB'),\n",
       "  ('realidad', 'realidad', 'NOUN'),\n",
       "  ('entendimos', 'entender', 'VERB'),\n",
       "  ('mensaje', 'mensaje', 'NOUN')],\n",
       " [('problema', 'problema', 'NOUN'),\n",
       "  ('era', 'ser', 'AUX'),\n",
       "  ('sánguche', 'sánguche', 'NOUN'),\n",
       "  ('problema', 'problema', 'NOUN'),\n",
       "  ('era', 'ser', 'AUX'),\n",
       "  ('había', 'haber', 'AUX'),\n",
       "  ('marca', 'marca', 'NOUN'),\n",
       "  ('pudiera', 'poder', 'AUX'),\n",
       "  ('salirles', 'salir él', 'VERB'),\n",
       "  ('frente', 'frente', 'NOUN'),\n",
       "  ('cadenas', 'cadena', 'NOUN'),\n",
       "  ('comida', 'comida', 'NOUN'),\n",
       "  ('propuesta', 'propuesta', 'NOUN'),\n",
       "  ('partir', 'partir', 'NOUN'),\n",
       "  ('tradiciones', 'tradición', 'NOUN'),\n",
       "  ('pudiera', 'poder', 'AUX'),\n",
       "  ('crear', 'crear', 'VERB'),\n",
       "  ('escenario', 'escenario', 'NOUN'),\n",
       "  ('satisficiera', 'satisfacer', 'VERB'),\n",
       "  ('aspiraciones', 'aspiración', 'NOUN'),\n",
       "  ('gente', 'gente', 'NOUN')],\n",
       " [('momentos', 'momento', 'NOUN'),\n",
       "  ('estamos', 'estar', 'AUX'),\n",
       "  ('inaugurar', 'inaugurar', 'VERB'),\n",
       "  ('sanguchería', 'sanguchería', 'NOUN'),\n",
       "  ('ubicarse', 'ubicar él', 'VERB'),\n",
       "  ('segmento', 'segmento', 'NOUN'),\n",
       "  ('comidas', 'comida', 'NOUN'),\n",
       "  ('renunciar', 'renunciar', 'VERB'),\n",
       "  ('espíritu', 'espíritu', 'NOUN'),\n",
       "  ('haciendo', 'hacer', 'VERB'),\n",
       "  ('ventaja', 'ventaja', 'NOUN'),\n",
       "  ('compita', 'compita', 'VERB'),\n",
       "  ('marcas', 'marca', 'NOUN'),\n",
       "  ('comida', 'comida', 'NOUN'),\n",
       "  ('concepto', 'concepto', 'NOUN')],\n",
       " [('existirá', 'existir', 'VERB'),\n",
       "  ('escenario', 'escenario', 'NOUN'),\n",
       "  ('protagonistas', 'protagonista', 'NOUN'),\n",
       "  ('hermanos', 'hermano', 'NOUN'),\n",
       "  ('primos', 'primo', 'NOUN'),\n",
       "  ('fundadores', 'fundador', 'NOUN'),\n",
       "  ('sangucherías', 'sanguchería', 'NOUN'),\n",
       "  ('peruano', 'peruano', 'NOUN'),\n",
       "  ('sentirá', 'sentir', 'VERB'),\n",
       "  ('sánguche', 'sánguche', 'NOUN'),\n",
       "  ('dejó', 'dejar', 'AUX'),\n",
       "  ('ser', 'ser', 'AUX'),\n",
       "  ('aventura', 'aventura', 'NOUN'),\n",
       "  ('hará', 'hacer', 'VERB'),\n",
       "  ('parte', 'parte', 'NOUN'),\n",
       "  ('vida', 'vida', 'NOUN')],\n",
       " [('inspira', 'inspirar', 'VERB'),\n",
       "  ('es', 'ser', 'AUX'),\n",
       "  ('ilusión', 'ilusión', 'NOUN'),\n",
       "  ('segmento', 'segmento', 'NOUN'),\n",
       "  ('mercado', 'mercado', 'NOUN'),\n",
       "  ('reacomode', 'reacomodar', 'VERB'),\n",
       "  ('dé', 'dar', 'VERB'),\n",
       "  ('cabida', 'cabida', 'NOUN'),\n",
       "  ('propuesta', 'propuesta', 'NOUN')],\n",
       " [('Esperamos', 'esperar', 'VERB'),\n",
       "  ('abrir', 'abrir', 'VERB'),\n",
       "  ('internacionalización', 'internacionalización', 'NOUN'),\n",
       "  ('dependerá', 'depender', 'VERB'),\n",
       "  ('éxito', 'éxito', 'NOUN'),\n",
       "  ('cebicherías', 'cebichería', 'NOUN'),\n",
       "  ('bistrós', 'bistró', 'NOUN'),\n",
       "  ('conceptos', 'concepto', 'NOUN'),\n",
       "  ('harán', 'hacer', 'VERB'),\n",
       "  ('marca', 'marca', 'NOUN'),\n",
       "  ('tenga', 'tener', 'VERB'),\n",
       "  ('camino', 'camino', 'NOUN')],\n",
       " [('Estamos', 'estar', 'VERB'),\n",
       "  ('busca', 'busca', 'NOUN'),\n",
       "  ('local', 'local', 'NOUN'),\n",
       "  ('construir', 'construir', 'VERB'),\n",
       "  ('marca', 'marca', 'NOUN')],\n",
       " [('siglos', 'siglo', 'NOUN'),\n",
       "  ('anticucheras', 'anticuchera', 'NOUN'),\n",
       "  ('esquinas', 'esquina', 'NOUN'),\n",
       "  ('formaron', 'formar', 'VERB'),\n",
       "  ('parte', 'parte', 'NOUN'),\n",
       "  ('ornato', 'ornato', 'NOUN'),\n",
       "  ('identidad', 'identidad', 'NOUN'),\n",
       "  ('ciudad', 'ciudad', 'NOUN'),\n",
       "  ('atractivo', 'atractivo', 'NOUN'),\n",
       "  ('turista', 'turista', 'NOUN')],\n",
       " [('embargo', 'embargo', 'NOUN'),\n",
       "  ('años', 'año', 'NOUN'),\n",
       "  ('autoridades', 'autoridad', 'NOUN'),\n",
       "  ('persiguieron', 'perseguir', 'VERB'),\n",
       "  ('argumentando', 'argumentar', 'VERB'),\n",
       "  ('razones', 'razón', 'NOUN'),\n",
       "  ('vez', 'vez', 'NOUN'),\n",
       "  ('darles', 'dar él', 'VERB'),\n",
       "  ('herramientas', 'herramienta', 'NOUN'),\n",
       "  ('estuvieran', 'estar', 'AUX'),\n",
       "  ('acuerdo', 'acuerdo', 'NOUN'),\n",
       "  ('tiempos', 'tiempo', 'NOUN'),\n",
       "  ('punto', 'punto', 'NOUN'),\n",
       "  ('es', 'ser', 'AUX'),\n",
       "  ('encontrar', 'encontrar', 'VERB'),\n",
       "  ('anticuchera', 'anticuchera', 'NOUN'),\n",
       "  ('daban', 'dar', 'VERB'),\n",
       "  ('vida', 'vida', 'NOUN'),\n",
       "  ('aroma', 'aroma', 'NOUN'),\n",
       "  ('esquinas', 'esquina', 'NOUN')],\n",
       " [('esquinas', 'esquina', 'NOUN'),\n",
       "  ('han', 'haber', 'AUX'),\n",
       "  ('abierto', 'abrir', 'VERB'),\n",
       "  ('negocios', 'negocio', 'NOUN'),\n",
       "  ('hamburguesas', 'hamburguesa', 'NOUN'),\n",
       "  ('pollos', 'pollo', 'NOUN'),\n",
       "  ('broaster', 'broaster', 'VERB'),\n",
       "  ('costumbres', 'costumbre', 'NOUN'),\n",
       "  ('doñas', 'doña', 'NOUN'),\n",
       "  ('nada', 'nada', 'NOUN'),\n",
       "  ('podrían', 'poder', 'AUX'),\n",
       "  ('cautivar', 'cautivar', 'VERB'),\n",
       "  ('extranjero', 'extranjero', 'NOUN'),\n",
       "  ('visita', 'visitar', 'VERB')],\n",
       " [('Es', 'ser', 'AUX'),\n",
       "  ('espíritu', 'espíritu', 'NOUN'),\n",
       "  ('nace', 'nacer', 'VERB'),\n",
       "  ('homenaje', 'homenaje', 'NOUN'),\n",
       "  ('tradición', 'tradición', 'NOUN'),\n",
       "  ('anticucheras', 'anticuchera', 'NOUN'),\n",
       "  ('vez', 'vez', 'NOUN'),\n",
       "  ('adornaron', 'adornar', 'VERB'),\n",
       "  ('ciudad', 'ciudad', 'NOUN')],\n",
       " [('Anticuchería', 'anticuchería', 'NOUN'),\n",
       "  ('restaurante', 'restaurante', 'NOUN'),\n",
       "  ('verdad', 'verdad', 'NOUN'),\n",
       "  ('servicio', 'servicio', 'NOUN'),\n",
       "  ('diseño', 'diseño', 'NOUN'),\n",
       "  ('filosofía', 'filosofía', 'NOUN'),\n",
       "  ('anticuchería', 'anticuchería', 'NOUN'),\n",
       "  ('será', 'ser', 'AUX'),\n",
       "  ('vendida', 'vender', 'VERB'),\n",
       "  ('mundo', 'mundo', 'NOUN'),\n",
       "  ('parrilla', 'parrilla', 'NOUN'),\n",
       "  ('peruanos', 'peruano', 'NOUN'),\n",
       "  ('nace', 'nacer', 'VERB'),\n",
       "  ('vocación', 'vocación', 'NOUN'),\n",
       "  ('competir', 'competir', 'VERB'),\n",
       "  ('parrillas', 'parrilla', 'NOUN'),\n",
       "  ('rodizios', 'rodizio', 'NOUN'),\n",
       "  ('mundo', 'mundo', 'NOUN'),\n",
       "  ('anticucho', 'anticucho', 'NOUN'),\n",
       "  ('marco', 'marco', 'NOUN'),\n",
       "  ('decoración', 'decoración', 'NOUN'),\n",
       "  ('recuerda', 'recordar', 'VERB'),\n",
       "  ('haciendas', 'hacienda', 'NOUN'),\n",
       "  ('anticucheras', 'anticuchera', 'NOUN'),\n",
       "  ('vez', 'vez', 'NOUN'),\n",
       "  ('parrilleros', 'parrillero', 'NOUN'),\n",
       "  ('parrillas', 'parrilla', 'NOUN'),\n",
       "  ('esquinas', 'esquina', 'NOUN'),\n",
       "  ('huancaínas', 'huancaína', 'NOUN'),\n",
       "  ('cremas', 'crema', 'NOUN'),\n",
       "  ('vez', 'vez', 'NOUN'),\n",
       "  ('chimichurris', 'chimichurri', 'NOUN'),\n",
       "  ('tipos', 'tipo', 'NOUN'),\n",
       "  ('anticuchos', 'anticucho', 'NOUN'),\n",
       "  ('sabores', 'sabor', 'NOUN'),\n",
       "  ('corazón', 'corazón', 'NOUN'),\n",
       "  ('atún', 'atún', 'NOUN'),\n",
       "  ('yuca', 'yuca', 'NOUN'),\n",
       "  ('papas', 'papa', 'NOUN'),\n",
       "  ('choclos', 'choclo', 'NOUN'),\n",
       "  ('tacu', 'tacu', 'NOUN'),\n",
       "  ('tacus', 'tacus', 'NOUN'),\n",
       "  ('vez', 'vez', 'NOUN'),\n",
       "  ('papas', 'papa', 'NOUN'),\n",
       "  ('música', 'música', 'NOUN'),\n",
       "  ('vez', 'vez', 'NOUN'),\n",
       "  ('tangos', 'tango', 'NOUN'),\n",
       "  ('fiesta', 'fiesta', 'NOUN'),\n",
       "  ('sabores', 'sabor', 'NOUN'),\n",
       "  ('vez', 'vez', 'NOUN'),\n",
       "  ('pieza', 'pieza', 'NOUN'),\n",
       "  ('carne', 'carne', 'NOUN'),\n",
       "  ('gramos', 'gramo', 'NOUN')],\n",
       " [('anticuchera', 'anticuchera', 'NOUN'),\n",
       "  ('esquina', 'esquina', 'NOUN'),\n",
       "  ('quedará', 'quedar', 'VERB'),\n",
       "  ('restaurante', 'restaurante', 'NOUN')],\n",
       " [('internacionalización', 'internacionalización', 'NOUN'),\n",
       "  ('dependerá', 'depender', 'VERB'),\n",
       "  ('éxito', 'éxito', 'NOUN'),\n",
       "  ('cebicherías', 'cebichería', 'NOUN')],\n",
       " [('Estamos', 'estar', 'AUX'),\n",
       "  ('proceso', 'proceso', 'NOUN'),\n",
       "  ('creación', 'creación', 'NOUN'),\n",
       "  ('marcas', 'marca', 'NOUN')],\n",
       " [('es', 'ser', 'AUX'),\n",
       "  ('chifa', 'chifa', 'NOUN'),\n",
       "  ('sea', 'ser', 'AUX'),\n",
       "  ('reflejo', 'reflejo', 'NOUN'),\n",
       "  ('fusión', 'fusión', 'NOUN'),\n",
       "  ('restaurante', 'restaurante', 'NOUN'),\n",
       "  ('toques', 'toque', 'NOUN')],\n",
       " [('cuenta', 'contar', 'VERB'),\n",
       "  ('chifas', 'chifa', 'NOUN'),\n",
       "  ('embargo', 'embargo', 'NOUN'),\n",
       "  ('tenemos', 'tener', 'VERB'),\n",
       "  ('marca', 'marca', 'NOUN')],\n",
       " [('Deberemos', 'deber', 'VERB'),\n",
       "  ('crear', 'crear', 'VERB'),\n",
       "  ('decoración', 'decoración', 'NOUN'),\n",
       "  ('ambiente', 'ambiente', 'NOUN'),\n",
       "  ('música', 'música', 'NOUN'),\n",
       "  ('filosofía', 'filosofía', 'NOUN'),\n",
       "  ('servicio', 'servicio', 'NOUN'),\n",
       "  ('comida', 'comida', 'NOUN'),\n",
       "  ('comida', 'comida', 'NOUN'),\n",
       "  ('sea', 'ser', 'AUX'),\n",
       "  ('reflejo', 'reflejo', 'NOUN'),\n",
       "  ('mestizaje', 'mestizaje', 'NOUN'),\n",
       "  ('diferenciación', 'diferenciación', 'NOUN'),\n",
       "  ('será', 'ser', 'AUX'),\n",
       "  ('clave', 'clave', 'NOUN'),\n",
       "  ('internacionalización', 'internacionalización', 'NOUN')],\n",
       " [('Estamos', 'estar', 'AUX'),\n",
       "  ('proceso', 'proceso', 'NOUN'),\n",
       "  ('creación', 'creación', 'NOUN'),\n",
       "  ('pollería', 'pollería', 'NOUN'),\n",
       "  ('sueños', 'sueño', 'NOUN'),\n",
       "  ('guarniciones', 'guarnición', 'NOUN'),\n",
       "  ('harán', 'hacer', 'VERB'),\n",
       "  ('diferencia', 'diferencia', 'NOUN'),\n",
       "  ('lares', 'lar', 'NOUN'),\n",
       "  ('brasa', 'brasa', 'NOUN'),\n",
       "  ('da', 'dar', 'VERB'),\n",
       "  ('sabor', 'sabor', 'NOUN'),\n",
       "  ('comercios', 'comercio', 'NOUN'),\n",
       "  ('devalúan', 'devaluar', 'VERB'),\n",
       "  ('llamándolo', 'llamar él', 'VERB'),\n",
       "  ('brasa', 'brasa', 'NOUN'),\n",
       "  ('usan', 'usar', 'VERB'),\n",
       "  ('gas', 'gas', 'NOUN'),\n",
       "  ('será', 'ser', 'AUX'),\n",
       "  ('marque', 'marcar', 'VERB'),\n",
       "  ('diferencia', 'diferencia', 'NOUN'),\n",
       "  ('sello', 'sello', 'NOUN')],\n",
       " [('Crearemos', 'crear', 'VERB'),\n",
       "  ('cadena', 'cadena', 'NOUN'),\n",
       "  ('hoteles', 'hotel', 'NOUN'),\n",
       "  ('lugares', 'lugar', 'NOUN'),\n",
       "  ('país', 'país', 'NOUN'),\n",
       "  ('espíritu', 'espíritu', 'NOUN'),\n",
       "  ('diseño', 'diseño', 'NOUN'),\n",
       "  ('precio', 'precio', 'NOUN'),\n",
       "  ('servicio', 'servicio', 'NOUN'),\n",
       "  ('vez', 'vez', 'NOUN'),\n",
       "  ('cocina', 'cocina', 'NOUN'),\n",
       "  ('marcas', 'marca', 'NOUN'),\n",
       "  ('serán', 'ser', 'AUX'),\n",
       "  ('clave', 'clave', 'NOUN'),\n",
       "  ('crecimiento', 'crecimiento', 'NOUN'),\n",
       "  ('internacionalización', 'internacionalización', 'NOUN')],\n",
       " [('hemos', 'haber', 'AUX'),\n",
       "  ('terminado', 'terminar', 'VERB'),\n",
       "  ('desarrollar', 'desarrollar', 'VERB'),\n",
       "  ('es', 'ser', 'AUX'),\n",
       "  ('comienzo', 'comienzo', 'NOUN'),\n",
       "  ('división', 'división', 'NOUN')],\n",
       " [('Tenemos', 'tener', 'VERB'),\n",
       "  ('futuro', 'futuro', 'NOUN'),\n",
       "  ('desarrollo', 'desarrollo', 'NOUN'),\n",
       "  ('cocina', 'cocina', 'NOUN'),\n",
       "  ('solo', 'solo', 'NOUN'),\n",
       "  ('restaurantes', 'restaurante', 'NOUN'),\n",
       "  ('extranjero', 'extranjero', 'NOUN'),\n",
       "  ('también', 'también', 'NOUN'),\n",
       "  ('hábitos', 'hábito', 'NOUN'),\n",
       "  ('consumo', 'consumo', 'NOUN'),\n",
       "  ('generará', 'generar', 'VERB'),\n",
       "  ('demanda', 'demanda', 'NOUN'),\n",
       "  ('bases', 'base', 'NOUN'),\n",
       "  ('sabor', 'sabor', 'NOUN'),\n",
       "  ('salsas', 'salsa', 'NOUN'),\n",
       "  ('productos', 'producto', 'NOUN'),\n",
       "  ('simplifiquen', 'simplificar', 'VERB'),\n",
       "  ('camino', 'camino', 'NOUN'),\n",
       "  ('hora', 'hora', 'NOUN'),\n",
       "  ('preparar', 'preparar', 'VERB'),\n",
       "  ('cebiche', 'cebiche', 'NOUN'),\n",
       "  ('tiradito', 'tiradito', 'NOUN'),\n",
       "  ('causa', 'causa', 'NOUN')],\n",
       " [('Hemos', 'haber', 'AUX'),\n",
       "  ('desarrollado', 'desarrollar', 'VERB'),\n",
       "  ('fórmulas', 'fórmula', 'NOUN'),\n",
       "  ('queda', 'quedar', 'VERB'),\n",
       "  ('esperar', 'esperar', 'VERB'),\n",
       "  ('mercado', 'mercado', 'NOUN'),\n",
       "  ('esté', 'estar', 'AUX'),\n",
       "  ('recibirlas', 'recibir él', 'VERB'),\n",
       "  ('marca', 'marca', 'NOUN'),\n",
       "  ('tenga', 'tener', 'VERB'),\n",
       "  ('aliado', 'aliado', 'NOUN'),\n",
       "  ('productor', 'productor', 'NOUN'),\n",
       "  ('contamos', 'contar', 'VERB'),\n",
       "  ('distribuidor', 'distribuidor', 'NOUN'),\n",
       "  ('está', 'estar', 'AUX'),\n",
       "  ('asumir', 'asumir', 'VERB'),\n",
       "  ('función', 'función', 'NOUN')],\n",
       " [('imagino', 'imaginar', 'VERB'),\n",
       "  ('gente', 'gente', 'NOUN'),\n",
       "  ('preguntará', 'preguntar', 'VERB'),\n",
       "  ('fe', 'fe', 'NOUN')],\n",
       " [('realidad', 'realidad', 'NOUN'),\n",
       "  ('es', 'ser', 'AUX'),\n",
       "  ('fe', 'fe', 'NOUN'),\n",
       "  ('es', 'ser', 'AUX'),\n",
       "  ('resultado', 'resultado', 'NOUN'),\n",
       "  ('análisis', 'análisis', 'NOUN')],\n",
       " [('años', 'años', 'NOUN'),\n",
       "  ('dio', 'dar', 'VERB'),\n",
       "  ('inicio', 'inicio', 'NOUN'),\n",
       "  ('despegue', 'despegue', 'NOUN'),\n",
       "  ('cocina', 'cocina', 'NOUN'),\n",
       "  ('mundo', 'mundo', 'NOUN')],\n",
       " [('había', 'haber', 'AUX'),\n",
       "  ('economías', 'economía', 'NOUN'),\n",
       "  ('estaban', 'estar', 'AUX'),\n",
       "  ('barreras', 'barrera', 'NOUN'),\n",
       "  ('habían', 'haber', 'AUX'),\n",
       "  ('sido', 'ser', 'AUX'),\n",
       "  ('quebradas', 'quebrar', 'VERB'),\n",
       "  ('fusiones', 'fusión', 'NOUN'),\n",
       "  ('estaban', 'estar', 'AUX'),\n",
       "  ('moda', 'moda', 'NOUN')],\n",
       " [('momento', 'momento', 'NOUN'),\n",
       "  ('mejicanos', 'mejicano', 'NOUN'),\n",
       "  ('salieron', 'salir', 'VERB'),\n",
       "  ('mundo', 'mundo', 'NOUN'),\n",
       "  ('tacos', 'taco', 'NOUN'),\n",
       "  ('tequilas', 'tequila', 'NOUN'),\n",
       "  ('conquistarían', 'conquistar', 'VERB')],\n",
       " [('habría', 'haber', 'AUX'), ('restaurantes', 'restaurante', 'NOUN')],\n",
       " [('debe', 'deber', 'AUX'), ('haber', 'haber', 'AUX')],\n",
       " [('solo', 'solo', 'NOUN'),\n",
       "  ('lograron', 'lograr', 'VERB'),\n",
       "  ('introducir', 'introducir', 'VERB'),\n",
       "  ('concepto', 'concepto', 'NOUN'),\n",
       "  ('lograron', 'lograr', 'VERB'),\n",
       "  ('poner', 'poner', 'VERB'),\n",
       "  ('moda', 'moda', 'NOUN'),\n",
       "  ('tequila', 'tequila', 'NOUN'),\n",
       "  ('cerveza', 'cerveza', 'NOUN'),\n",
       "  ('salsas', 'salsa', 'NOUN'),\n",
       "  ('vemos', 'ver', 'VERB'),\n",
       "  ('supermercados', 'supermercado', 'NOUN'),\n",
       "  ('supuesto', 'supuesto', 'NOUN'),\n",
       "  ('chile', 'chile', 'NOUN')],\n",
       " [('difusión', 'difusión', 'NOUN'),\n",
       "  ('chile', 'chile', 'NOUN'),\n",
       "  ('llegó', 'llegar', 'VERB'),\n",
       "  ('punto', 'punto', 'NOUN'),\n",
       "  ('valle', 'valle', 'NOUN'),\n",
       "  ('tiene', 'tener', 'VERB'),\n",
       "  ('producir', 'producir', 'VERB'),\n",
       "  ('chile', 'chile', 'NOUN'),\n",
       "  ('agro', 'agro', 'NOUN'),\n",
       "  ('es', 'ser', 'AUX'),\n",
       "  ('abastecer', 'abastecer', 'VERB'),\n",
       "  ('demanda', 'demanda', 'NOUN')],\n",
       " [('japoneses', 'japonés', 'NOUN'), ('sucedió', 'suceder', 'VERB')],\n",
       " [('inicios', 'inicio', 'NOUN'),\n",
       "  ('ochenta', 'ochenta', 'NOUN'),\n",
       "  ('había', 'haber', 'AUX'),\n",
       "  ('sushi', 'sushi', 'NOUN'),\n",
       "  ('bares', 'bares', 'NOUN'),\n",
       "  ('mundo', 'mundo', 'NOUN')],\n",
       " [('hay', 'haber', 'AUX'),\n",
       "  ('gracias', 'gracias', 'NOUN'),\n",
       "  ('pudieron', 'poder', 'AUX'),\n",
       "  ('entrar', 'entrar', 'VERB'),\n",
       "  ('solo', 'solo', 'NOUN'),\n",
       "  ('productos', 'producto', 'NOUN'),\n",
       "  ('conceptos', 'concepto', 'NOUN'),\n",
       "  ('teppanyakki', 'teppanyakki', 'NOUN'),\n",
       "  ('noodle', 'noodle', 'NOUN'),\n",
       "  ('bars', 'bars', 'NOUN'),\n",
       "  ('moda', 'moda', 'NOUN')],\n",
       " [('barreras', 'barrera', 'NOUN'),\n",
       "  ('existen', 'existir', 'VERB'),\n",
       "  ('está', 'estar', 'AUX'),\n",
       "  ('servicio', 'servicio', 'NOUN'),\n",
       "  ('conocimientos', 'conocimiento', 'NOUN'),\n",
       "  ('economías', 'economía', 'NOUN'),\n",
       "  ('han', 'haber', 'AUX'),\n",
       "  ('globalizado', 'globalizar', 'VERB'),\n",
       "  ('estudios', 'estudio', 'NOUN'),\n",
       "  ('prensa', 'prensa', 'NOUN'),\n",
       "  ('consumidor', 'consumidor', 'NOUN'),\n",
       "  ('dan', 'dar', 'VERB'),\n",
       "  ('señales', 'señal', 'NOUN'),\n",
       "  ('estar', 'estar', 'AUX'),\n",
       "  ('esperándonos', 'esperar yo', 'VERB'),\n",
       "  ('contamos', 'contar', 'VERB'),\n",
       "  ('producto', 'producto', 'NOUN'),\n",
       "  ('productos', 'producto', 'NOUN'),\n",
       "  ('ofrecer', 'ofrecer', 'VERB'),\n",
       "  ('creer', 'creer', 'VERB'),\n",
       "  ('vamos', 'ir', 'AUX'),\n",
       "  ('fracasar', 'fracasar', 'VERB'),\n",
       "  ('intento', 'intento', 'NOUN')],\n",
       " [('fe', 'fe', 'NOUN'),\n",
       "  ('nace', 'nacer', 'VERB'),\n",
       "  ('análisis', 'análisis', 'NOUN'),\n",
       "  ('ilusión', 'ilusión', 'NOUN'),\n",
       "  ('fuerza', 'fuerza', 'NOUN'),\n",
       "  ('nace', 'nacer', 'VERB'),\n",
       "  ('deber', 'deber', 'NOUN'),\n",
       "  ('convicción', 'convicción', 'NOUN'),\n",
       "  ('cocineros', 'cocinero', 'NOUN'),\n",
       "  ('somos', 'ser', 'AUX'),\n",
       "  ('actores', 'actor', 'NOUN'),\n",
       "  ('procesos', 'proceso', 'NOUN'),\n",
       "  ('cambio', 'cambio', 'NOUN'),\n",
       "  ('necesita', 'necesitar', 'VERB')],\n",
       " [('Creemos', 'creer', 'VERB'),\n",
       "  ('éxito', 'éxito', 'NOUN'),\n",
       "  ('restaurantes', 'restaurante', 'NOUN'),\n",
       "  ('mundo', 'mundo', 'NOUN'),\n",
       "  ('traerá', 'traer', 'VERB'),\n",
       "  ('beneficios', 'beneficio', 'NOUN'),\n",
       "  ('país', 'país', 'NOUN')],\n",
       " [('Imaginamos', 'imaginar', 'VERB'),\n",
       "  ('años', 'año', 'NOUN'),\n",
       "  ('escenario', 'escenario', 'NOUN'),\n",
       "  ('existan', 'existir', 'VERB'),\n",
       "  ('hay', 'haber', 'AUX'),\n",
       "  ('mejicanos', 'mejicano', 'NOUN'),\n",
       "  ('restaurantes', 'restaurante', 'NOUN'),\n",
       "  ('tipo', 'tipo', 'NOUN'),\n",
       "  ('partes', 'parte', 'NOUN')],\n",
       " [('Supongamos', 'suponer', 'VERB'),\n",
       "  ('caminemos', 'caminar', 'VERB'),\n",
       "  ('ciudad', 'ciudad', 'NOUN'),\n",
       "  ('encontraremos', 'encontrar', 'VERB'),\n",
       "  ('anticuchería', 'anticuchería', 'NOUN'),\n",
       "  ('lado', 'lado', 'NOUN'),\n",
       "  ('pizzería', 'pizzería', 'NOUN'),\n",
       "  ('sanguchería', 'sanguchería', 'NOUN'),\n",
       "  ('lado', 'lado', 'NOUN'),\n",
       "  ('hamburguesería', 'hamburguesería', 'NOUN'),\n",
       "  ('cebichería', 'cebichería', 'NOUN'),\n",
       "  ('lado', 'lado', 'NOUN'),\n",
       "  ('sushi', 'sushi', 'NOUN'),\n",
       "  ('bar', 'bar', 'NOUN'),\n",
       "  ('restaurante', 'restaurante', 'NOUN'),\n",
       "  ('lado', 'lado', 'NOUN')],\n",
       " [('somos', 'ser', 'AUX'),\n",
       "  ('concebir', 'concebir', 'VERB'),\n",
       "  ('realidad', 'realidad', 'NOUN'),\n",
       "  ('podremos', 'poder', 'AUX'),\n",
       "  ('imaginarnos', 'imaginar yo', 'VERB'),\n",
       "  ('beneficios', 'beneficio', 'NOUN'),\n",
       "  ('escenario', 'escenario', 'NOUN'),\n",
       "  ('traerá', 'traer', 'VERB')],\n",
       " [('demanda', 'demanda', 'NOUN'),\n",
       "  ('productos', 'producto', 'NOUN'),\n",
       "  ('papa', 'papa', 'NOUN'),\n",
       "  ('ají', 'ají', 'NOUN'),\n",
       "  ('cebolla', 'cebolla', 'NOUN'),\n",
       "  ('rocoto', 'rocoto', 'NOUN'),\n",
       "  ('limón', 'limón', 'NOUN'),\n",
       "  ('multiplicaría', 'multiplicar', 'VERB'),\n",
       "  ('acabaríamos', 'acabacer', 'VERB'),\n",
       "  ('males', 'mal', 'NOUN'),\n",
       "  ('padece', 'padecer', 'VERB'),\n",
       "  ('país', 'país', 'NOUN'),\n",
       "  ('genera', 'generar', 'VERB'),\n",
       "  ('enfrentamiento', 'enfrentamiento', 'NOUN'),\n",
       "  ('profetas', 'profeta', 'NOUN'),\n",
       "  ('empobrecimiento', 'empobrecimiento', 'NOUN'),\n",
       "  ('campesino', 'campesino', 'NOUN')],\n",
       " [('darles', 'dar él', 'VERB'),\n",
       "  ('ejemplo', 'ejemplo', 'NOUN'),\n",
       "  ('kilo', 'kilo', 'NOUN'),\n",
       "  ('papa', 'papa', 'NOUN'),\n",
       "  ('vende', 'vender', 'VERB'),\n",
       "  ('mercados', 'mercado', 'NOUN'),\n",
       "  ('euros', 'euros', 'NOUN'),\n",
       "  ('kilo', 'kilo', 'NOUN')],\n",
       " [('contraste', 'contraste', 'NOUN'),\n",
       "  ('campesino', 'campesino', 'NOUN'),\n",
       "  ('pagan', 'pagar', 'VERB'),\n",
       "  ('céntimos', 'céntimo', 'NOUN'),\n",
       "  ('sol', 'sol', 'NOUN'),\n",
       "  ('chacra', 'chacra', 'NOUN')],\n",
       " [('escenario', 'escenario', 'NOUN'),\n",
       "  ('cambiaría', 'cambiar', 'VERB'),\n",
       "  ('desaparecería', 'desaparecer', 'VERB'),\n",
       "  ('caldo', 'caldo', 'NOUN'),\n",
       "  ('cultivo', 'cultivo', 'NOUN'),\n",
       "  ('inestabilidad', 'inestabilidad', 'NOUN'),\n",
       "  ('país', 'país', 'NOUN')],\n",
       " [('escenario', 'escenario', 'NOUN'),\n",
       "  ('generarían', 'generar', 'VERB'),\n",
       "  ('industrias', 'industria', 'NOUN'),\n",
       "  ('productos', 'producto', 'NOUN'),\n",
       "  ('base', 'base', 'NOUN'),\n",
       "  ('sabor', 'sabor', 'NOUN'),\n",
       "  ('venimos', 'venir', 'VERB'),\n",
       "  ('desarrollando', 'desarrollar', 'VERB'),\n",
       "  ('salsas', 'salsa', 'NOUN'),\n",
       "  ('pisco', 'pisco', 'NOUN'),\n",
       "  ('libros', 'libro', 'NOUN'),\n",
       "  ('revistas', 'revista', 'NOUN'),\n",
       "  ('turismo', 'turismo', 'NOUN'),\n",
       "  ('asesoramiento', 'asesoramiento', 'NOUN'),\n",
       "  ('snacks', 'snack', 'NOUN'),\n",
       "  ('dips', 'dip', 'NOUN'),\n",
       "  ('va', 'ir', 'AUX'),\n",
       "  ('naciendo', 'nacer', 'VERB'),\n",
       "  ('conceptos', 'concepto', 'NOUN'),\n",
       "  ('tenemos', 'tener', 'VERB')],\n",
       " [('ejemplo', 'ejemplo', 'NOUN'),\n",
       "  ('exporta', 'exportar', 'VERB'),\n",
       "  ('productos', 'producto', 'NOUN'),\n",
       "  ('millones', 'millón', 'NOUN'),\n",
       "  ('dólares', 'dólares', 'NOUN'),\n",
       "  ('concepto', 'concepto', 'NOUN'),\n",
       "  ('pizza', 'pizza', 'NOUN'),\n",
       "  ('existe', 'existir', 'VERB'),\n",
       "  ('mundo', 'mundo', 'NOUN')],\n",
       " [('es', 'ser', 'AUX'),\n",
       "  ('imaginar', 'imaginar', 'VERB'),\n",
       "  ('podríamos', 'poder', 'AUX'),\n",
       "  ('generar', 'generar', 'VERB'),\n",
       "  ('torno', 'torno', 'NOUN'),\n",
       "  ('gama', 'gama', 'NOUN'),\n",
       "  ('conceptos', 'concepto', 'NOUN')],\n",
       " [('lograríamos', 'logracer', 'VERB'), ('cifra', 'cifra', 'NOUN')],\n",
       " [('último', 'último', 'NOUN'),\n",
       "  ('hecho', 'hecho', 'NOUN'),\n",
       "  ('tener', 'tener', 'VERB'),\n",
       "  ('conceptos', 'concepto', 'NOUN'),\n",
       "  ('marcas', 'marca', 'NOUN'),\n",
       "  ('mundo', 'mundo', 'NOUN'),\n",
       "  ('daría', 'dar', 'VERB'),\n",
       "  ('marca', 'marca', 'NOUN'),\n",
       "  ('poder', 'poder', 'NOUN'),\n",
       "  ('seducción', 'seducción', 'NOUN'),\n",
       "  ('solo', 'solo', 'NOUN'),\n",
       "  ('llamaría', 'llamar', 'VERB'),\n",
       "  ('atención', 'atención', 'NOUN'),\n",
       "  ('público', 'público', 'NOUN'),\n",
       "  ('propuestas', 'propuesta', 'NOUN'),\n",
       "  ('moda', 'moda', 'NOUN'),\n",
       "  ('diseño', 'diseño', 'NOUN'),\n",
       "  ('joyería', 'joyería', 'NOUN'),\n",
       "  ('música', 'música', 'NOUN'),\n",
       "  ('industria', 'industria', 'NOUN'),\n",
       "  ('incentivaría', 'incentivar', 'VERB'),\n",
       "  ('activaría', 'activar', 'VERB'),\n",
       "  ('creatividad', 'creatividad', 'NOUN'),\n",
       "  ('confianza', 'confianza', 'NOUN'),\n",
       "  ('jóvenes', 'joven', 'NOUN'),\n",
       "  ('elaborar', 'elaborar', 'VERB'),\n",
       "  ('conceptos', 'concepto', 'NOUN'),\n",
       "  ('tener', 'tener', 'VERB'),\n",
       "  ('valentía', 'valentía', 'NOUN'),\n",
       "  ('salir', 'salir', 'VERB'),\n",
       "  ('mundo', 'mundo', 'NOUN')],\n",
       " [('razones', 'razón', 'NOUN'),\n",
       "  ('creemos', 'creer', 'VERB'),\n",
       "  ('cocineros', 'cocinero', 'NOUN'),\n",
       "  ('tenemos', 'tener', 'VERB'),\n",
       "  ('cosas', 'cosa', 'NOUN'),\n",
       "  ('decir', 'decir', 'VERB'),\n",
       "  ('cocinar', 'cocinar', 'VERB'),\n",
       "  ('tenemos', 'tener', 'VERB'),\n",
       "  ('responsabilidad', 'responsabilidad', 'NOUN'),\n",
       "  ('miembros', 'miembro', 'NOUN'),\n",
       "  ('generación', 'generación', 'NOUN'),\n",
       "  ('ha', 'haber', 'AUX'),\n",
       "  ('dado', 'dar', 'VERB'),\n",
       "  ('generosidad', 'generosidad', 'NOUN'),\n",
       "  ('oportunidad', 'oportunidad', 'NOUN'),\n",
       "  ('representar', 'representar', 'VERB'),\n",
       "  ('país', 'país', 'NOUN'),\n",
       "  ('tiene', 'tener', 'VERB'),\n",
       "  ('gastronomía', 'gastronomía', 'NOUN'),\n",
       "  ('mercado', 'mercado', 'NOUN'),\n",
       "  ('valora', 'valorar', 'VERB'),\n",
       "  ('aprecia', 'apreciar', 'VERB'),\n",
       "  ('puede', 'poder', 'AUX'),\n",
       "  ('generar', 'generar', 'VERB'),\n",
       "  ('cambios', 'cambio', 'NOUN'),\n",
       "  ('solo', 'solo', 'NOUN'),\n",
       "  ('manera', 'manera', 'NOUN'),\n",
       "  ('peruanos', 'peruano', 'NOUN'),\n",
       "  ('debemos', 'deber', 'AUX'),\n",
       "  ('encarar', 'encarar', 'VERB'),\n",
       "  ('futuro', 'futuro', 'NOUN'),\n",
       "  ('futuro', 'futuro', 'NOUN')],\n",
       " [('peruanos', 'peruano', 'NOUN'),\n",
       "  ('debemos', 'deber', 'AUX'),\n",
       "  ('buscar', 'buscar', 'VERB'),\n",
       "  ('riqueza', 'riqueza', 'NOUN'),\n",
       "  ('estamos', 'estar', 'AUX'),\n",
       "  ('oportunidades', 'oportunidad', 'NOUN'),\n",
       "  ('partes', 'parte', 'NOUN'),\n",
       "  ('esperando', 'esperar', 'VERB'),\n",
       "  ('dé', 'dar', 'VERB'),\n",
       "  ('valor', 'valor', 'NOUN'),\n",
       "  ('fuerza', 'fuerza', 'NOUN'),\n",
       "  ('convertirlas', 'convertir él', 'VERB'),\n",
       "  ('vender', 'vender', 'VERB'),\n",
       "  ('mundo', 'mundo', 'NOUN')],\n",
       " [('clave', 'clave', 'NOUN'),\n",
       "  ('está', 'estar', 'VERB'),\n",
       "  ('entender', 'entender', 'VERB'),\n",
       "  ('somos', 'ser', 'AUX'),\n",
       "  ('nación', 'nación', 'NOUN'),\n",
       "  ('cultura', 'cultura', 'NOUN'),\n",
       "  ('fruto', 'fruto', 'NOUN'),\n",
       "  ('siglos', 'siglo', 'NOUN'),\n",
       "  ('mestizaje', 'mestizaje', 'NOUN'),\n",
       "  ('es', 'ser', 'AUX'),\n",
       "  ('mestizaje', 'mestizaje', 'NOUN'),\n",
       "  ('ha', 'haber', 'AUX'),\n",
       "  ('hecho', 'hacer', 'VERB'),\n",
       "  ('cocina', 'cocina', 'NOUN'),\n",
       "  ('propuesta', 'propuesta', 'NOUN'),\n",
       "  ('ha', 'haber', 'AUX'),\n",
       "  ('cautivado', 'cautivar', 'VERB'),\n",
       "  ('público', 'público', 'NOUN')],\n",
       " [('Es', 'ser', 'AUX'),\n",
       "  ('mestizaje', 'mestizaje', 'NOUN'),\n",
       "  ('peruanos', 'peruano', 'NOUN'),\n",
       "  ('debemos', 'deber', 'AUX'),\n",
       "  ('encontrar', 'encontrar', 'VERB'),\n",
       "  ('fuente', 'fuente', 'NOUN'),\n",
       "  ('inspiración', 'inspiración', 'NOUN'),\n",
       "  ('solo', 'solo', 'NOUN'),\n",
       "  ('generar', 'generar', 'VERB'),\n",
       "  ('riqueza', 'riqueza', 'NOUN'),\n",
       "  ('aceptarnos', 'aceptar yo', 'VERB'),\n",
       "  ('querernos', 'querer yo', 'VERB'),\n",
       "  ('nación', 'nación', 'NOUN')],\n",
       " [('partir', 'partir', 'NOUN'),\n",
       "  ('podremos', 'poder', 'AUX'),\n",
       "  ('encontrar', 'encontrar', 'VERB'),\n",
       "  ('ideas', 'idea', 'NOUN'),\n",
       "  ('saldrán', 'salir', 'VERB'),\n",
       "  ('productos', 'producto', 'NOUN'),\n",
       "  ('marcas', 'marca', 'NOUN'),\n",
       "  ('conquistar', 'conquistar', 'VERB'),\n",
       "  ('planeta', 'planeta', 'NOUN')],\n",
       " [('estoy', 'estar', 'AUX'),\n",
       "  ('hecho', 'hecho', 'NOUN'),\n",
       "  ('poder', 'poder', 'AUX'),\n",
       "  ('dirigirme', 'dirigir yo', 'VERB'),\n",
       "  ('solo', 'solo', 'NOUN'),\n",
       "  ('contarles', 'contar él', 'VERB'),\n",
       "  ('cosas', 'cosa', 'NOUN'),\n",
       "  ('recordarles', 'recordar él', 'VERB'),\n",
       "  ('son', 'ser', 'AUX'),\n",
       "  ('jóvenes', 'joven', 'NOUN'),\n",
       "  ('país', 'país', 'NOUN')],\n",
       " [('son', 'ser', 'AUX'),\n",
       "  ('suerte', 'suerte', 'NOUN'),\n",
       "  ('concedió', 'conceder', 'VERB'),\n",
       "  ('haber', 'haber', 'AUX'),\n",
       "  ('nacido', 'nacer', 'VERB'),\n",
       "  ('familia', 'familia', 'NOUN'),\n",
       "  ('pudo', 'poder', 'AUX'),\n",
       "  ('educar', 'educar', 'VERB'),\n",
       "  ('amor', 'amor', 'NOUN'),\n",
       "  ('país', 'país', 'NOUN'),\n",
       "  ('niños', 'niño', 'NOUN'),\n",
       "  ('siquiera', 'siquiera', 'NOUN'),\n",
       "  ('conocen', 'conocer', 'VERB'),\n",
       "  ('amor', 'amor', 'NOUN')],\n",
       " [('están', 'estar', 'AUX'),\n",
       "  ('recibiendo', 'recibir', 'VERB'),\n",
       "  ('educación', 'educación', 'NOUN'),\n",
       "  ('recibí', 'recibir', 'VERB'),\n",
       "  ('reciben', 'recibir', 'VERB'),\n",
       "  ('hijas', 'hija', 'NOUN'),\n",
       "  ('niñas', 'niña', 'NOUN'),\n",
       "  ('vez', 'vez', 'NOUN'),\n",
       "  ('ir', 'ir', 'VERB'),\n",
       "  ('escuela', 'escuela', 'NOUN'),\n",
       "  ('tienen', 'tener', 'VERB'),\n",
       "  ('trabajar', 'trabajar', 'VERB')],\n",
       " [('solo', 'solo', 'NOUN'),\n",
       "  ('debe', 'deber', 'AUX'),\n",
       "  ('indignarnos', 'indignar yo', 'VERB'),\n",
       "  ('ciudadanos', 'ciudadano', 'NOUN'),\n",
       "  ('país', 'país', 'NOUN'),\n",
       "  ('amamos', 'amar', 'VERB'),\n",
       "  ('queremos', 'querer', 'VERB'),\n",
       "  ('crear', 'crear', 'VERB'),\n",
       "  ('riqueza', 'riqueza', 'NOUN'),\n",
       "  ('logros', 'logro', 'NOUN'),\n",
       "  ('debe', 'deber', 'AUX'),\n",
       "  ('convertirnos', 'convertir yo', 'VERB'),\n",
       "  ('actores', 'actor', 'NOUN'),\n",
       "  ('revertir', 'revertir', 'VERB'),\n",
       "  ('situación', 'situación', 'NOUN'),\n",
       "  ('llevarnos', 'llevar yo', 'VERB'),\n",
       "  ('construir', 'construir', 'VERB'),\n",
       "  ('país', 'país', 'NOUN'),\n",
       "  ('riqueza', 'riqueza', 'NOUN'),\n",
       "  ('sintamos', 'sentar', 'VERB'),\n",
       "  ('orgullo', 'orgullo', 'NOUN'),\n",
       "  ('formar', 'formar', 'VERB'),\n",
       "  ('parte', 'parte', 'NOUN'),\n",
       "  ('nación', 'nación', 'NOUN'),\n",
       "  ('oportunidades', 'oportunidad', 'NOUN'),\n",
       "  ('están', 'estar', 'AUX'),\n",
       "  ('educación', 'educación', 'NOUN'),\n",
       "  ('existe', 'existir', 'VERB'),\n",
       "  ('justicia', 'justicia', 'NOUN'),\n",
       "  ('mano', 'mano', 'NOUN'),\n",
       "  ('ciudadanos', 'ciudadano', 'NOUN'),\n",
       "  ('vigila', 'vigilar', 'VERB'),\n",
       "  ('interviene', 'intervenir', 'VERB'),\n",
       "  ('frente', 'frente', 'NOUN'),\n",
       "  ('arbitrariedad', 'arbitrariedad', 'NOUN'),\n",
       "  ('abuso', 'abuso', 'NOUN'),\n",
       "  ('rompimiento', 'rompimiento', 'NOUN'),\n",
       "  ('reglas', 'regla', 'NOUN'),\n",
       "  ('juego', 'juego', 'NOUN')],\n",
       " [('Créanme', 'crean yo', 'VERB'),\n",
       "  ('es', 'ser', 'AUX'),\n",
       "  ('cumplir', 'cumplir', 'VERB'),\n",
       "  ('sueños', 'sueño', 'NOUN'),\n",
       "  ('tenemos', 'tener', 'VERB'),\n",
       "  ('sueño', 'sueño', 'NOUN')],\n",
       " [('éxito', 'éxito', 'NOUN'),\n",
       "  ('llegará', 'llegar', 'VERB'),\n",
       "  ('objetivos', 'objetivo', 'NOUN'),\n",
       "  ('trascienden', 'trascender', 'VERB'),\n",
       "  ('ámbito', 'ámbito', 'NOUN'),\n",
       "  ('formar', 'formar', 'VERB'),\n",
       "  ('parte', 'parte', 'NOUN'),\n",
       "  ('aspiración', 'aspiración', 'NOUN')],\n",
       " [('reconstruyó', 'reconstruir', 'VERB'),\n",
       "  ('país', 'país', 'NOUN'),\n",
       "  ('ruinas', 'ruina', 'NOUN'),\n",
       "  ('convertirse', 'convertir él', 'VERB'),\n",
       "  ('potencia', 'potencia', 'NOUN'),\n",
       "  ('individuos', 'individuo', 'NOUN'),\n",
       "  ('eran', 'ser', 'AUX')],\n",
       " [('hizo', 'hacer', 'VERB'), ('naciones', 'nación', 'NOUN')],\n",
       " [('Es', 'ser', 'AUX'),\n",
       "  ('espíritu', 'espíritu', 'NOUN'),\n",
       "  ('abre', 'abrir', 'VERB'),\n",
       "  ('mundo', 'mundo', 'NOUN'),\n",
       "  ('cuestiona', 'cuestionar', 'VERB'),\n",
       "  ('tolera', 'tolerar', 'VERB'),\n",
       "  ('abraza', 'abrazar', 'VERB'),\n",
       "  ('integra', 'integrar', 'VERB'),\n",
       "  ('aplaude', 'aplaudir', 'VERB'),\n",
       "  ('éxito', 'éxito', 'NOUN'),\n",
       "  ('nacionalismo', 'nacionalismo', 'NOUN'),\n",
       "  ('lamenta', 'lamentar', 'VERB'),\n",
       "  ('condena', 'condenar', 'VERB'),\n",
       "  ('divide', 'dividir', 'VERB'),\n",
       "  ('encierra', 'encerrar', 'VERB'),\n",
       "  ('protege', 'proteger', 'VERB'),\n",
       "  ('mediocridad', 'mediocridad', 'NOUN'),\n",
       "  ('peruanos', 'peruano', 'NOUN'),\n",
       "  ('alcanzaremos', 'alcanzar', 'VERB'),\n",
       "  ('rostro', 'rostro', 'NOUN'),\n",
       "  ('nación', 'nación', 'NOUN'),\n",
       "  ('prosperidad', 'prosperidad', 'NOUN')],\n",
       " [('terminar', 'terminar', 'VERB'),\n",
       "  ('quisiera', 'querer', 'VERB'),\n",
       "  ('decirles', 'decir él', 'VERB'),\n",
       "  ('realidad', 'realidad', 'NOUN'),\n",
       "  ('pedirles', 'pedir él', 'VERB'),\n",
       "  ('vayan', 'ir', 'VERB'),\n",
       "  ('son', 'ser', 'AUX'),\n",
       "  ('hijos', 'hijo', 'NOUN'),\n",
       "  ('hijos', 'hijo', 'NOUN')],\n",
       " [('salen', 'salir', 'VERB'),\n",
       "  ('estudiar', 'estudiar', 'VERB'),\n",
       "  ('maestría', 'maestría', 'NOUN'),\n",
       "  ('regresen', 'regresen', 'VERB')],\n",
       " [('vayan', 'ir', 'VERB'),\n",
       "  ('es', 'ser', 'AUX'),\n",
       "  ('están', 'estar', 'VERB'),\n",
       "  ('oportunidades', 'oportunidad', 'NOUN'),\n",
       "  ('es', 'ser', 'AUX'),\n",
       "  ('está', 'estar', 'VERB'),\n",
       "  ('riqueza', 'riqueza', 'NOUN'),\n",
       "  ('es', 'ser', 'AUX'),\n",
       "  ('vida', 'vida', 'NOUN'),\n",
       "  ('encuentra', 'encontrar', 'VERB'),\n",
       "  ('sentido', 'sentido', 'NOUN')],\n",
       " [('vayan', 'ir', 'VERB'),\n",
       "  ('pueblo', 'pueblo', 'NOUN'),\n",
       "  ('necesita', 'necesitar', 'VERB'),\n",
       "  ('necesita', 'necesitar', 'VERB'),\n",
       "  ('historia', 'historia', 'NOUN'),\n",
       "  ('necesita', 'necesitar', 'VERB')],\n",
       " [('gracias', 'gracia', 'NOUN')]]"
      ]
     },
     "execution_count": 9,
     "metadata": {},
     "output_type": "execute_result"
    }
   ],
   "source": [
    "lista"
   ]
  },
  {
   "cell_type": "code",
   "execution_count": 11,
   "id": "cbd9c9d0-4642-4aab-a521-bf0d38e6c6c0",
   "metadata": {
    "tags": []
   },
   "outputs": [
    {
     "data": {
      "text/html": [
       "<span class=\"tex2jax_ignore\"><svg xmlns=\"http://www.w3.org/2000/svg\" xmlns:xlink=\"http://www.w3.org/1999/xlink\" xml:lang=\"es\" id=\"5370bf604ba44bb3a8de859929cafa1f-0\" class=\"displacy\" width=\"4600\" height=\"749.5\" direction=\"ltr\" style=\"max-width: none; height: 749.5px; color: #000000; background: #ffffff; font-family: Arial; direction: ltr\">\n",
       "<text class=\"displacy-token\" fill=\"currentColor\" text-anchor=\"middle\" y=\"659.5\">\n",
       "    <tspan class=\"displacy-word\" fill=\"currentColor\" x=\"50\">Si</tspan>\n",
       "    <tspan class=\"displacy-tag\" dy=\"2em\" fill=\"currentColor\" x=\"50\">SCONJ</tspan>\n",
       "</text>\n",
       "\n",
       "<text class=\"displacy-token\" fill=\"currentColor\" text-anchor=\"middle\" y=\"659.5\">\n",
       "    <tspan class=\"displacy-word\" fill=\"currentColor\" x=\"225\">bien</tspan>\n",
       "    <tspan class=\"displacy-tag\" dy=\"2em\" fill=\"currentColor\" x=\"225\">ADV</tspan>\n",
       "</text>\n",
       "\n",
       "<text class=\"displacy-token\" fill=\"currentColor\" text-anchor=\"middle\" y=\"659.5\">\n",
       "    <tspan class=\"displacy-word\" fill=\"currentColor\" x=\"400\">podríamos</tspan>\n",
       "    <tspan class=\"displacy-tag\" dy=\"2em\" fill=\"currentColor\" x=\"400\">AUX</tspan>\n",
       "</text>\n",
       "\n",
       "<text class=\"displacy-token\" fill=\"currentColor\" text-anchor=\"middle\" y=\"659.5\">\n",
       "    <tspan class=\"displacy-word\" fill=\"currentColor\" x=\"575\">pensar</tspan>\n",
       "    <tspan class=\"displacy-tag\" dy=\"2em\" fill=\"currentColor\" x=\"575\">VERB</tspan>\n",
       "</text>\n",
       "\n",
       "<text class=\"displacy-token\" fill=\"currentColor\" text-anchor=\"middle\" y=\"659.5\">\n",
       "    <tspan class=\"displacy-word\" fill=\"currentColor\" x=\"750\">que</tspan>\n",
       "    <tspan class=\"displacy-tag\" dy=\"2em\" fill=\"currentColor\" x=\"750\">SCONJ</tspan>\n",
       "</text>\n",
       "\n",
       "<text class=\"displacy-token\" fill=\"currentColor\" text-anchor=\"middle\" y=\"659.5\">\n",
       "    <tspan class=\"displacy-word\" fill=\"currentColor\" x=\"925\">los</tspan>\n",
       "    <tspan class=\"displacy-tag\" dy=\"2em\" fill=\"currentColor\" x=\"925\">DET</tspan>\n",
       "</text>\n",
       "\n",
       "<text class=\"displacy-token\" fill=\"currentColor\" text-anchor=\"middle\" y=\"659.5\">\n",
       "    <tspan class=\"displacy-word\" fill=\"currentColor\" x=\"1100\">recursos</tspan>\n",
       "    <tspan class=\"displacy-tag\" dy=\"2em\" fill=\"currentColor\" x=\"1100\">NOUN</tspan>\n",
       "</text>\n",
       "\n",
       "<text class=\"displacy-token\" fill=\"currentColor\" text-anchor=\"middle\" y=\"659.5\">\n",
       "    <tspan class=\"displacy-word\" fill=\"currentColor\" x=\"1275\">naturales</tspan>\n",
       "    <tspan class=\"displacy-tag\" dy=\"2em\" fill=\"currentColor\" x=\"1275\">ADJ</tspan>\n",
       "</text>\n",
       "\n",
       "<text class=\"displacy-token\" fill=\"currentColor\" text-anchor=\"middle\" y=\"659.5\">\n",
       "    <tspan class=\"displacy-word\" fill=\"currentColor\" x=\"1450\">con</tspan>\n",
       "    <tspan class=\"displacy-tag\" dy=\"2em\" fill=\"currentColor\" x=\"1450\">ADP</tspan>\n",
       "</text>\n",
       "\n",
       "<text class=\"displacy-token\" fill=\"currentColor\" text-anchor=\"middle\" y=\"659.5\">\n",
       "    <tspan class=\"displacy-word\" fill=\"currentColor\" x=\"1625\">los</tspan>\n",
       "    <tspan class=\"displacy-tag\" dy=\"2em\" fill=\"currentColor\" x=\"1625\">DET</tspan>\n",
       "</text>\n",
       "\n",
       "<text class=\"displacy-token\" fill=\"currentColor\" text-anchor=\"middle\" y=\"659.5\">\n",
       "    <tspan class=\"displacy-word\" fill=\"currentColor\" x=\"1800\">que</tspan>\n",
       "    <tspan class=\"displacy-tag\" dy=\"2em\" fill=\"currentColor\" x=\"1800\">PRON</tspan>\n",
       "</text>\n",
       "\n",
       "<text class=\"displacy-token\" fill=\"currentColor\" text-anchor=\"middle\" y=\"659.5\">\n",
       "    <tspan class=\"displacy-word\" fill=\"currentColor\" x=\"1975\">cuenta</tspan>\n",
       "    <tspan class=\"displacy-tag\" dy=\"2em\" fill=\"currentColor\" x=\"1975\">VERB</tspan>\n",
       "</text>\n",
       "\n",
       "<text class=\"displacy-token\" fill=\"currentColor\" text-anchor=\"middle\" y=\"659.5\">\n",
       "    <tspan class=\"displacy-word\" fill=\"currentColor\" x=\"2150\">nuestro</tspan>\n",
       "    <tspan class=\"displacy-tag\" dy=\"2em\" fill=\"currentColor\" x=\"2150\">DET</tspan>\n",
       "</text>\n",
       "\n",
       "<text class=\"displacy-token\" fill=\"currentColor\" text-anchor=\"middle\" y=\"659.5\">\n",
       "    <tspan class=\"displacy-word\" fill=\"currentColor\" x=\"2325\">país</tspan>\n",
       "    <tspan class=\"displacy-tag\" dy=\"2em\" fill=\"currentColor\" x=\"2325\">NOUN</tspan>\n",
       "</text>\n",
       "\n",
       "<text class=\"displacy-token\" fill=\"currentColor\" text-anchor=\"middle\" y=\"659.5\">\n",
       "    <tspan class=\"displacy-word\" fill=\"currentColor\" x=\"2500\">han</tspan>\n",
       "    <tspan class=\"displacy-tag\" dy=\"2em\" fill=\"currentColor\" x=\"2500\">AUX</tspan>\n",
       "</text>\n",
       "\n",
       "<text class=\"displacy-token\" fill=\"currentColor\" text-anchor=\"middle\" y=\"659.5\">\n",
       "    <tspan class=\"displacy-word\" fill=\"currentColor\" x=\"2675\">sido</tspan>\n",
       "    <tspan class=\"displacy-tag\" dy=\"2em\" fill=\"currentColor\" x=\"2675\">AUX</tspan>\n",
       "</text>\n",
       "\n",
       "<text class=\"displacy-token\" fill=\"currentColor\" text-anchor=\"middle\" y=\"659.5\">\n",
       "    <tspan class=\"displacy-word\" fill=\"currentColor\" x=\"2850\">una</tspan>\n",
       "    <tspan class=\"displacy-tag\" dy=\"2em\" fill=\"currentColor\" x=\"2850\">DET</tspan>\n",
       "</text>\n",
       "\n",
       "<text class=\"displacy-token\" fill=\"currentColor\" text-anchor=\"middle\" y=\"659.5\">\n",
       "    <tspan class=\"displacy-word\" fill=\"currentColor\" x=\"3025\">bendición,</tspan>\n",
       "    <tspan class=\"displacy-tag\" dy=\"2em\" fill=\"currentColor\" x=\"3025\">NOUN</tspan>\n",
       "</text>\n",
       "\n",
       "<text class=\"displacy-token\" fill=\"currentColor\" text-anchor=\"middle\" y=\"659.5\">\n",
       "    <tspan class=\"displacy-word\" fill=\"currentColor\" x=\"3200\">la</tspan>\n",
       "    <tspan class=\"displacy-tag\" dy=\"2em\" fill=\"currentColor\" x=\"3200\">DET</tspan>\n",
       "</text>\n",
       "\n",
       "<text class=\"displacy-token\" fill=\"currentColor\" text-anchor=\"middle\" y=\"659.5\">\n",
       "    <tspan class=\"displacy-word\" fill=\"currentColor\" x=\"3375\">historia</tspan>\n",
       "    <tspan class=\"displacy-tag\" dy=\"2em\" fill=\"currentColor\" x=\"3375\">NOUN</tspan>\n",
       "</text>\n",
       "\n",
       "<text class=\"displacy-token\" fill=\"currentColor\" text-anchor=\"middle\" y=\"659.5\">\n",
       "    <tspan class=\"displacy-word\" fill=\"currentColor\" x=\"3550\">nos</tspan>\n",
       "    <tspan class=\"displacy-tag\" dy=\"2em\" fill=\"currentColor\" x=\"3550\">PRON</tspan>\n",
       "</text>\n",
       "\n",
       "<text class=\"displacy-token\" fill=\"currentColor\" text-anchor=\"middle\" y=\"659.5\">\n",
       "    <tspan class=\"displacy-word\" fill=\"currentColor\" x=\"3725\">ha</tspan>\n",
       "    <tspan class=\"displacy-tag\" dy=\"2em\" fill=\"currentColor\" x=\"3725\">AUX</tspan>\n",
       "</text>\n",
       "\n",
       "<text class=\"displacy-token\" fill=\"currentColor\" text-anchor=\"middle\" y=\"659.5\">\n",
       "    <tspan class=\"displacy-word\" fill=\"currentColor\" x=\"3900\">enseñado</tspan>\n",
       "    <tspan class=\"displacy-tag\" dy=\"2em\" fill=\"currentColor\" x=\"3900\">VERB</tspan>\n",
       "</text>\n",
       "\n",
       "<text class=\"displacy-token\" fill=\"currentColor\" text-anchor=\"middle\" y=\"659.5\">\n",
       "    <tspan class=\"displacy-word\" fill=\"currentColor\" x=\"4075\">siempre</tspan>\n",
       "    <tspan class=\"displacy-tag\" dy=\"2em\" fill=\"currentColor\" x=\"4075\">ADV</tspan>\n",
       "</text>\n",
       "\n",
       "<text class=\"displacy-token\" fill=\"currentColor\" text-anchor=\"middle\" y=\"659.5\">\n",
       "    <tspan class=\"displacy-word\" fill=\"currentColor\" x=\"4250\">lo</tspan>\n",
       "    <tspan class=\"displacy-tag\" dy=\"2em\" fill=\"currentColor\" x=\"4250\">PRON</tspan>\n",
       "</text>\n",
       "\n",
       "<text class=\"displacy-token\" fill=\"currentColor\" text-anchor=\"middle\" y=\"659.5\">\n",
       "    <tspan class=\"displacy-word\" fill=\"currentColor\" x=\"4425\">contrario.</tspan>\n",
       "    <tspan class=\"displacy-tag\" dy=\"2em\" fill=\"currentColor\" x=\"4425\">NOUN</tspan>\n",
       "</text>\n",
       "\n",
       "<g class=\"displacy-arrow\">\n",
       "    <path class=\"displacy-arc\" id=\"arrow-5370bf604ba44bb3a8de859929cafa1f-0-0\" stroke-width=\"2px\" d=\"M70,614.5 C70,439.5 550.0,439.5 550.0,614.5\" fill=\"none\" stroke=\"currentColor\"/>\n",
       "    <text dy=\"1.25em\" style=\"font-size: 0.8em; letter-spacing: 1px\">\n",
       "        <textPath xlink:href=\"#arrow-5370bf604ba44bb3a8de859929cafa1f-0-0\" class=\"displacy-label\" startOffset=\"50%\" side=\"left\" fill=\"currentColor\" text-anchor=\"middle\">mark</textPath>\n",
       "    </text>\n",
       "    <path class=\"displacy-arrowhead\" d=\"M70,616.5 L62,604.5 78,604.5\" fill=\"currentColor\"/>\n",
       "</g>\n",
       "\n",
       "<g class=\"displacy-arrow\">\n",
       "    <path class=\"displacy-arc\" id=\"arrow-5370bf604ba44bb3a8de859929cafa1f-0-1\" stroke-width=\"2px\" d=\"M70,614.5 C70,527.0 195.0,527.0 195.0,614.5\" fill=\"none\" stroke=\"currentColor\"/>\n",
       "    <text dy=\"1.25em\" style=\"font-size: 0.8em; letter-spacing: 1px\">\n",
       "        <textPath xlink:href=\"#arrow-5370bf604ba44bb3a8de859929cafa1f-0-1\" class=\"displacy-label\" startOffset=\"50%\" side=\"left\" fill=\"currentColor\" text-anchor=\"middle\">fixed</textPath>\n",
       "    </text>\n",
       "    <path class=\"displacy-arrowhead\" d=\"M195.0,616.5 L203.0,604.5 187.0,604.5\" fill=\"currentColor\"/>\n",
       "</g>\n",
       "\n",
       "<g class=\"displacy-arrow\">\n",
       "    <path class=\"displacy-arc\" id=\"arrow-5370bf604ba44bb3a8de859929cafa1f-0-2\" stroke-width=\"2px\" d=\"M420,614.5 C420,527.0 545.0,527.0 545.0,614.5\" fill=\"none\" stroke=\"currentColor\"/>\n",
       "    <text dy=\"1.25em\" style=\"font-size: 0.8em; letter-spacing: 1px\">\n",
       "        <textPath xlink:href=\"#arrow-5370bf604ba44bb3a8de859929cafa1f-0-2\" class=\"displacy-label\" startOffset=\"50%\" side=\"left\" fill=\"currentColor\" text-anchor=\"middle\">aux</textPath>\n",
       "    </text>\n",
       "    <path class=\"displacy-arrowhead\" d=\"M420,616.5 L412,604.5 428,604.5\" fill=\"currentColor\"/>\n",
       "</g>\n",
       "\n",
       "<g class=\"displacy-arrow\">\n",
       "    <path class=\"displacy-arc\" id=\"arrow-5370bf604ba44bb3a8de859929cafa1f-0-3\" stroke-width=\"2px\" d=\"M595,614.5 C595,2.0 3900.0,2.0 3900.0,614.5\" fill=\"none\" stroke=\"currentColor\"/>\n",
       "    <text dy=\"1.25em\" style=\"font-size: 0.8em; letter-spacing: 1px\">\n",
       "        <textPath xlink:href=\"#arrow-5370bf604ba44bb3a8de859929cafa1f-0-3\" class=\"displacy-label\" startOffset=\"50%\" side=\"left\" fill=\"currentColor\" text-anchor=\"middle\">advcl</textPath>\n",
       "    </text>\n",
       "    <path class=\"displacy-arrowhead\" d=\"M595,616.5 L587,604.5 603,604.5\" fill=\"currentColor\"/>\n",
       "</g>\n",
       "\n",
       "<g class=\"displacy-arrow\">\n",
       "    <path class=\"displacy-arc\" id=\"arrow-5370bf604ba44bb3a8de859929cafa1f-0-4\" stroke-width=\"2px\" d=\"M770,614.5 C770,177.0 3015.0,177.0 3015.0,614.5\" fill=\"none\" stroke=\"currentColor\"/>\n",
       "    <text dy=\"1.25em\" style=\"font-size: 0.8em; letter-spacing: 1px\">\n",
       "        <textPath xlink:href=\"#arrow-5370bf604ba44bb3a8de859929cafa1f-0-4\" class=\"displacy-label\" startOffset=\"50%\" side=\"left\" fill=\"currentColor\" text-anchor=\"middle\">mark</textPath>\n",
       "    </text>\n",
       "    <path class=\"displacy-arrowhead\" d=\"M770,616.5 L762,604.5 778,604.5\" fill=\"currentColor\"/>\n",
       "</g>\n",
       "\n",
       "<g class=\"displacy-arrow\">\n",
       "    <path class=\"displacy-arc\" id=\"arrow-5370bf604ba44bb3a8de859929cafa1f-0-5\" stroke-width=\"2px\" d=\"M945,614.5 C945,527.0 1070.0,527.0 1070.0,614.5\" fill=\"none\" stroke=\"currentColor\"/>\n",
       "    <text dy=\"1.25em\" style=\"font-size: 0.8em; letter-spacing: 1px\">\n",
       "        <textPath xlink:href=\"#arrow-5370bf604ba44bb3a8de859929cafa1f-0-5\" class=\"displacy-label\" startOffset=\"50%\" side=\"left\" fill=\"currentColor\" text-anchor=\"middle\">det</textPath>\n",
       "    </text>\n",
       "    <path class=\"displacy-arrowhead\" d=\"M945,616.5 L937,604.5 953,604.5\" fill=\"currentColor\"/>\n",
       "</g>\n",
       "\n",
       "<g class=\"displacy-arrow\">\n",
       "    <path class=\"displacy-arc\" id=\"arrow-5370bf604ba44bb3a8de859929cafa1f-0-6\" stroke-width=\"2px\" d=\"M1120,614.5 C1120,264.5 3010.0,264.5 3010.0,614.5\" fill=\"none\" stroke=\"currentColor\"/>\n",
       "    <text dy=\"1.25em\" style=\"font-size: 0.8em; letter-spacing: 1px\">\n",
       "        <textPath xlink:href=\"#arrow-5370bf604ba44bb3a8de859929cafa1f-0-6\" class=\"displacy-label\" startOffset=\"50%\" side=\"left\" fill=\"currentColor\" text-anchor=\"middle\">nsubj</textPath>\n",
       "    </text>\n",
       "    <path class=\"displacy-arrowhead\" d=\"M1120,616.5 L1112,604.5 1128,604.5\" fill=\"currentColor\"/>\n",
       "</g>\n",
       "\n",
       "<g class=\"displacy-arrow\">\n",
       "    <path class=\"displacy-arc\" id=\"arrow-5370bf604ba44bb3a8de859929cafa1f-0-7\" stroke-width=\"2px\" d=\"M1120,614.5 C1120,527.0 1245.0,527.0 1245.0,614.5\" fill=\"none\" stroke=\"currentColor\"/>\n",
       "    <text dy=\"1.25em\" style=\"font-size: 0.8em; letter-spacing: 1px\">\n",
       "        <textPath xlink:href=\"#arrow-5370bf604ba44bb3a8de859929cafa1f-0-7\" class=\"displacy-label\" startOffset=\"50%\" side=\"left\" fill=\"currentColor\" text-anchor=\"middle\">amod</textPath>\n",
       "    </text>\n",
       "    <path class=\"displacy-arrowhead\" d=\"M1245.0,616.5 L1253.0,604.5 1237.0,604.5\" fill=\"currentColor\"/>\n",
       "</g>\n",
       "\n",
       "<g class=\"displacy-arrow\">\n",
       "    <path class=\"displacy-arc\" id=\"arrow-5370bf604ba44bb3a8de859929cafa1f-0-8\" stroke-width=\"2px\" d=\"M1470,614.5 C1470,439.5 1775.0,439.5 1775.0,614.5\" fill=\"none\" stroke=\"currentColor\"/>\n",
       "    <text dy=\"1.25em\" style=\"font-size: 0.8em; letter-spacing: 1px\">\n",
       "        <textPath xlink:href=\"#arrow-5370bf604ba44bb3a8de859929cafa1f-0-8\" class=\"displacy-label\" startOffset=\"50%\" side=\"left\" fill=\"currentColor\" text-anchor=\"middle\">case</textPath>\n",
       "    </text>\n",
       "    <path class=\"displacy-arrowhead\" d=\"M1470,616.5 L1462,604.5 1478,604.5\" fill=\"currentColor\"/>\n",
       "</g>\n",
       "\n",
       "<g class=\"displacy-arrow\">\n",
       "    <path class=\"displacy-arc\" id=\"arrow-5370bf604ba44bb3a8de859929cafa1f-0-9\" stroke-width=\"2px\" d=\"M1645,614.5 C1645,527.0 1770.0,527.0 1770.0,614.5\" fill=\"none\" stroke=\"currentColor\"/>\n",
       "    <text dy=\"1.25em\" style=\"font-size: 0.8em; letter-spacing: 1px\">\n",
       "        <textPath xlink:href=\"#arrow-5370bf604ba44bb3a8de859929cafa1f-0-9\" class=\"displacy-label\" startOffset=\"50%\" side=\"left\" fill=\"currentColor\" text-anchor=\"middle\">det</textPath>\n",
       "    </text>\n",
       "    <path class=\"displacy-arrowhead\" d=\"M1645,616.5 L1637,604.5 1653,604.5\" fill=\"currentColor\"/>\n",
       "</g>\n",
       "\n",
       "<g class=\"displacy-arrow\">\n",
       "    <path class=\"displacy-arc\" id=\"arrow-5370bf604ba44bb3a8de859929cafa1f-0-10\" stroke-width=\"2px\" d=\"M1820,614.5 C1820,527.0 1945.0,527.0 1945.0,614.5\" fill=\"none\" stroke=\"currentColor\"/>\n",
       "    <text dy=\"1.25em\" style=\"font-size: 0.8em; letter-spacing: 1px\">\n",
       "        <textPath xlink:href=\"#arrow-5370bf604ba44bb3a8de859929cafa1f-0-10\" class=\"displacy-label\" startOffset=\"50%\" side=\"left\" fill=\"currentColor\" text-anchor=\"middle\">obj</textPath>\n",
       "    </text>\n",
       "    <path class=\"displacy-arrowhead\" d=\"M1820,616.5 L1812,604.5 1828,604.5\" fill=\"currentColor\"/>\n",
       "</g>\n",
       "\n",
       "<g class=\"displacy-arrow\">\n",
       "    <path class=\"displacy-arc\" id=\"arrow-5370bf604ba44bb3a8de859929cafa1f-0-11\" stroke-width=\"2px\" d=\"M1120,614.5 C1120,352.0 1955.0,352.0 1955.0,614.5\" fill=\"none\" stroke=\"currentColor\"/>\n",
       "    <text dy=\"1.25em\" style=\"font-size: 0.8em; letter-spacing: 1px\">\n",
       "        <textPath xlink:href=\"#arrow-5370bf604ba44bb3a8de859929cafa1f-0-11\" class=\"displacy-label\" startOffset=\"50%\" side=\"left\" fill=\"currentColor\" text-anchor=\"middle\">acl</textPath>\n",
       "    </text>\n",
       "    <path class=\"displacy-arrowhead\" d=\"M1955.0,616.5 L1963.0,604.5 1947.0,604.5\" fill=\"currentColor\"/>\n",
       "</g>\n",
       "\n",
       "<g class=\"displacy-arrow\">\n",
       "    <path class=\"displacy-arc\" id=\"arrow-5370bf604ba44bb3a8de859929cafa1f-0-12\" stroke-width=\"2px\" d=\"M2170,614.5 C2170,527.0 2295.0,527.0 2295.0,614.5\" fill=\"none\" stroke=\"currentColor\"/>\n",
       "    <text dy=\"1.25em\" style=\"font-size: 0.8em; letter-spacing: 1px\">\n",
       "        <textPath xlink:href=\"#arrow-5370bf604ba44bb3a8de859929cafa1f-0-12\" class=\"displacy-label\" startOffset=\"50%\" side=\"left\" fill=\"currentColor\" text-anchor=\"middle\">det</textPath>\n",
       "    </text>\n",
       "    <path class=\"displacy-arrowhead\" d=\"M2170,616.5 L2162,604.5 2178,604.5\" fill=\"currentColor\"/>\n",
       "</g>\n",
       "\n",
       "<g class=\"displacy-arrow\">\n",
       "    <path class=\"displacy-arc\" id=\"arrow-5370bf604ba44bb3a8de859929cafa1f-0-13\" stroke-width=\"2px\" d=\"M1995,614.5 C1995,439.5 2300.0,439.5 2300.0,614.5\" fill=\"none\" stroke=\"currentColor\"/>\n",
       "    <text dy=\"1.25em\" style=\"font-size: 0.8em; letter-spacing: 1px\">\n",
       "        <textPath xlink:href=\"#arrow-5370bf604ba44bb3a8de859929cafa1f-0-13\" class=\"displacy-label\" startOffset=\"50%\" side=\"left\" fill=\"currentColor\" text-anchor=\"middle\">nsubj</textPath>\n",
       "    </text>\n",
       "    <path class=\"displacy-arrowhead\" d=\"M2300.0,616.5 L2308.0,604.5 2292.0,604.5\" fill=\"currentColor\"/>\n",
       "</g>\n",
       "\n",
       "<g class=\"displacy-arrow\">\n",
       "    <path class=\"displacy-arc\" id=\"arrow-5370bf604ba44bb3a8de859929cafa1f-0-14\" stroke-width=\"2px\" d=\"M2520,614.5 C2520,352.0 3005.0,352.0 3005.0,614.5\" fill=\"none\" stroke=\"currentColor\"/>\n",
       "    <text dy=\"1.25em\" style=\"font-size: 0.8em; letter-spacing: 1px\">\n",
       "        <textPath xlink:href=\"#arrow-5370bf604ba44bb3a8de859929cafa1f-0-14\" class=\"displacy-label\" startOffset=\"50%\" side=\"left\" fill=\"currentColor\" text-anchor=\"middle\">aux</textPath>\n",
       "    </text>\n",
       "    <path class=\"displacy-arrowhead\" d=\"M2520,616.5 L2512,604.5 2528,604.5\" fill=\"currentColor\"/>\n",
       "</g>\n",
       "\n",
       "<g class=\"displacy-arrow\">\n",
       "    <path class=\"displacy-arc\" id=\"arrow-5370bf604ba44bb3a8de859929cafa1f-0-15\" stroke-width=\"2px\" d=\"M2695,614.5 C2695,439.5 3000.0,439.5 3000.0,614.5\" fill=\"none\" stroke=\"currentColor\"/>\n",
       "    <text dy=\"1.25em\" style=\"font-size: 0.8em; letter-spacing: 1px\">\n",
       "        <textPath xlink:href=\"#arrow-5370bf604ba44bb3a8de859929cafa1f-0-15\" class=\"displacy-label\" startOffset=\"50%\" side=\"left\" fill=\"currentColor\" text-anchor=\"middle\">cop</textPath>\n",
       "    </text>\n",
       "    <path class=\"displacy-arrowhead\" d=\"M2695,616.5 L2687,604.5 2703,604.5\" fill=\"currentColor\"/>\n",
       "</g>\n",
       "\n",
       "<g class=\"displacy-arrow\">\n",
       "    <path class=\"displacy-arc\" id=\"arrow-5370bf604ba44bb3a8de859929cafa1f-0-16\" stroke-width=\"2px\" d=\"M2870,614.5 C2870,527.0 2995.0,527.0 2995.0,614.5\" fill=\"none\" stroke=\"currentColor\"/>\n",
       "    <text dy=\"1.25em\" style=\"font-size: 0.8em; letter-spacing: 1px\">\n",
       "        <textPath xlink:href=\"#arrow-5370bf604ba44bb3a8de859929cafa1f-0-16\" class=\"displacy-label\" startOffset=\"50%\" side=\"left\" fill=\"currentColor\" text-anchor=\"middle\">det</textPath>\n",
       "    </text>\n",
       "    <path class=\"displacy-arrowhead\" d=\"M2870,616.5 L2862,604.5 2878,604.5\" fill=\"currentColor\"/>\n",
       "</g>\n",
       "\n",
       "<g class=\"displacy-arrow\">\n",
       "    <path class=\"displacy-arc\" id=\"arrow-5370bf604ba44bb3a8de859929cafa1f-0-17\" stroke-width=\"2px\" d=\"M595,614.5 C595,89.5 3020.0,89.5 3020.0,614.5\" fill=\"none\" stroke=\"currentColor\"/>\n",
       "    <text dy=\"1.25em\" style=\"font-size: 0.8em; letter-spacing: 1px\">\n",
       "        <textPath xlink:href=\"#arrow-5370bf604ba44bb3a8de859929cafa1f-0-17\" class=\"displacy-label\" startOffset=\"50%\" side=\"left\" fill=\"currentColor\" text-anchor=\"middle\">ccomp</textPath>\n",
       "    </text>\n",
       "    <path class=\"displacy-arrowhead\" d=\"M3020.0,616.5 L3028.0,604.5 3012.0,604.5\" fill=\"currentColor\"/>\n",
       "</g>\n",
       "\n",
       "<g class=\"displacy-arrow\">\n",
       "    <path class=\"displacy-arc\" id=\"arrow-5370bf604ba44bb3a8de859929cafa1f-0-18\" stroke-width=\"2px\" d=\"M3220,614.5 C3220,527.0 3345.0,527.0 3345.0,614.5\" fill=\"none\" stroke=\"currentColor\"/>\n",
       "    <text dy=\"1.25em\" style=\"font-size: 0.8em; letter-spacing: 1px\">\n",
       "        <textPath xlink:href=\"#arrow-5370bf604ba44bb3a8de859929cafa1f-0-18\" class=\"displacy-label\" startOffset=\"50%\" side=\"left\" fill=\"currentColor\" text-anchor=\"middle\">det</textPath>\n",
       "    </text>\n",
       "    <path class=\"displacy-arrowhead\" d=\"M3220,616.5 L3212,604.5 3228,604.5\" fill=\"currentColor\"/>\n",
       "</g>\n",
       "\n",
       "<g class=\"displacy-arrow\">\n",
       "    <path class=\"displacy-arc\" id=\"arrow-5370bf604ba44bb3a8de859929cafa1f-0-19\" stroke-width=\"2px\" d=\"M3395,614.5 C3395,352.0 3880.0,352.0 3880.0,614.5\" fill=\"none\" stroke=\"currentColor\"/>\n",
       "    <text dy=\"1.25em\" style=\"font-size: 0.8em; letter-spacing: 1px\">\n",
       "        <textPath xlink:href=\"#arrow-5370bf604ba44bb3a8de859929cafa1f-0-19\" class=\"displacy-label\" startOffset=\"50%\" side=\"left\" fill=\"currentColor\" text-anchor=\"middle\">nsubj</textPath>\n",
       "    </text>\n",
       "    <path class=\"displacy-arrowhead\" d=\"M3395,616.5 L3387,604.5 3403,604.5\" fill=\"currentColor\"/>\n",
       "</g>\n",
       "\n",
       "<g class=\"displacy-arrow\">\n",
       "    <path class=\"displacy-arc\" id=\"arrow-5370bf604ba44bb3a8de859929cafa1f-0-20\" stroke-width=\"2px\" d=\"M3570,614.5 C3570,439.5 3875.0,439.5 3875.0,614.5\" fill=\"none\" stroke=\"currentColor\"/>\n",
       "    <text dy=\"1.25em\" style=\"font-size: 0.8em; letter-spacing: 1px\">\n",
       "        <textPath xlink:href=\"#arrow-5370bf604ba44bb3a8de859929cafa1f-0-20\" class=\"displacy-label\" startOffset=\"50%\" side=\"left\" fill=\"currentColor\" text-anchor=\"middle\">iobj</textPath>\n",
       "    </text>\n",
       "    <path class=\"displacy-arrowhead\" d=\"M3570,616.5 L3562,604.5 3578,604.5\" fill=\"currentColor\"/>\n",
       "</g>\n",
       "\n",
       "<g class=\"displacy-arrow\">\n",
       "    <path class=\"displacy-arc\" id=\"arrow-5370bf604ba44bb3a8de859929cafa1f-0-21\" stroke-width=\"2px\" d=\"M3745,614.5 C3745,527.0 3870.0,527.0 3870.0,614.5\" fill=\"none\" stroke=\"currentColor\"/>\n",
       "    <text dy=\"1.25em\" style=\"font-size: 0.8em; letter-spacing: 1px\">\n",
       "        <textPath xlink:href=\"#arrow-5370bf604ba44bb3a8de859929cafa1f-0-21\" class=\"displacy-label\" startOffset=\"50%\" side=\"left\" fill=\"currentColor\" text-anchor=\"middle\">aux</textPath>\n",
       "    </text>\n",
       "    <path class=\"displacy-arrowhead\" d=\"M3745,616.5 L3737,604.5 3753,604.5\" fill=\"currentColor\"/>\n",
       "</g>\n",
       "\n",
       "<g class=\"displacy-arrow\">\n",
       "    <path class=\"displacy-arc\" id=\"arrow-5370bf604ba44bb3a8de859929cafa1f-0-22\" stroke-width=\"2px\" d=\"M3920,614.5 C3920,527.0 4045.0,527.0 4045.0,614.5\" fill=\"none\" stroke=\"currentColor\"/>\n",
       "    <text dy=\"1.25em\" style=\"font-size: 0.8em; letter-spacing: 1px\">\n",
       "        <textPath xlink:href=\"#arrow-5370bf604ba44bb3a8de859929cafa1f-0-22\" class=\"displacy-label\" startOffset=\"50%\" side=\"left\" fill=\"currentColor\" text-anchor=\"middle\">advmod</textPath>\n",
       "    </text>\n",
       "    <path class=\"displacy-arrowhead\" d=\"M4045.0,616.5 L4053.0,604.5 4037.0,604.5\" fill=\"currentColor\"/>\n",
       "</g>\n",
       "\n",
       "<g class=\"displacy-arrow\">\n",
       "    <path class=\"displacy-arc\" id=\"arrow-5370bf604ba44bb3a8de859929cafa1f-0-23\" stroke-width=\"2px\" d=\"M4270,614.5 C4270,527.0 4395.0,527.0 4395.0,614.5\" fill=\"none\" stroke=\"currentColor\"/>\n",
       "    <text dy=\"1.25em\" style=\"font-size: 0.8em; letter-spacing: 1px\">\n",
       "        <textPath xlink:href=\"#arrow-5370bf604ba44bb3a8de859929cafa1f-0-23\" class=\"displacy-label\" startOffset=\"50%\" side=\"left\" fill=\"currentColor\" text-anchor=\"middle\">det</textPath>\n",
       "    </text>\n",
       "    <path class=\"displacy-arrowhead\" d=\"M4270,616.5 L4262,604.5 4278,604.5\" fill=\"currentColor\"/>\n",
       "</g>\n",
       "\n",
       "<g class=\"displacy-arrow\">\n",
       "    <path class=\"displacy-arc\" id=\"arrow-5370bf604ba44bb3a8de859929cafa1f-0-24\" stroke-width=\"2px\" d=\"M3920,614.5 C3920,439.5 4400.0,439.5 4400.0,614.5\" fill=\"none\" stroke=\"currentColor\"/>\n",
       "    <text dy=\"1.25em\" style=\"font-size: 0.8em; letter-spacing: 1px\">\n",
       "        <textPath xlink:href=\"#arrow-5370bf604ba44bb3a8de859929cafa1f-0-24\" class=\"displacy-label\" startOffset=\"50%\" side=\"left\" fill=\"currentColor\" text-anchor=\"middle\">obj</textPath>\n",
       "    </text>\n",
       "    <path class=\"displacy-arrowhead\" d=\"M4400.0,616.5 L4408.0,604.5 4392.0,604.5\" fill=\"currentColor\"/>\n",
       "</g>\n",
       "</svg></span>"
      ],
      "text/plain": [
       "<IPython.core.display.HTML object>"
      ]
     },
     "metadata": {},
     "output_type": "display_data"
    },
    {
     "data": {
      "text/plain": [
       "<IPython.core.display.SVG object>"
      ]
     },
     "execution_count": 11,
     "metadata": {},
     "output_type": "execute_result"
    }
   ],
   "source": [
    "from spacy import displacy\n",
    "from IPython.display import SVG\n",
    "doc = nlp(discurso[0])\n",
    "\n",
    "SVG(data = displacy.render(doc))"
   ]
  },
  {
   "cell_type": "code",
   "execution_count": 28,
   "id": "f473736f-f5a8-4b70-a05e-408a0490b7f3",
   "metadata": {
    "tags": []
   },
   "outputs": [
    {
     "name": "stdout",
     "output_type": "stream",
     "text": [
      "Collecting es-core-news-md==3.7.0\n",
      "  Using cached https://github.com/explosion/spacy-models/releases/download/es_core_news_md-3.7.0/es_core_news_md-3.7.0-py3-none-any.whl (42.3 MB)\n",
      "Requirement already satisfied: spacy<3.8.0,>=3.7.0 in /Library/Frameworks/Python.framework/Versions/3.11/lib/python3.11/site-packages (from es-core-news-md==3.7.0) (3.7.2)\n",
      "Requirement already satisfied: spacy-legacy<3.1.0,>=3.0.11 in /Library/Frameworks/Python.framework/Versions/3.11/lib/python3.11/site-packages (from spacy<3.8.0,>=3.7.0->es-core-news-md==3.7.0) (3.0.12)\n",
      "Requirement already satisfied: spacy-loggers<2.0.0,>=1.0.0 in /Library/Frameworks/Python.framework/Versions/3.11/lib/python3.11/site-packages (from spacy<3.8.0,>=3.7.0->es-core-news-md==3.7.0) (1.0.5)\n",
      "Requirement already satisfied: murmurhash<1.1.0,>=0.28.0 in /Library/Frameworks/Python.framework/Versions/3.11/lib/python3.11/site-packages (from spacy<3.8.0,>=3.7.0->es-core-news-md==3.7.0) (1.0.10)\n",
      "Requirement already satisfied: cymem<2.1.0,>=2.0.2 in /Library/Frameworks/Python.framework/Versions/3.11/lib/python3.11/site-packages (from spacy<3.8.0,>=3.7.0->es-core-news-md==3.7.0) (2.0.8)\n",
      "Requirement already satisfied: preshed<3.1.0,>=3.0.2 in /Library/Frameworks/Python.framework/Versions/3.11/lib/python3.11/site-packages (from spacy<3.8.0,>=3.7.0->es-core-news-md==3.7.0) (3.0.9)\n",
      "Requirement already satisfied: thinc<8.3.0,>=8.1.8 in /Library/Frameworks/Python.framework/Versions/3.11/lib/python3.11/site-packages (from spacy<3.8.0,>=3.7.0->es-core-news-md==3.7.0) (8.2.1)\n",
      "Requirement already satisfied: wasabi<1.2.0,>=0.9.1 in /Library/Frameworks/Python.framework/Versions/3.11/lib/python3.11/site-packages (from spacy<3.8.0,>=3.7.0->es-core-news-md==3.7.0) (1.1.2)\n",
      "Requirement already satisfied: srsly<3.0.0,>=2.4.3 in /Library/Frameworks/Python.framework/Versions/3.11/lib/python3.11/site-packages (from spacy<3.8.0,>=3.7.0->es-core-news-md==3.7.0) (2.4.8)\n",
      "Requirement already satisfied: catalogue<2.1.0,>=2.0.6 in /Library/Frameworks/Python.framework/Versions/3.11/lib/python3.11/site-packages (from spacy<3.8.0,>=3.7.0->es-core-news-md==3.7.0) (2.0.10)\n",
      "Requirement already satisfied: weasel<0.4.0,>=0.1.0 in /Library/Frameworks/Python.framework/Versions/3.11/lib/python3.11/site-packages (from spacy<3.8.0,>=3.7.0->es-core-news-md==3.7.0) (0.3.4)\n",
      "Requirement already satisfied: typer<0.10.0,>=0.3.0 in /Library/Frameworks/Python.framework/Versions/3.11/lib/python3.11/site-packages (from spacy<3.8.0,>=3.7.0->es-core-news-md==3.7.0) (0.9.0)\n",
      "Requirement already satisfied: smart-open<7.0.0,>=5.2.1 in /Library/Frameworks/Python.framework/Versions/3.11/lib/python3.11/site-packages (from spacy<3.8.0,>=3.7.0->es-core-news-md==3.7.0) (6.4.0)\n",
      "Requirement already satisfied: tqdm<5.0.0,>=4.38.0 in /Users/hosuenuez/Library/Python/3.11/lib/python/site-packages (from spacy<3.8.0,>=3.7.0->es-core-news-md==3.7.0) (4.66.1)\n",
      "Requirement already satisfied: requests<3.0.0,>=2.13.0 in /Library/Frameworks/Python.framework/Versions/3.11/lib/python3.11/site-packages (from spacy<3.8.0,>=3.7.0->es-core-news-md==3.7.0) (2.28.2)\n",
      "Requirement already satisfied: pydantic!=1.8,!=1.8.1,<3.0.0,>=1.7.4 in /Library/Frameworks/Python.framework/Versions/3.11/lib/python3.11/site-packages (from spacy<3.8.0,>=3.7.0->es-core-news-md==3.7.0) (2.5.2)\n",
      "Requirement already satisfied: jinja2 in /Library/Frameworks/Python.framework/Versions/3.11/lib/python3.11/site-packages (from spacy<3.8.0,>=3.7.0->es-core-news-md==3.7.0) (3.1.2)\n",
      "Requirement already satisfied: setuptools in /Library/Frameworks/Python.framework/Versions/3.11/lib/python3.11/site-packages (from spacy<3.8.0,>=3.7.0->es-core-news-md==3.7.0) (69.0.2)\n",
      "Requirement already satisfied: packaging>=20.0 in /Library/Frameworks/Python.framework/Versions/3.11/lib/python3.11/site-packages (from spacy<3.8.0,>=3.7.0->es-core-news-md==3.7.0) (23.1)\n",
      "Requirement already satisfied: langcodes<4.0.0,>=3.2.0 in /Library/Frameworks/Python.framework/Versions/3.11/lib/python3.11/site-packages (from spacy<3.8.0,>=3.7.0->es-core-news-md==3.7.0) (3.3.0)\n",
      "Requirement already satisfied: numpy>=1.19.0 in /Library/Frameworks/Python.framework/Versions/3.11/lib/python3.11/site-packages (from spacy<3.8.0,>=3.7.0->es-core-news-md==3.7.0) (1.26.2)\n",
      "Requirement already satisfied: annotated-types>=0.4.0 in /Library/Frameworks/Python.framework/Versions/3.11/lib/python3.11/site-packages (from pydantic!=1.8,!=1.8.1,<3.0.0,>=1.7.4->spacy<3.8.0,>=3.7.0->es-core-news-md==3.7.0) (0.6.0)\n",
      "Requirement already satisfied: pydantic-core==2.14.5 in /Library/Frameworks/Python.framework/Versions/3.11/lib/python3.11/site-packages (from pydantic!=1.8,!=1.8.1,<3.0.0,>=1.7.4->spacy<3.8.0,>=3.7.0->es-core-news-md==3.7.0) (2.14.5)\n",
      "Requirement already satisfied: typing-extensions>=4.6.1 in /Library/Frameworks/Python.framework/Versions/3.11/lib/python3.11/site-packages (from pydantic!=1.8,!=1.8.1,<3.0.0,>=1.7.4->spacy<3.8.0,>=3.7.0->es-core-news-md==3.7.0) (4.8.0)\n",
      "Requirement already satisfied: charset-normalizer<4,>=2 in /Library/Frameworks/Python.framework/Versions/3.11/lib/python3.11/site-packages (from requests<3.0.0,>=2.13.0->spacy<3.8.0,>=3.7.0->es-core-news-md==3.7.0) (3.1.0)\n",
      "Requirement already satisfied: idna<4,>=2.5 in /Library/Frameworks/Python.framework/Versions/3.11/lib/python3.11/site-packages (from requests<3.0.0,>=2.13.0->spacy<3.8.0,>=3.7.0->es-core-news-md==3.7.0) (3.4)\n",
      "Requirement already satisfied: urllib3<1.27,>=1.21.1 in /Library/Frameworks/Python.framework/Versions/3.11/lib/python3.11/site-packages (from requests<3.0.0,>=2.13.0->spacy<3.8.0,>=3.7.0->es-core-news-md==3.7.0) (1.26.15)\n",
      "Requirement already satisfied: certifi>=2017.4.17 in /Library/Frameworks/Python.framework/Versions/3.11/lib/python3.11/site-packages (from requests<3.0.0,>=2.13.0->spacy<3.8.0,>=3.7.0->es-core-news-md==3.7.0) (2023.11.17)\n",
      "Requirement already satisfied: blis<0.8.0,>=0.7.8 in /Library/Frameworks/Python.framework/Versions/3.11/lib/python3.11/site-packages (from thinc<8.3.0,>=8.1.8->spacy<3.8.0,>=3.7.0->es-core-news-md==3.7.0) (0.7.11)\n",
      "Requirement already satisfied: confection<1.0.0,>=0.0.1 in /Library/Frameworks/Python.framework/Versions/3.11/lib/python3.11/site-packages (from thinc<8.3.0,>=8.1.8->spacy<3.8.0,>=3.7.0->es-core-news-md==3.7.0) (0.1.4)\n",
      "Requirement already satisfied: click<9.0.0,>=7.1.1 in /Users/hosuenuez/Library/Python/3.11/lib/python/site-packages (from typer<0.10.0,>=0.3.0->spacy<3.8.0,>=3.7.0->es-core-news-md==3.7.0) (8.1.7)\n",
      "Requirement already satisfied: cloudpathlib<0.17.0,>=0.7.0 in /Library/Frameworks/Python.framework/Versions/3.11/lib/python3.11/site-packages (from weasel<0.4.0,>=0.1.0->spacy<3.8.0,>=3.7.0->es-core-news-md==3.7.0) (0.16.0)\n",
      "Requirement already satisfied: MarkupSafe>=2.0 in /Library/Frameworks/Python.framework/Versions/3.11/lib/python3.11/site-packages (from jinja2->spacy<3.8.0,>=3.7.0->es-core-news-md==3.7.0) (2.1.2)\n",
      "\u001b[38;5;2m✔ Download and installation successful\u001b[0m\n",
      "You can now load the package via spacy.load('es_core_news_md')\n"
     ]
    }
   ],
   "source": [
    "spacy.cli.download('es_core_news_md')"
   ]
  },
  {
   "cell_type": "code",
   "execution_count": 40,
   "id": "70288475-1764-4828-b8fd-ad6359c4be86",
   "metadata": {
    "tags": []
   },
   "outputs": [
    {
     "data": {
      "text/html": [
       "<span class=\"tex2jax_ignore\"><div class=\"entities\" style=\"line-height: 2.5; direction: ltr\">Si bien podríamos pensar que los recursos naturales con los que cuenta nuestro país han sido una bendición, la historia nos ha enseñado siempre lo contrario.</div></span>"
      ],
      "text/plain": [
       "<IPython.core.display.HTML object>"
      ]
     },
     "metadata": {},
     "output_type": "display_data"
    },
    {
     "data": {
      "text/html": [
       "<span class=\"tex2jax_ignore\"><div class=\"entities\" style=\"line-height: 2.5; direction: ltr\">Alguna vez fue el caucho; otra vez, el guano; hoy son los minerales.</div></span>"
      ],
      "text/plain": [
       "<IPython.core.display.HTML object>"
      ]
     },
     "metadata": {},
     "output_type": "display_data"
    },
    {
     "data": {
      "text/html": [
       "<span class=\"tex2jax_ignore\"><div class=\"entities\" style=\"line-height: 2.5; direction: ltr\">Sin embargo, cuando estos se acaban, con ellos termina un ciclo económico de bonanza y aparece esa odiosa debacle e incertidumbre que destruye democracias y da origen a falsos caudillos.</div></span>"
      ],
      "text/plain": [
       "<IPython.core.display.HTML object>"
      ]
     },
     "metadata": {},
     "output_type": "display_data"
    },
    {
     "data": {
      "text/html": [
       "<span class=\"tex2jax_ignore\"><div class=\"entities\" style=\"line-height: 2.5; direction: ltr\">Nos queda claro, entonces, que el crecimiento, la estabilidad y la riqueza de un país nunca estará del lado de los recursos naturales, sino de los productos que se elaboren con ellos.</div></span>"
      ],
      "text/plain": [
       "<IPython.core.display.HTML object>"
      ]
     },
     "metadata": {},
     "output_type": "display_data"
    },
    {
     "data": {
      "text/html": [
       "<span class=\"tex2jax_ignore\"><div class=\"entities\" style=\"line-height: 2.5; direction: ltr\">Por ello, los suizos compran recursos como el cacao o el oro y con ellos elaboran chocolates, joyas o relojes; y, por ello, los japoneses y los coreanos compran minerales para luego transformarlos en electrodomésticos y automóviles.</div></span>"
      ],
      "text/plain": [
       "<IPython.core.display.HTML object>"
      ]
     },
     "metadata": {},
     "output_type": "display_data"
    },
    {
     "data": {
      "text/html": [
       "<span class=\"tex2jax_ignore\"><div class=\"entities\" style=\"line-height: 2.5; direction: ltr\">Los ciudadanos de todos los países industrializados han entendido que la gran riqueza no está solo en la elaboración de productos genéricos, sino en la creación de marcas cuyo reconocimiento en términos de calidad les permite expandirse por todo el mundo.</div></span>"
      ],
      "text/plain": [
       "<IPython.core.display.HTML object>"
      ]
     },
     "metadata": {},
     "output_type": "display_data"
    },
    {
     "data": {
      "text/html": [
       "<span class=\"tex2jax_ignore\"><div class=\"entities\" style=\"line-height: 2.5; direction: ltr\">Por ello, \n",
       "<mark class=\"entity\" style=\"background: #ff9561; padding: 0.45em 0.6em; margin: 0 0.25em; line-height: 1; border-radius: 0.35em;\">\n",
       "    Suiza\n",
       "    <span style=\"font-size: 0.8em; font-weight: bold; line-height: 1; border-radius: 0.35em; vertical-align: middle; margin-left: 0.5rem\">LOC</span>\n",
       "</mark>\n",
       " compró cacao y oro, y sus ciudadanos los convirtieron en chocolates \n",
       "<mark class=\"entity\" style=\"background: #ddd; padding: 0.45em 0.6em; margin: 0 0.25em; line-height: 1; border-radius: 0.35em;\">\n",
       "    Nestlé\n",
       "    <span style=\"font-size: 0.8em; font-weight: bold; line-height: 1; border-radius: 0.35em; vertical-align: middle; margin-left: 0.5rem\">MISC</span>\n",
       "</mark>\n",
       " y en relojes \n",
       "<mark class=\"entity\" style=\"background: #ff9561; padding: 0.45em 0.6em; margin: 0 0.25em; line-height: 1; border-radius: 0.35em;\">\n",
       "    Rolex\n",
       "    <span style=\"font-size: 0.8em; font-weight: bold; line-height: 1; border-radius: 0.35em; vertical-align: middle; margin-left: 0.5rem\">LOC</span>\n",
       "</mark>\n",
       "; \n",
       "<mark class=\"entity\" style=\"background: #ff9561; padding: 0.45em 0.6em; margin: 0 0.25em; line-height: 1; border-radius: 0.35em;\">\n",
       "    Japón\n",
       "    <span style=\"font-size: 0.8em; font-weight: bold; line-height: 1; border-radius: 0.35em; vertical-align: middle; margin-left: 0.5rem\">LOC</span>\n",
       "</mark>\n",
       " y \n",
       "<mark class=\"entity\" style=\"background: #ff9561; padding: 0.45em 0.6em; margin: 0 0.25em; line-height: 1; border-radius: 0.35em;\">\n",
       "    Corea\n",
       "    <span style=\"font-size: 0.8em; font-weight: bold; line-height: 1; border-radius: 0.35em; vertical-align: middle; margin-left: 0.5rem\">LOC</span>\n",
       "</mark>\n",
       " compraron minerales y su gente los convirtió en \n",
       "<mark class=\"entity\" style=\"background: #7aecec; padding: 0.45em 0.6em; margin: 0 0.25em; line-height: 1; border-radius: 0.35em;\">\n",
       "    Toyota\n",
       "    <span style=\"font-size: 0.8em; font-weight: bold; line-height: 1; border-radius: 0.35em; vertical-align: middle; margin-left: 0.5rem\">ORG</span>\n",
       "</mark>\n",
       ", \n",
       "<mark class=\"entity\" style=\"background: #7aecec; padding: 0.45em 0.6em; margin: 0 0.25em; line-height: 1; border-radius: 0.35em;\">\n",
       "    Nissan\n",
       "    <span style=\"font-size: 0.8em; font-weight: bold; line-height: 1; border-radius: 0.35em; vertical-align: middle; margin-left: 0.5rem\">ORG</span>\n",
       "</mark>\n",
       " o \n",
       "<mark class=\"entity\" style=\"background: #7aecec; padding: 0.45em 0.6em; margin: 0 0.25em; line-height: 1; border-radius: 0.35em;\">\n",
       "    Samsung\n",
       "    <span style=\"font-size: 0.8em; font-weight: bold; line-height: 1; border-radius: 0.35em; vertical-align: middle; margin-left: 0.5rem\">ORG</span>\n",
       "</mark>\n",
       "; y en épocas aún más recientes, el norteamericano \n",
       "<mark class=\"entity\" style=\"background: #ddd; padding: 0.45em 0.6em; margin: 0 0.25em; line-height: 1; border-radius: 0.35em;\">\n",
       "    Howard Shultz\n",
       "    <span style=\"font-size: 0.8em; font-weight: bold; line-height: 1; border-radius: 0.35em; vertical-align: middle; margin-left: 0.5rem\">PER</span>\n",
       "</mark>\n",
       " compró café por el mundo y se lo devolvió convertido en \n",
       "<mark class=\"entity\" style=\"background: #7aecec; padding: 0.45em 0.6em; margin: 0 0.25em; line-height: 1; border-radius: 0.35em;\">\n",
       "    Starbucks\n",
       "    <span style=\"font-size: 0.8em; font-weight: bold; line-height: 1; border-radius: 0.35em; vertical-align: middle; margin-left: 0.5rem\">ORG</span>\n",
       "</mark>\n",
       ".</div></span>"
      ],
      "text/plain": [
       "<IPython.core.display.HTML object>"
      ]
     },
     "metadata": {},
     "output_type": "display_data"
    },
    {
     "data": {
      "text/html": [
       "<span class=\"tex2jax_ignore\"><div class=\"entities\" style=\"line-height: 2.5; direction: ltr\">Pues bien, la gastronomía peruana hasta hace muy poco ha sido justamente eso: un gran recurso.</div></span>"
      ],
      "text/plain": [
       "<IPython.core.display.HTML object>"
      ]
     },
     "metadata": {},
     "output_type": "display_data"
    },
    {
     "data": {
      "text/html": [
       "<span class=\"tex2jax_ignore\"><div class=\"entities\" style=\"line-height: 2.5; direction: ltr\">En efecto, ha sido un recurso muy querido por todos, un orgullo para todos, y muy apreciado por algunos extranjeros que descubrían anecdóticamente sus bondades en visitas de trabajo por \n",
       "<mark class=\"entity\" style=\"background: #ff9561; padding: 0.45em 0.6em; margin: 0 0.25em; line-height: 1; border-radius: 0.35em;\">\n",
       "    el Perú\n",
       "    <span style=\"font-size: 0.8em; font-weight: bold; line-height: 1; border-radius: 0.35em; vertical-align: middle; margin-left: 0.5rem\">LOC</span>\n",
       "</mark>\n",
       ".</div></span>"
      ],
      "text/plain": [
       "<IPython.core.display.HTML object>"
      ]
     },
     "metadata": {},
     "output_type": "display_data"
    },
    {
     "data": {
      "text/html": [
       "<span class=\"tex2jax_ignore\"><div class=\"entities\" style=\"line-height: 2.5; direction: ltr\">Sin embargo, nuestra gastronomía no es afortunadamente solo un gran recurso, sino una suma de cocinas y conceptos que, en muchos casos, aún esconden un gran potencial.</div></span>"
      ],
      "text/plain": [
       "<IPython.core.display.HTML object>"
      ]
     },
     "metadata": {},
     "output_type": "display_data"
    },
    {
     "data": {
      "text/html": [
       "<span class=\"tex2jax_ignore\"><div class=\"entities\" style=\"line-height: 2.5; direction: ltr\">Una vez desempolvado tal potencial y luego de haberse creado el marco conceptual y puesto en valor, los productos de la gastronomía peruana podrían ser exportados por todo el mundo.</div></span>"
      ],
      "text/plain": [
       "<IPython.core.display.HTML object>"
      ]
     },
     "metadata": {},
     "output_type": "display_data"
    },
    {
     "data": {
      "text/html": [
       "<span class=\"tex2jax_ignore\"><div class=\"entities\" style=\"line-height: 2.5; direction: ltr\">Así es.</div></span>"
      ],
      "text/plain": [
       "<IPython.core.display.HTML object>"
      ]
     },
     "metadata": {},
     "output_type": "display_data"
    },
    {
     "data": {
      "text/html": [
       "<span class=\"tex2jax_ignore\"><div class=\"entities\" style=\"line-height: 2.5; direction: ltr\">Detrás de nuestra entrañable cocina criolla, de nuestras pollerías, de los chifitas de barrio, de la cocina novoandina, de las picanterías arequipeñas, de los anticuchos, de los sánguches, de la cocina nikkei o de las \n",
       "<mark class=\"entity\" style=\"background: #ff9561; padding: 0.45em 0.6em; margin: 0 0.25em; line-height: 1; border-radius: 0.35em;\">\n",
       "    cebicherias\n",
       "    <span style=\"font-size: 0.8em; font-weight: bold; line-height: 1; border-radius: 0.35em; vertical-align: middle; margin-left: 0.5rem\">LOC</span>\n",
       "</mark>\n",
       ", existen oportunidades inmensas de crear conceptos que trasciendan su ámbito local para convertirse en productos, productos peruanos de exportación que no solo aspiren a codearse con conceptos ya instalados globalmente como pizzerías, hamburgueserías, sushi bares o taquerías mejicanas, sino que, además, generen al \n",
       "<mark class=\"entity\" style=\"background: #ff9561; padding: 0.45em 0.6em; margin: 0 0.25em; line-height: 1; border-radius: 0.35em;\">\n",
       "    Perú\n",
       "    <span style=\"font-size: 0.8em; font-weight: bold; line-height: 1; border-radius: 0.35em; vertical-align: middle; margin-left: 0.5rem\">LOC</span>\n",
       "</mark>\n",
       " enormes beneficios tanto económicos como de marca país.</div></span>"
      ],
      "text/plain": [
       "<IPython.core.display.HTML object>"
      ]
     },
     "metadata": {},
     "output_type": "display_data"
    },
    {
     "data": {
      "text/html": [
       "<span class=\"tex2jax_ignore\"><div class=\"entities\" style=\"line-height: 2.5; direction: ltr\">Hasta aquí creo que podemos entender cómo nuestra gastronomía, un gran recurso, con productos con gran potencial, está lista para expandirse por el mundo; sin embargo, algo falta para el despegue final.</div></span>"
      ],
      "text/plain": [
       "<IPython.core.display.HTML object>"
      ]
     },
     "metadata": {},
     "output_type": "display_data"
    },
    {
     "data": {
      "text/html": [
       "<span class=\"tex2jax_ignore\"><div class=\"entities\" style=\"line-height: 2.5; direction: ltr\">¿Qué sucede que aún no despegamos como quisiéramos?</div></span>"
      ],
      "text/plain": [
       "<IPython.core.display.HTML object>"
      ]
     },
     "metadata": {},
     "output_type": "display_data"
    },
    {
     "data": {
      "text/html": [
       "<span class=\"tex2jax_ignore\"><div class=\"entities\" style=\"line-height: 2.5; direction: ltr\">Todos los estudios de mercado hechos fuera del \n",
       "<mark class=\"entity\" style=\"background: #ff9561; padding: 0.45em 0.6em; margin: 0 0.25em; line-height: 1; border-radius: 0.35em;\">\n",
       "    Perú\n",
       "    <span style=\"font-size: 0.8em; font-weight: bold; line-height: 1; border-radius: 0.35em; vertical-align: middle; margin-left: 0.5rem\">LOC</span>\n",
       "</mark>\n",
       " por empresas internacionales indican que el concepto culinario más en alza en el mundo es el peruano, que la demanda del consumidor internacional por conceptos peruanos rebasa largamente a su oferta, que invertir en un restaurante peruano bueno es invertir sin riesgo en cualquier ciudad norteamericana o europea.</div></span>"
      ],
      "text/plain": [
       "<IPython.core.display.HTML object>"
      ]
     },
     "metadata": {},
     "output_type": "display_data"
    },
    {
     "data": {
      "text/html": [
       "<span class=\"tex2jax_ignore\"><div class=\"entities\" style=\"line-height: 2.5; direction: ltr\">Dentro del \n",
       "<mark class=\"entity\" style=\"background: #ff9561; padding: 0.45em 0.6em; margin: 0 0.25em; line-height: 1; border-radius: 0.35em;\">\n",
       "    Perú\n",
       "    <span style=\"font-size: 0.8em; font-weight: bold; line-height: 1; border-radius: 0.35em; vertical-align: middle; margin-left: 0.5rem\">LOC</span>\n",
       "</mark>\n",
       " hemos vivido una revolución editorial y educativa en términos culinarios que nos ha llevado a publicar en los últimos diez años más libros de cocina que en toda nuestra historia editorial previa.</div></span>"
      ],
      "text/plain": [
       "<IPython.core.display.HTML object>"
      ]
     },
     "metadata": {},
     "output_type": "display_data"
    },
    {
     "data": {
      "text/html": [
       "<span class=\"tex2jax_ignore\"><div class=\"entities\" style=\"line-height: 2.5; direction: ltr\">En \n",
       "<mark class=\"entity\" style=\"background: #ff9561; padding: 0.45em 0.6em; margin: 0 0.25em; line-height: 1; border-radius: 0.35em;\">\n",
       "    Lima\n",
       "    <span style=\"font-size: 0.8em; font-weight: bold; line-height: 1; border-radius: 0.35em; vertical-align: middle; margin-left: 0.5rem\">LOC</span>\n",
       "</mark>\n",
       " se han abierto, en los últimos 5 años, 22 escuelas de cocina reconocidas oficialmente, lo que la convierte en la ciudad con más escuelas de cocina en el mundo.</div></span>"
      ],
      "text/plain": [
       "<IPython.core.display.HTML object>"
      ]
     },
     "metadata": {},
     "output_type": "display_data"
    },
    {
     "data": {
      "text/html": [
       "<span class=\"tex2jax_ignore\"><div class=\"entities\" style=\"line-height: 2.5; direction: ltr\">Este año el 30 por ciento de los turistas que visitó \n",
       "<mark class=\"entity\" style=\"background: #ff9561; padding: 0.45em 0.6em; margin: 0 0.25em; line-height: 1; border-radius: 0.35em;\">\n",
       "    el Perú\n",
       "    <span style=\"font-size: 0.8em; font-weight: bold; line-height: 1; border-radius: 0.35em; vertical-align: middle; margin-left: 0.5rem\">LOC</span>\n",
       "</mark>\n",
       " para ir a \n",
       "<mark class=\"entity\" style=\"background: #ff9561; padding: 0.45em 0.6em; margin: 0 0.25em; line-height: 1; border-radius: 0.35em;\">\n",
       "    Cuzco\n",
       "    <span style=\"font-size: 0.8em; font-weight: bold; line-height: 1; border-radius: 0.35em; vertical-align: middle; margin-left: 0.5rem\">LOC</span>\n",
       "</mark>\n",
       " decidió quedarse en \n",
       "<mark class=\"entity\" style=\"background: #ff9561; padding: 0.45em 0.6em; margin: 0 0.25em; line-height: 1; border-radius: 0.35em;\">\n",
       "    Lima\n",
       "    <span style=\"font-size: 0.8em; font-weight: bold; line-height: 1; border-radius: 0.35em; vertical-align: middle; margin-left: 0.5rem\">LOC</span>\n",
       "</mark>\n",
       " un par de días adicionales solo por todo lo que había leído y escuchado acerca de su gastronomía.</div></span>"
      ],
      "text/plain": [
       "<IPython.core.display.HTML object>"
      ]
     },
     "metadata": {},
     "output_type": "display_data"
    },
    {
     "data": {
      "text/html": [
       "<span class=\"tex2jax_ignore\"><div class=\"entities\" style=\"line-height: 2.5; direction: ltr\">Los periodistas más importantes de todo el mundo son enviados a cubrir esta revolución culinaria y publican artículos y emiten programas de TV deslumbrados por lo que ellos consideran la inminente invasión peruana de sabores por todo el mundo.</div></span>"
      ],
      "text/plain": [
       "<IPython.core.display.HTML object>"
      ]
     },
     "metadata": {},
     "output_type": "display_data"
    },
    {
     "data": {
      "text/html": [
       "<span class=\"tex2jax_ignore\"><div class=\"entities\" style=\"line-height: 2.5; direction: ltr\">¿Por qué a pesar de todos esos indicadores aún no se crean restaurantes peruanos en todas partes?</div></span>"
      ],
      "text/plain": [
       "<IPython.core.display.HTML object>"
      ]
     },
     "metadata": {},
     "output_type": "display_data"
    },
    {
     "data": {
      "text/html": [
       "<span class=\"tex2jax_ignore\"><div class=\"entities\" style=\"line-height: 2.5; direction: ltr\">La respuesta es más que evidente.</div></span>"
      ],
      "text/plain": [
       "<IPython.core.display.HTML object>"
      ]
     },
     "metadata": {},
     "output_type": "display_data"
    },
    {
     "data": {
      "text/html": [
       "<span class=\"tex2jax_ignore\"><div class=\"entities\" style=\"line-height: 2.5; direction: ltr\">Tenemos el recurso, disponemos de los productos.</div></span>"
      ],
      "text/plain": [
       "<IPython.core.display.HTML object>"
      ]
     },
     "metadata": {},
     "output_type": "display_data"
    },
    {
     "data": {
      "text/html": [
       "<span class=\"tex2jax_ignore\"><div class=\"entities\" style=\"line-height: 2.5; direction: ltr\">¿Qué nos falta?</div></span>"
      ],
      "text/plain": [
       "<IPython.core.display.HTML object>"
      ]
     },
     "metadata": {},
     "output_type": "display_data"
    },
    {
     "data": {
      "text/html": [
       "<span class=\"tex2jax_ignore\"><div class=\"entities\" style=\"line-height: 2.5; direction: ltr\">Las marcas.</div></span>"
      ],
      "text/plain": [
       "<IPython.core.display.HTML object>"
      ]
     },
     "metadata": {},
     "output_type": "display_data"
    },
    {
     "data": {
      "text/html": [
       "<span class=\"tex2jax_ignore\"><div class=\"entities\" style=\"line-height: 2.5; direction: ltr\">Las marcas peruanas de productos culinarios peruanos por el mundo.</div></span>"
      ],
      "text/plain": [
       "<IPython.core.display.HTML object>"
      ]
     },
     "metadata": {},
     "output_type": "display_data"
    },
    {
     "data": {
      "text/html": [
       "<span class=\"tex2jax_ignore\"><div class=\"entities\" style=\"line-height: 2.5; direction: ltr\">Allí está la clave.</div></span>"
      ],
      "text/plain": [
       "<IPython.core.display.HTML object>"
      ]
     },
     "metadata": {},
     "output_type": "display_data"
    },
    {
     "data": {
      "text/html": [
       "<span class=\"tex2jax_ignore\"><div class=\"entities\" style=\"line-height: 2.5; direction: ltr\">Algunos dirán que nos falta también el capital, los recursos financieros.</div></span>"
      ],
      "text/plain": [
       "<IPython.core.display.HTML object>"
      ]
     },
     "metadata": {},
     "output_type": "display_data"
    },
    {
     "data": {
      "text/html": [
       "<span class=\"tex2jax_ignore\"><div class=\"entities\" style=\"line-height: 2.5; direction: ltr\">\n",
       "<mark class=\"entity\" style=\"background: #ddd; padding: 0.45em 0.6em; margin: 0 0.25em; line-height: 1; border-radius: 0.35em;\">\n",
       "    Nosotros\n",
       "    <span style=\"font-size: 0.8em; font-weight: bold; line-height: 1; border-radius: 0.35em; vertical-align: middle; margin-left: 0.5rem\">MISC</span>\n",
       "</mark>\n",
       " podemos rebatir ello contándoles que recibimos casi diariamente propuestas de inversionistas, desde \n",
       "<mark class=\"entity\" style=\"background: #ff9561; padding: 0.45em 0.6em; margin: 0 0.25em; line-height: 1; border-radius: 0.35em;\">\n",
       "    Arabia Saudí\n",
       "    <span style=\"font-size: 0.8em; font-weight: bold; line-height: 1; border-radius: 0.35em; vertical-align: middle; margin-left: 0.5rem\">LOC</span>\n",
       "</mark>\n",
       " hasta \n",
       "<mark class=\"entity\" style=\"background: #ff9561; padding: 0.45em 0.6em; margin: 0 0.25em; line-height: 1; border-radius: 0.35em;\">\n",
       "    Australia\n",
       "    <span style=\"font-size: 0.8em; font-weight: bold; line-height: 1; border-radius: 0.35em; vertical-align: middle; margin-left: 0.5rem\">LOC</span>\n",
       "</mark>\n",
       ", para invertir en restaurantes peruanos, propuestas que en su mayoría rechazamos porque creemos firmemente que todo tiene su momento, su espacio, su oportunidad.</div></span>"
      ],
      "text/plain": [
       "<IPython.core.display.HTML object>"
      ]
     },
     "metadata": {},
     "output_type": "display_data"
    },
    {
     "data": {
      "text/html": [
       "<span class=\"tex2jax_ignore\"><div class=\"entities\" style=\"line-height: 2.5; direction: ltr\">Marcas peruanas, eso es lo que los cocineros y empresarios peruanos tenemos que lograr para que esos inversionistas no tengan una, sino muchas opciones para escoger a la hora de decidirse por uno u otro concepto.</div></span>"
      ],
      "text/plain": [
       "<IPython.core.display.HTML object>"
      ]
     },
     "metadata": {},
     "output_type": "display_data"
    },
    {
     "data": {
      "text/html": [
       "<span class=\"tex2jax_ignore\"><div class=\"entities\" style=\"line-height: 2.5; direction: ltr\">Necesitamos marcas que hayan desarrollado internamente todo aquello que hace que una pequeña gran idea, un pequeño gran sueño se traduzca en una filosofía poderosa que vaya creciendo poco a poco hasta convertirse en un modelo para estudiar, imitar, admirar, e incite a invertir.</div></span>"
      ],
      "text/plain": [
       "<IPython.core.display.HTML object>"
      ]
     },
     "metadata": {},
     "output_type": "display_data"
    },
    {
     "data": {
      "text/html": [
       "<span class=\"tex2jax_ignore\"><div class=\"entities\" style=\"line-height: 2.5; direction: ltr\">En el caso de nuestra organización hemos venido desarrollando conceptos culinarios cuya aspiración, desde el comienzo, fue no solo su internacionalización, sino también su segmentación, pues entendimos desde el comienzo que los restaurantes no son escenarios genéricos sino espacios para públicos distintos, para momentos distintos, para economías distintas.</div></span>"
      ],
      "text/plain": [
       "<IPython.core.display.HTML object>"
      ]
     },
     "metadata": {},
     "output_type": "display_data"
    },
    {
     "data": {
      "text/html": [
       "<span class=\"tex2jax_ignore\"><div class=\"entities\" style=\"line-height: 2.5; direction: ltr\">Cuando empezamos con el restaurante “\n",
       "<mark class=\"entity\" style=\"background: #ff9561; padding: 0.45em 0.6em; margin: 0 0.25em; line-height: 1; border-radius: 0.35em;\">\n",
       "    Astrid\n",
       "    <span style=\"font-size: 0.8em; font-weight: bold; line-height: 1; border-radius: 0.35em; vertical-align: middle; margin-left: 0.5rem\">LOC</span>\n",
       "</mark>\n",
       " y \n",
       "<mark class=\"entity\" style=\"background: #ff9561; padding: 0.45em 0.6em; margin: 0 0.25em; line-height: 1; border-radius: 0.35em;\">\n",
       "    Gastón\n",
       "    <span style=\"font-size: 0.8em; font-weight: bold; line-height: 1; border-radius: 0.35em; vertical-align: middle; margin-left: 0.5rem\">LOC</span>\n",
       "</mark>\n",
       "” hace doce años, lo hicimos con un capital de 45,000 dólares, prestados por familiares y amigos sin mucha fe, pero con un gran cariño hacia nosotros.</div></span>"
      ],
      "text/plain": [
       "<IPython.core.display.HTML object>"
      ]
     },
     "metadata": {},
     "output_type": "display_data"
    },
    {
     "data": {
      "text/html": [
       "<span class=\"tex2jax_ignore\"><div class=\"entities\" style=\"line-height: 2.5; direction: ltr\">Al cabo de 5 años, y luego de haber encontrado finalmente nuestra filosofía, después de habernos definido conceptualmente como restaurante de alta cocina peruana, lo que nos permitió ubicarnos en la cúspide de la pirámide de segmentación del mercado culinario, hicimos nuestra primera incursión fuera del país, en \n",
       "<mark class=\"entity\" style=\"background: #ff9561; padding: 0.45em 0.6em; margin: 0 0.25em; line-height: 1; border-radius: 0.35em;\">\n",
       "    Chile\n",
       "    <span style=\"font-size: 0.8em; font-weight: bold; line-height: 1; border-radius: 0.35em; vertical-align: middle; margin-left: 0.5rem\">LOC</span>\n",
       "</mark>\n",
       ", donde la cocina peruana ya tenía un gran reconocimiento.</div></span>"
      ],
      "text/plain": [
       "<IPython.core.display.HTML object>"
      ]
     },
     "metadata": {},
     "output_type": "display_data"
    },
    {
     "data": {
      "text/html": [
       "<span class=\"tex2jax_ignore\"><div class=\"entities\" style=\"line-height: 2.5; direction: ltr\">Los premios no tardaron en llegar, y luego vinieron \n",
       "<mark class=\"entity\" style=\"background: #ff9561; padding: 0.45em 0.6em; margin: 0 0.25em; line-height: 1; border-radius: 0.35em;\">\n",
       "    Colombia\n",
       "    <span style=\"font-size: 0.8em; font-weight: bold; line-height: 1; border-radius: 0.35em; vertical-align: middle; margin-left: 0.5rem\">LOC</span>\n",
       "</mark>\n",
       ", \n",
       "<mark class=\"entity\" style=\"background: #ff9561; padding: 0.45em 0.6em; margin: 0 0.25em; line-height: 1; border-radius: 0.35em;\">\n",
       "    Ecuador\n",
       "    <span style=\"font-size: 0.8em; font-weight: bold; line-height: 1; border-radius: 0.35em; vertical-align: middle; margin-left: 0.5rem\">LOC</span>\n",
       "</mark>\n",
       ", y, ahora, \n",
       "<mark class=\"entity\" style=\"background: #ff9561; padding: 0.45em 0.6em; margin: 0 0.25em; line-height: 1; border-radius: 0.35em;\">\n",
       "    Venezuela\n",
       "    <span style=\"font-size: 0.8em; font-weight: bold; line-height: 1; border-radius: 0.35em; vertical-align: middle; margin-left: 0.5rem\">LOC</span>\n",
       "</mark>\n",
       ", \n",
       "<mark class=\"entity\" style=\"background: #ff9561; padding: 0.45em 0.6em; margin: 0 0.25em; line-height: 1; border-radius: 0.35em;\">\n",
       "    Panamá\n",
       "    <span style=\"font-size: 0.8em; font-weight: bold; line-height: 1; border-radius: 0.35em; vertical-align: middle; margin-left: 0.5rem\">LOC</span>\n",
       "</mark>\n",
       " y \n",
       "<mark class=\"entity\" style=\"background: #ff9561; padding: 0.45em 0.6em; margin: 0 0.25em; line-height: 1; border-radius: 0.35em;\">\n",
       "    México\n",
       "    <span style=\"font-size: 0.8em; font-weight: bold; line-height: 1; border-radius: 0.35em; vertical-align: middle; margin-left: 0.5rem\">LOC</span>\n",
       "</mark>\n",
       ".</div></span>"
      ],
      "text/plain": [
       "<IPython.core.display.HTML object>"
      ]
     },
     "metadata": {},
     "output_type": "display_data"
    },
    {
     "data": {
      "text/html": [
       "<span class=\"tex2jax_ignore\"><div class=\"entities\" style=\"line-height: 2.5; direction: ltr\">Hoy cada uno de los locales ubicados en los mencionados países no solo es rentable, sino que, además, es reconocido como líder y referente de alta cocina en cada lugar.</div></span>"
      ],
      "text/plain": [
       "<IPython.core.display.HTML object>"
      ]
     },
     "metadata": {},
     "output_type": "display_data"
    },
    {
     "data": {
      "text/html": [
       "<span class=\"tex2jax_ignore\"><div class=\"entities\" style=\"line-height: 2.5; direction: ltr\">Así es: alta cocina peruana codo a codo con la francesa, la española, la italiana, etc.</div></span>"
      ],
      "text/plain": [
       "<IPython.core.display.HTML object>"
      ]
     },
     "metadata": {},
     "output_type": "display_data"
    },
    {
     "data": {
      "text/html": [
       "<span class=\"tex2jax_ignore\"><div class=\"entities\" style=\"line-height: 2.5; direction: ltr\">Como en algunos casos, las revoluciones empiezan de arriba hacia abajo, esto nos ha preparado el terreno para que nuestras otras marcas puedan ingresar con facilidad en otros segmentos avaladas por el prestigio generado por la anterior.</div></span>"
      ],
      "text/plain": [
       "<IPython.core.display.HTML object>"
      ]
     },
     "metadata": {},
     "output_type": "display_data"
    },
    {
     "data": {
      "text/html": [
       "<span class=\"tex2jax_ignore\"><div class=\"entities\" style=\"line-height: 2.5; direction: ltr\">Es más fácil conquistar corazones haciendo alta cocina y luego sánguches que haciendo sánguches y luego alta cocina.</div></span>"
      ],
      "text/plain": [
       "<IPython.core.display.HTML object>"
      ]
     },
     "metadata": {},
     "output_type": "display_data"
    },
    {
     "data": {
      "text/html": [
       "<span class=\"tex2jax_ignore\"><div class=\"entities\" style=\"line-height: 2.5; direction: ltr\">Después nació “\n",
       "<mark class=\"entity\" style=\"background: #ddd; padding: 0.45em 0.6em; margin: 0 0.25em; line-height: 1; border-radius: 0.35em;\">\n",
       "    Tanta\n",
       "    <span style=\"font-size: 0.8em; font-weight: bold; line-height: 1; border-radius: 0.35em; vertical-align: middle; margin-left: 0.5rem\">MISC</span>\n",
       "</mark>\n",
       "”, al que ubicamos dentro del segmento del restaurante familiar y lo definimos como el bistró o el deli de los peruanos, el lugar donde quien no podía pagar “\n",
       "<mark class=\"entity\" style=\"background: #ddd; padding: 0.45em 0.6em; margin: 0 0.25em; line-height: 1; border-radius: 0.35em;\">\n",
       "    Astrid\n",
       "    <span style=\"font-size: 0.8em; font-weight: bold; line-height: 1; border-radius: 0.35em; vertical-align: middle; margin-left: 0.5rem\">PER</span>\n",
       "</mark>\n",
       " y \n",
       "<mark class=\"entity\" style=\"background: #ddd; padding: 0.45em 0.6em; margin: 0 0.25em; line-height: 1; border-radius: 0.35em;\">\n",
       "    Gastón\n",
       "    <span style=\"font-size: 0.8em; font-weight: bold; line-height: 1; border-radius: 0.35em; vertical-align: middle; margin-left: 0.5rem\">PER</span>\n",
       "</mark>\n",
       "” podía sentir la misma filosofía y el mismo espíritu, pero en un ambiente informal y con precios asequibles, siempre con los sabores peruanos, pero siempre con originalidad, sofisticación y espíritu artesanal.</div></span>"
      ],
      "text/plain": [
       "<IPython.core.display.HTML object>"
      ]
     },
     "metadata": {},
     "output_type": "display_data"
    },
    {
     "data": {
      "text/html": [
       "<span class=\"tex2jax_ignore\"><div class=\"entities\" style=\"line-height: 2.5; direction: ltr\">Para nosotros hacer “Tanta” fue de alguna manera una catarsis, pues cada vez más “\n",
       "<mark class=\"entity\" style=\"background: #ff9561; padding: 0.45em 0.6em; margin: 0 0.25em; line-height: 1; border-radius: 0.35em;\">\n",
       "    Astrid\n",
       "    <span style=\"font-size: 0.8em; font-weight: bold; line-height: 1; border-radius: 0.35em; vertical-align: middle; margin-left: 0.5rem\">LOC</span>\n",
       "</mark>\n",
       " y \n",
       "<mark class=\"entity\" style=\"background: #ddd; padding: 0.45em 0.6em; margin: 0 0.25em; line-height: 1; border-radius: 0.35em;\">\n",
       "    Gastón\n",
       "    <span style=\"font-size: 0.8em; font-weight: bold; line-height: 1; border-radius: 0.35em; vertical-align: middle; margin-left: 0.5rem\">PER</span>\n",
       "</mark>\n",
       "” nos dejaba esa sensación de ser cocineros de elites pequeñas en un país de muchos y “\n",
       "<mark class=\"entity\" style=\"background: #ddd; padding: 0.45em 0.6em; margin: 0 0.25em; line-height: 1; border-radius: 0.35em;\">\n",
       "    Tanta\n",
       "    <span style=\"font-size: 0.8em; font-weight: bold; line-height: 1; border-radius: 0.35em; vertical-align: middle; margin-left: 0.5rem\">MISC</span>\n",
       "</mark>\n",
       "” significaba justamente liberarnos de esas ataduras y poder mostrar a muchos todo aquello que queríamos decir con nuestro trabajo.</div></span>"
      ],
      "text/plain": [
       "<IPython.core.display.HTML object>"
      ]
     },
     "metadata": {},
     "output_type": "display_data"
    },
    {
     "data": {
      "text/html": [
       "<span class=\"tex2jax_ignore\"><div class=\"entities\" style=\"line-height: 2.5; direction: ltr\">Hoy tenemos tres locales en \n",
       "<mark class=\"entity\" style=\"background: #ff9561; padding: 0.45em 0.6em; margin: 0 0.25em; line-height: 1; border-radius: 0.35em;\">\n",
       "    Lima\n",
       "    <span style=\"font-size: 0.8em; font-weight: bold; line-height: 1; border-radius: 0.35em; vertical-align: middle; margin-left: 0.5rem\">LOC</span>\n",
       "</mark>\n",
       ", abrimos uno más este año y hemos terminado ya el proceso de elaboración de manuales, con lo cual ya está listo para ser exportado.</div></span>"
      ],
      "text/plain": [
       "<IPython.core.display.HTML object>"
      ]
     },
     "metadata": {},
     "output_type": "display_data"
    },
    {
     "data": {
      "text/html": [
       "<span class=\"tex2jax_ignore\"><div class=\"entities\" style=\"line-height: 2.5; direction: ltr\">Luego vino “\n",
       "<mark class=\"entity\" style=\"background: #ff9561; padding: 0.45em 0.6em; margin: 0 0.25em; line-height: 1; border-radius: 0.35em;\">\n",
       "    La Mar\n",
       "    <span style=\"font-size: 0.8em; font-weight: bold; line-height: 1; border-radius: 0.35em; vertical-align: middle; margin-left: 0.5rem\">LOC</span>\n",
       "</mark>\n",
       "”.</div></span>"
      ],
      "text/plain": [
       "<IPython.core.display.HTML object>"
      ]
     },
     "metadata": {},
     "output_type": "display_data"
    },
    {
     "data": {
      "text/html": [
       "<span class=\"tex2jax_ignore\"><div class=\"entities\" style=\"line-height: 2.5; direction: ltr\">Si bien tengo muchas cebicherías favoritas, siempre sentí que todas carecían de una filosofía total que les permitiera competir con liderazgo en cualquier parte del mundo.</div></span>"
      ],
      "text/plain": [
       "<IPython.core.display.HTML object>"
      ]
     },
     "metadata": {},
     "output_type": "display_data"
    },
    {
     "data": {
      "text/html": [
       "<span class=\"tex2jax_ignore\"><div class=\"entities\" style=\"line-height: 2.5; direction: ltr\">Sentía mucha pena al ver cómo los peruanos habíamos devaluado un producto tan atractivo y sofisticado como nuestra cocina marina, relegándolo a categoría de “chingana” con sillas de plástico, sin servicio y con otras carencias notables.</div></span>"
      ],
      "text/plain": [
       "<IPython.core.display.HTML object>"
      ]
     },
     "metadata": {},
     "output_type": "display_data"
    },
    {
     "data": {
      "text/html": [
       "<span class=\"tex2jax_ignore\"><div class=\"entities\" style=\"line-height: 2.5; direction: ltr\">Y lo que era más grave, cuando algún empresario decidía mejorar sus instalaciones o mejorar el servicio, automáticamente quitaba el cartel de cebichería, para llamarlo restaurante de pescados y mariscos, sin darse cuenta de que era justamente ese nombre su mayor virtud, la que lo diferenciaba de las demás ofertas marinas que encontramos por el mundo.</div></span>"
      ],
      "text/plain": [
       "<IPython.core.display.HTML object>"
      ]
     },
     "metadata": {},
     "output_type": "display_data"
    },
    {
     "data": {
      "text/html": [
       "<span class=\"tex2jax_ignore\"><div class=\"entities\" style=\"line-height: 2.5; direction: ltr\">\n",
       "<mark class=\"entity\" style=\"background: #ddd; padding: 0.45em 0.6em; margin: 0 0.25em; line-height: 1; border-radius: 0.35em;\">\n",
       "    Cebichería\n",
       "    <span style=\"font-size: 0.8em; font-weight: bold; line-height: 1; border-radius: 0.35em; vertical-align: middle; margin-left: 0.5rem\">PER</span>\n",
       "</mark>\n",
       ", \n",
       "<mark class=\"entity\" style=\"background: #ddd; padding: 0.45em 0.6em; margin: 0 0.25em; line-height: 1; border-radius: 0.35em;\">\n",
       "    peruvian seafood\n",
       "    <span style=\"font-size: 0.8em; font-weight: bold; line-height: 1; border-radius: 0.35em; vertical-align: middle; margin-left: 0.5rem\">PER</span>\n",
       "</mark>\n",
       ", eso fue lo que imaginamos como una realidad difundida por todas partes.</div></span>"
      ],
      "text/plain": [
       "<IPython.core.display.HTML object>"
      ]
     },
     "metadata": {},
     "output_type": "display_data"
    },
    {
     "data": {
      "text/html": [
       "<span class=\"tex2jax_ignore\"><div class=\"entities\" style=\"line-height: 2.5; direction: ltr\">Y, claro, lo demás era simple: había que aprovechar la enorme popularidad del cebiche por el mundo y crear una cebichería como concepto ubicado en el segmento étnico que compitiera internacionalmente con los sushi bares japoneses, con la convicción de que no eran ni mejores ni peores, sino simplemente distintos, con la diferencia de que frente a la solemnidad casi monacal del sushi bar, estaba el espíritu divertido y desenfadado de la cebichería.</div></span>"
      ],
      "text/plain": [
       "<IPython.core.display.HTML object>"
      ]
     },
     "metadata": {},
     "output_type": "display_data"
    },
    {
     "data": {
      "text/html": [
       "<span class=\"tex2jax_ignore\"><div class=\"entities\" style=\"line-height: 2.5; direction: ltr\">Había que mantener los elementos identificadores: la caña, el viento, la luz, pero con diseño.</div></span>"
      ],
      "text/plain": [
       "<IPython.core.display.HTML object>"
      ]
     },
     "metadata": {},
     "output_type": "display_data"
    },
    {
     "data": {
      "text/html": [
       "<span class=\"tex2jax_ignore\"><div class=\"entities\" style=\"line-height: 2.5; direction: ltr\">También era necesario mejorar y estandarizar la materia prima, crear una filosofía de servicio acorde con el ambiente alegre que debía de prevalecer, conservar los sabores con detalles de imaginación, y contar esa historia real de que los peruanos amamos el cebiche, y la cebichería es nuestro templo en todas partes.</div></span>"
      ],
      "text/plain": [
       "<IPython.core.display.HTML object>"
      ]
     },
     "metadata": {},
     "output_type": "display_data"
    },
    {
     "data": {
      "text/html": [
       "<span class=\"tex2jax_ignore\"><div class=\"entities\" style=\"line-height: 2.5; direction: ltr\">Hoy estamos abriendo el segundo “\n",
       "<mark class=\"entity\" style=\"background: #ff9561; padding: 0.45em 0.6em; margin: 0 0.25em; line-height: 1; border-radius: 0.35em;\">\n",
       "    La Mar\n",
       "    <span style=\"font-size: 0.8em; font-weight: bold; line-height: 1; border-radius: 0.35em; vertical-align: middle; margin-left: 0.5rem\">LOC</span>\n",
       "</mark>\n",
       "” en \n",
       "<mark class=\"entity\" style=\"background: #ff9561; padding: 0.45em 0.6em; margin: 0 0.25em; line-height: 1; border-radius: 0.35em;\">\n",
       "    Lima\n",
       "    <span style=\"font-size: 0.8em; font-weight: bold; line-height: 1; border-radius: 0.35em; vertical-align: middle; margin-left: 0.5rem\">LOC</span>\n",
       "</mark>\n",
       " y ya hemos vendido franquicias de este concepto en \n",
       "<mark class=\"entity\" style=\"background: #ff9561; padding: 0.45em 0.6em; margin: 0 0.25em; line-height: 1; border-radius: 0.35em;\">\n",
       "    México\n",
       "    <span style=\"font-size: 0.8em; font-weight: bold; line-height: 1; border-radius: 0.35em; vertical-align: middle; margin-left: 0.5rem\">LOC</span>\n",
       "</mark>\n",
       ", toda \n",
       "<mark class=\"entity\" style=\"background: #ff9561; padding: 0.45em 0.6em; margin: 0 0.25em; line-height: 1; border-radius: 0.35em;\">\n",
       "    Centroamérica\n",
       "    <span style=\"font-size: 0.8em; font-weight: bold; line-height: 1; border-radius: 0.35em; vertical-align: middle; margin-left: 0.5rem\">LOC</span>\n",
       "</mark>\n",
       " y el \n",
       "<mark class=\"entity\" style=\"background: #ff9561; padding: 0.45em 0.6em; margin: 0 0.25em; line-height: 1; border-radius: 0.35em;\">\n",
       "    Caribe\n",
       "    <span style=\"font-size: 0.8em; font-weight: bold; line-height: 1; border-radius: 0.35em; vertical-align: middle; margin-left: 0.5rem\">LOC</span>\n",
       "</mark>\n",
       ", y \n",
       "<mark class=\"entity\" style=\"background: #ff9561; padding: 0.45em 0.6em; margin: 0 0.25em; line-height: 1; border-radius: 0.35em;\">\n",
       "    Brasil\n",
       "    <span style=\"font-size: 0.8em; font-weight: bold; line-height: 1; border-radius: 0.35em; vertical-align: middle; margin-left: 0.5rem\">LOC</span>\n",
       "</mark>\n",
       ".</div></span>"
      ],
      "text/plain": [
       "<IPython.core.display.HTML object>"
      ]
     },
     "metadata": {},
     "output_type": "display_data"
    },
    {
     "data": {
      "text/html": [
       "<span class=\"tex2jax_ignore\"><div class=\"entities\" style=\"line-height: 2.5; direction: ltr\">Para el año 2007 esperamos iniciar las actividades de esta marca en \n",
       "<mark class=\"entity\" style=\"background: #ff9561; padding: 0.45em 0.6em; margin: 0 0.25em; line-height: 1; border-radius: 0.35em;\">\n",
       "    Inglaterra\n",
       "    <span style=\"font-size: 0.8em; font-weight: bold; line-height: 1; border-radius: 0.35em; vertical-align: middle; margin-left: 0.5rem\">LOC</span>\n",
       "</mark>\n",
       " y \n",
       "<mark class=\"entity\" style=\"background: #ff9561; padding: 0.45em 0.6em; margin: 0 0.25em; line-height: 1; border-radius: 0.35em;\">\n",
       "    Washington\n",
       "    <span style=\"font-size: 0.8em; font-weight: bold; line-height: 1; border-radius: 0.35em; vertical-align: middle; margin-left: 0.5rem\">LOC</span>\n",
       "</mark>\n",
       ".</div></span>"
      ],
      "text/plain": [
       "<IPython.core.display.HTML object>"
      ]
     },
     "metadata": {},
     "output_type": "display_data"
    },
    {
     "data": {
      "text/html": [
       "<span class=\"tex2jax_ignore\"><div class=\"entities\" style=\"line-height: 2.5; direction: ltr\">Creemos firmemente, por muchas razones, que la cebichería peruana es el concepto que se expandirá más rápidamente por todo el mundo.</div></span>"
      ],
      "text/plain": [
       "<IPython.core.display.HTML object>"
      ]
     },
     "metadata": {},
     "output_type": "display_data"
    },
    {
     "data": {
      "text/html": [
       "<span class=\"tex2jax_ignore\"><div class=\"entities\" style=\"line-height: 2.5; direction: ltr\">\n",
       "<mark class=\"entity\" style=\"background: #ddd; padding: 0.45em 0.6em; margin: 0 0.25em; line-height: 1; border-radius: 0.35em;\">\n",
       "    ¿Cuál\n",
       "    <span style=\"font-size: 0.8em; font-weight: bold; line-height: 1; border-radius: 0.35em; vertical-align: middle; margin-left: 0.5rem\">MISC</span>\n",
       "</mark>\n",
       " es nuestra cuarta marca?</div></span>"
      ],
      "text/plain": [
       "<IPython.core.display.HTML object>"
      ]
     },
     "metadata": {},
     "output_type": "display_data"
    },
    {
     "data": {
      "text/html": [
       "<span class=\"tex2jax_ignore\"><div class=\"entities\" style=\"line-height: 2.5; direction: ltr\">Cuando uno pregunta a diez peruanos si les gusta el pan con chicharrón, los diez dicen que sí.</div></span>"
      ],
      "text/plain": [
       "<IPython.core.display.HTML object>"
      ]
     },
     "metadata": {},
     "output_type": "display_data"
    },
    {
     "data": {
      "text/html": [
       "<span class=\"tex2jax_ignore\"><div class=\"entities\" style=\"line-height: 2.5; direction: ltr\">Cuando uno pregunta si les gustan las hamburguesas, la cifra baja a 5 ó 6.</div></span>"
      ],
      "text/plain": [
       "<IPython.core.display.HTML object>"
      ]
     },
     "metadata": {},
     "output_type": "display_data"
    },
    {
     "data": {
      "text/html": [
       "<span class=\"tex2jax_ignore\"><div class=\"entities\" style=\"line-height: 2.5; direction: ltr\">Sin embargo, cuando uno repregunta cuántos panes con chicharrón o cuántas hamburguesas ha comido durante la semana, estas últimas siempre terminan ganando.</div></span>"
      ],
      "text/plain": [
       "<IPython.core.display.HTML object>"
      ]
     },
     "metadata": {},
     "output_type": "display_data"
    },
    {
     "data": {
      "text/html": [
       "<span class=\"tex2jax_ignore\"><div class=\"entities\" style=\"line-height: 2.5; direction: ltr\">Por haber conocido y analizado esta realidad, entendimos claramente el mensaje.</div></span>"
      ],
      "text/plain": [
       "<IPython.core.display.HTML object>"
      ]
     },
     "metadata": {},
     "output_type": "display_data"
    },
    {
     "data": {
      "text/html": [
       "<span class=\"tex2jax_ignore\"><div class=\"entities\" style=\"line-height: 2.5; direction: ltr\">El problema no era nuestro sánguche, el problema era que no había una marca que pudiera salirles al frente a las cadenas de comida rápida con una propuesta que, a partir de nuestras tradiciones sangucheras, pudiera crear un escenario que satisficiera las aspiraciones de nuestra gente.</div></span>"
      ],
      "text/plain": [
       "<IPython.core.display.HTML object>"
      ]
     },
     "metadata": {},
     "output_type": "display_data"
    },
    {
     "data": {
      "text/html": [
       "<span class=\"tex2jax_ignore\"><div class=\"entities\" style=\"line-height: 2.5; direction: ltr\">En estos momentos estamos por inaugurar la sanguchería “\n",
       "<mark class=\"entity\" style=\"background: #ddd; padding: 0.45em 0.6em; margin: 0 0.25em; line-height: 1; border-radius: 0.35em;\">\n",
       "    Pasquale\n",
       "    <span style=\"font-size: 0.8em; font-weight: bold; line-height: 1; border-radius: 0.35em; vertical-align: middle; margin-left: 0.5rem\">PER</span>\n",
       "</mark>\n",
       " hermanos” para ubicarse dentro del segmento de comidas rápidas, para que, sin renunciar a su espíritu artesanal, sino más bien haciendo de ello una ventaja, compita directamente con las marcas de comida rápida internacionales con un concepto netamente peruano.</div></span>"
      ],
      "text/plain": [
       "<IPython.core.display.HTML object>"
      ]
     },
     "metadata": {},
     "output_type": "display_data"
    },
    {
     "data": {
      "text/html": [
       "<span class=\"tex2jax_ignore\"><div class=\"entities\" style=\"line-height: 2.5; direction: ltr\">Allí existirá un escenario ad hoc, unos protagonistas, los hermanos \n",
       "<mark class=\"entity\" style=\"background: #ddd; padding: 0.45em 0.6em; margin: 0 0.25em; line-height: 1; border-radius: 0.35em;\">\n",
       "    Pasquale\n",
       "    <span style=\"font-size: 0.8em; font-weight: bold; line-height: 1; border-radius: 0.35em; vertical-align: middle; margin-left: 0.5rem\">PER</span>\n",
       "</mark>\n",
       ", primos de los \n",
       "<mark class=\"entity\" style=\"background: #ddd; padding: 0.45em 0.6em; margin: 0 0.25em; line-height: 1; border-radius: 0.35em;\">\n",
       "    Carbone\n",
       "    <span style=\"font-size: 0.8em; font-weight: bold; line-height: 1; border-radius: 0.35em; vertical-align: middle; margin-left: 0.5rem\">PER</span>\n",
       "</mark>\n",
       ", los Cordano, los \n",
       "<mark class=\"entity\" style=\"background: #ff9561; padding: 0.45em 0.6em; margin: 0 0.25em; line-height: 1; border-radius: 0.35em;\">\n",
       "    Queirolo\n",
       "    <span style=\"font-size: 0.8em; font-weight: bold; line-height: 1; border-radius: 0.35em; vertical-align: middle; margin-left: 0.5rem\">LOC</span>\n",
       "</mark>\n",
       ", \n",
       "<mark class=\"entity\" style=\"background: #ff9561; padding: 0.45em 0.6em; margin: 0 0.25em; line-height: 1; border-radius: 0.35em;\">\n",
       "    los Palermo\n",
       "    <span style=\"font-size: 0.8em; font-weight: bold; line-height: 1; border-radius: 0.35em; vertical-align: middle; margin-left: 0.5rem\">LOC</span>\n",
       "</mark>\n",
       ", fundadores de las sangucherías limeñas, pero donde el peruano sentirá que finalmente el sánguche peruano dejó de ser una aventura mensual y valiente, y se hará parte de su vida cotidiana.</div></span>"
      ],
      "text/plain": [
       "<IPython.core.display.HTML object>"
      ]
     },
     "metadata": {},
     "output_type": "display_data"
    },
    {
     "data": {
      "text/html": [
       "<span class=\"tex2jax_ignore\"><div class=\"entities\" style=\"line-height: 2.5; direction: ltr\">Lo que nos inspira es la ilusión de que este segmento de mercado se reacomode y dé cabida a una propuesta netamente nacional.</div></span>"
      ],
      "text/plain": [
       "<IPython.core.display.HTML object>"
      ]
     },
     "metadata": {},
     "output_type": "display_data"
    },
    {
     "data": {
      "text/html": [
       "<span class=\"tex2jax_ignore\"><div class=\"entities\" style=\"line-height: 2.5; direction: ltr\">Esperamos abrir muchos “\n",
       "<mark class=\"entity\" style=\"background: #ddd; padding: 0.45em 0.6em; margin: 0 0.25em; line-height: 1; border-radius: 0.35em;\">\n",
       "    Pasquale\n",
       "    <span style=\"font-size: 0.8em; font-weight: bold; line-height: 1; border-radius: 0.35em; vertical-align: middle; margin-left: 0.5rem\">PER</span>\n",
       "</mark>\n",
       "” en \n",
       "<mark class=\"entity\" style=\"background: #ff9561; padding: 0.45em 0.6em; margin: 0 0.25em; line-height: 1; border-radius: 0.35em;\">\n",
       "    Lima\n",
       "    <span style=\"font-size: 0.8em; font-weight: bold; line-height: 1; border-radius: 0.35em; vertical-align: middle; margin-left: 0.5rem\">LOC</span>\n",
       "</mark>\n",
       " y su internacionalización dependerá del éxito de las cebicherías, los bistrós peruanos, y otros conceptos que harán de la marca genérica \n",
       "<mark class=\"entity\" style=\"background: #ff9561; padding: 0.45em 0.6em; margin: 0 0.25em; line-height: 1; border-radius: 0.35em;\">\n",
       "    Perú\n",
       "    <span style=\"font-size: 0.8em; font-weight: bold; line-height: 1; border-radius: 0.35em; vertical-align: middle; margin-left: 0.5rem\">LOC</span>\n",
       "</mark>\n",
       " lo suficientemente fuerte como para que “\n",
       "<mark class=\"entity\" style=\"background: #ddd; padding: 0.45em 0.6em; margin: 0 0.25em; line-height: 1; border-radius: 0.35em;\">\n",
       "    Pasquale\n",
       "    <span style=\"font-size: 0.8em; font-weight: bold; line-height: 1; border-radius: 0.35em; vertical-align: middle; margin-left: 0.5rem\">PER</span>\n",
       "</mark>\n",
       "” tenga el camino expedito.</div></span>"
      ],
      "text/plain": [
       "<IPython.core.display.HTML object>"
      ]
     },
     "metadata": {},
     "output_type": "display_data"
    },
    {
     "data": {
      "text/html": [
       "<span class=\"tex2jax_ignore\"><div class=\"entities\" style=\"line-height: 2.5; direction: ltr\">Estamos ahora en busca del local para construir nuestra quinta marca: “\n",
       "<mark class=\"entity\" style=\"background: #ddd; padding: 0.45em 0.6em; margin: 0 0.25em; line-height: 1; border-radius: 0.35em;\">\n",
       "    Panchita\n",
       "    <span style=\"font-size: 0.8em; font-weight: bold; line-height: 1; border-radius: 0.35em; vertical-align: middle; margin-left: 0.5rem\">MISC</span>\n",
       "</mark>\n",
       "”.</div></span>"
      ],
      "text/plain": [
       "<IPython.core.display.HTML object>"
      ]
     },
     "metadata": {},
     "output_type": "display_data"
    },
    {
     "data": {
      "text/html": [
       "<span class=\"tex2jax_ignore\"><div class=\"entities\" style=\"line-height: 2.5; direction: ltr\">Durante siglos, las anticucheras de las esquinas formaron parte del ornato y la identidad de nuestra ciudad y, por cierto, del atractivo hacia el turista.</div></span>"
      ],
      "text/plain": [
       "<IPython.core.display.HTML object>"
      ]
     },
     "metadata": {},
     "output_type": "display_data"
    },
    {
     "data": {
      "text/html": [
       "<span class=\"tex2jax_ignore\"><div class=\"entities\" style=\"line-height: 2.5; direction: ltr\">Sin embargo, en los últimos años autoridades equivocadas las persiguieron argumentando razones sanitarias, en vez de darles las herramientas para que estuvieran de acuerdo con los tiempos, al punto que hoy es casi imposible encontrar una anticuchera de aquellas que daban vida y aroma a nuestras esquinas.</div></span>"
      ],
      "text/plain": [
       "<IPython.core.display.HTML object>"
      ]
     },
     "metadata": {},
     "output_type": "display_data"
    },
    {
     "data": {
      "text/html": [
       "<span class=\"tex2jax_ignore\"><div class=\"entities\" style=\"line-height: 2.5; direction: ltr\">Paradójicamente en cada una de esas esquinas han abierto pequeños negocios de hamburguesas o pollos broaster con costumbres sanitarias mucho más cuestionables que las de nuestras doñas \n",
       "<mark class=\"entity\" style=\"background: #ddd; padding: 0.45em 0.6em; margin: 0 0.25em; line-height: 1; border-radius: 0.35em;\">\n",
       "    Panchitas\n",
       "    <span style=\"font-size: 0.8em; font-weight: bold; line-height: 1; border-radius: 0.35em; vertical-align: middle; margin-left: 0.5rem\">PER</span>\n",
       "</mark>\n",
       " de antaño y que, además, en nada podrían cautivar al extranjero que nos visita.</div></span>"
      ],
      "text/plain": [
       "<IPython.core.display.HTML object>"
      ]
     },
     "metadata": {},
     "output_type": "display_data"
    },
    {
     "data": {
      "text/html": [
       "<span class=\"tex2jax_ignore\"><div class=\"entities\" style=\"line-height: 2.5; direction: ltr\">Es con tal espíritu reivindicador con el que nace “\n",
       "<mark class=\"entity\" style=\"background: #ddd; padding: 0.45em 0.6em; margin: 0 0.25em; line-height: 1; border-radius: 0.35em;\">\n",
       "    Panchita\n",
       "    <span style=\"font-size: 0.8em; font-weight: bold; line-height: 1; border-radius: 0.35em; vertical-align: middle; margin-left: 0.5rem\">MISC</span>\n",
       "</mark>\n",
       "”, como un homenaje a esa tradición y a todas esas anticucheras que alguna vez adornaron la ciudad.</div></span>"
      ],
      "text/plain": [
       "<IPython.core.display.HTML object>"
      ]
     },
     "metadata": {},
     "output_type": "display_data"
    },
    {
     "data": {
      "text/html": [
       "<span class=\"tex2jax_ignore\"><div class=\"entities\" style=\"line-height: 2.5; direction: ltr\">\n",
       "<mark class=\"entity\" style=\"background: #ddd; padding: 0.45em 0.6em; margin: 0 0.25em; line-height: 1; border-radius: 0.35em;\">\n",
       "    Anticuchería\n",
       "    <span style=\"font-size: 0.8em; font-weight: bold; line-height: 1; border-radius: 0.35em; vertical-align: middle; margin-left: 0.5rem\">PER</span>\n",
       "</mark>\n",
       ", pero convertida en un restaurante de verdad, con servicio, con diseño, con filosofía propia; \n",
       "<mark class=\"entity\" style=\"background: #ddd; padding: 0.45em 0.6em; margin: 0 0.25em; line-height: 1; border-radius: 0.35em;\">\n",
       "    anticuchería\n",
       "    <span style=\"font-size: 0.8em; font-weight: bold; line-height: 1; border-radius: 0.35em; vertical-align: middle; margin-left: 0.5rem\">PER</span>\n",
       "</mark>\n",
       " que será vendida al mundo como la parrilla de los peruanos, y que nace con la vocación internacional de competir directamente con las parrillas argentinas y los rodizios brasileños, pero todo en el mundo del anticucho, dentro de un marco festivo y con decoración que recuerda a las haciendas peruanas, con anticucheras robustas en vez de parrilleros gauchos, con parrillas como las de las esquinas, con huancaínas y cremas en vez de chimichurris, con 25 tipos de anticuchos con todos los sabores, desde el clásico de corazón hasta el sofisticado de atún, con yuca frita, papas doradas, choclos y tacu tacus en vez de papas fritas, con música latina en vez de tangos, con una fiesta de sabores peruanos en vez de una sola pieza de carne de 500 gramos.</div></span>"
      ],
      "text/plain": [
       "<IPython.core.display.HTML object>"
      ]
     },
     "metadata": {},
     "output_type": "display_data"
    },
    {
     "data": {
      "text/html": [
       "<span class=\"tex2jax_ignore\"><div class=\"entities\" style=\"line-height: 2.5; direction: ltr\">La anticuchera de la esquina, pues, quedará convertida en restaurante.</div></span>"
      ],
      "text/plain": [
       "<IPython.core.display.HTML object>"
      ]
     },
     "metadata": {},
     "output_type": "display_data"
    },
    {
     "data": {
      "text/html": [
       "<span class=\"tex2jax_ignore\"><div class=\"entities\" style=\"line-height: 2.5; direction: ltr\">Su internacionalización dependerá del éxito de las cebicherías.</div></span>"
      ],
      "text/plain": [
       "<IPython.core.display.HTML object>"
      ]
     },
     "metadata": {},
     "output_type": "display_data"
    },
    {
     "data": {
      "text/html": [
       "<span class=\"tex2jax_ignore\"><div class=\"entities\" style=\"line-height: 2.5; direction: ltr\">Estamos en proceso de creación de tres marcas más.</div></span>"
      ],
      "text/plain": [
       "<IPython.core.display.HTML object>"
      ]
     },
     "metadata": {},
     "output_type": "display_data"
    },
    {
     "data": {
      "text/html": [
       "<span class=\"tex2jax_ignore\"><div class=\"entities\" style=\"line-height: 2.5; direction: ltr\">La primera es la de un chifa, pero que sea el real reflejo de una fusión peruano-china y no de un restaurante chino con toques peruanos.</div></span>"
      ],
      "text/plain": [
       "<IPython.core.display.HTML object>"
      ]
     },
     "metadata": {},
     "output_type": "display_data"
    },
    {
     "data": {
      "text/html": [
       "<span class=\"tex2jax_ignore\"><div class=\"entities\" style=\"line-height: 2.5; direction: ltr\">Hoy \n",
       "<mark class=\"entity\" style=\"background: #ff9561; padding: 0.45em 0.6em; margin: 0 0.25em; line-height: 1; border-radius: 0.35em;\">\n",
       "    el Perú\n",
       "    <span style=\"font-size: 0.8em; font-weight: bold; line-height: 1; border-radius: 0.35em; vertical-align: middle; margin-left: 0.5rem\">LOC</span>\n",
       "</mark>\n",
       " cuenta con 5,000 chifas; sin embargo, no tenemos ninguna marca.</div></span>"
      ],
      "text/plain": [
       "<IPython.core.display.HTML object>"
      ]
     },
     "metadata": {},
     "output_type": "display_data"
    },
    {
     "data": {
      "text/html": [
       "<span class=\"tex2jax_ignore\"><div class=\"entities\" style=\"line-height: 2.5; direction: ltr\">Deberemos crear decoración, ambiente, música, filosofía de servicio, y comida, por cierto, comida que sea el reflejo de un auténtico mestizaje peruano-chino, cuya diferenciación de lo chino será la clave para su internacionalización.</div></span>"
      ],
      "text/plain": [
       "<IPython.core.display.HTML object>"
      ]
     },
     "metadata": {},
     "output_type": "display_data"
    },
    {
     "data": {
      "text/html": [
       "<span class=\"tex2jax_ignore\"><div class=\"entities\" style=\"line-height: 2.5; direction: ltr\">Estamos también en proceso de creación de la pollería de nuestros sueños, donde las guarniciones peruanas harán la diferencia frente al roasted chicken de otros lares, y donde la brasa que le da todo el sabor original, y que lamentablemente algunos comercios hoy devalúan llamándolo brasa cuando usan gas, será lo que marque la diferencia y el sello de roasted chicken \n",
       "<mark class=\"entity\" style=\"background: #ddd; padding: 0.45em 0.6em; margin: 0 0.25em; line-height: 1; border-radius: 0.35em;\">\n",
       "    peruvian style\n",
       "    <span style=\"font-size: 0.8em; font-weight: bold; line-height: 1; border-radius: 0.35em; vertical-align: middle; margin-left: 0.5rem\">PER</span>\n",
       "</mark>\n",
       ".</div></span>"
      ],
      "text/plain": [
       "<IPython.core.display.HTML object>"
      ]
     },
     "metadata": {},
     "output_type": "display_data"
    },
    {
     "data": {
      "text/html": [
       "<span class=\"tex2jax_ignore\"><div class=\"entities\" style=\"line-height: 2.5; direction: ltr\">Crearemos también una cadena de hoteles boutique en lugares paradisíacos de nuestro país, con un espíritu peruano latino, donde el diseño, el buen precio, el servicio esmerado y, a la vez, espontáneo y la gran cocina avalada por nuestras marcas serán la clave de su crecimiento y de su internacionalización.</div></span>"
      ],
      "text/plain": [
       "<IPython.core.display.HTML object>"
      ]
     },
     "metadata": {},
     "output_type": "display_data"
    },
    {
     "data": {
      "text/html": [
       "<span class=\"tex2jax_ignore\"><div class=\"entities\" style=\"line-height: 2.5; direction: ltr\">Finalmente hemos terminado de desarrollar lo que es el comienzo de nuestra división industrial.</div></span>"
      ],
      "text/plain": [
       "<IPython.core.display.HTML object>"
      ]
     },
     "metadata": {},
     "output_type": "display_data"
    },
    {
     "data": {
      "text/html": [
       "<span class=\"tex2jax_ignore\"><div class=\"entities\" style=\"line-height: 2.5; direction: ltr\">Tenemos claro que, en un futuro, el desarrollo de la cocina peruana, no solo en restaurantes orientados al extranjero, sino también en los hábitos de consumo internacionales, generará una demanda de bases de sabor, salsas, productos derivados que simplifiquen el camino a la hora de preparar un cebiche, un tiradito, una causa y demás.</div></span>"
      ],
      "text/plain": [
       "<IPython.core.display.HTML object>"
      ]
     },
     "metadata": {},
     "output_type": "display_data"
    },
    {
     "data": {
      "text/html": [
       "<span class=\"tex2jax_ignore\"><div class=\"entities\" style=\"line-height: 2.5; direction: ltr\">Hemos desarrollado ya las fórmulas: solo nos queda esperar que el mercado esté listo para recibirlas en una marca que tenga como aliado estratégico a un productor emprendedor de \n",
       "<mark class=\"entity\" style=\"background: #ff9561; padding: 0.45em 0.6em; margin: 0 0.25em; line-height: 1; border-radius: 0.35em;\">\n",
       "    Virú\n",
       "    <span style=\"font-size: 0.8em; font-weight: bold; line-height: 1; border-radius: 0.35em; vertical-align: middle; margin-left: 0.5rem\">LOC</span>\n",
       "</mark>\n",
       ", con quien ya contamos, y un distribuidor apasionado, peruano también, quien ya está listo para asumir su función.</div></span>"
      ],
      "text/plain": [
       "<IPython.core.display.HTML object>"
      ]
     },
     "metadata": {},
     "output_type": "display_data"
    },
    {
     "data": {
      "text/html": [
       "<span class=\"tex2jax_ignore\"><div class=\"entities\" style=\"line-height: 2.5; direction: ltr\">Me imagino que ustedes y mucha gente se preguntará por qué tanta fe.</div></span>"
      ],
      "text/plain": [
       "<IPython.core.display.HTML object>"
      ]
     },
     "metadata": {},
     "output_type": "display_data"
    },
    {
     "data": {
      "text/html": [
       "<span class=\"tex2jax_ignore\"><div class=\"entities\" style=\"line-height: 2.5; direction: ltr\">En realidad no es fe, es simplemente resultado de un análisis concreto.</div></span>"
      ],
      "text/plain": [
       "<IPython.core.display.HTML object>"
      ]
     },
     "metadata": {},
     "output_type": "display_data"
    },
    {
     "data": {
      "text/html": [
       "<span class=\"tex2jax_ignore\"><div class=\"entities\" style=\"line-height: 2.5; direction: ltr\">En los años 80 se dio el inicio del gran despegue de la cocina mejicana por el mundo.</div></span>"
      ],
      "text/plain": [
       "<IPython.core.display.HTML object>"
      ]
     },
     "metadata": {},
     "output_type": "display_data"
    },
    {
     "data": {
      "text/html": [
       "<span class=\"tex2jax_ignore\"><div class=\"entities\" style=\"line-height: 2.5; direction: ltr\">En aquel entonces no había \n",
       "<mark class=\"entity\" style=\"background: #ddd; padding: 0.45em 0.6em; margin: 0 0.25em; line-height: 1; border-radius: 0.35em;\">\n",
       "    Internet\n",
       "    <span style=\"font-size: 0.8em; font-weight: bold; line-height: 1; border-radius: 0.35em; vertical-align: middle; margin-left: 0.5rem\">MISC</span>\n",
       "</mark>\n",
       ", ni las economías estaban globalizadas, ni las barreras culturales habían sido quebradas, ni las fusiones estaban de moda.</div></span>"
      ],
      "text/plain": [
       "<IPython.core.display.HTML object>"
      ]
     },
     "metadata": {},
     "output_type": "display_data"
    },
    {
     "data": {
      "text/html": [
       "<span class=\"tex2jax_ignore\"><div class=\"entities\" style=\"line-height: 2.5; direction: ltr\">En ese momento, los mejicanos salieron al mundo con sus tacos y sus tequilas, convencidos de que con ello conquistarían a todos.</div></span>"
      ],
      "text/plain": [
       "<IPython.core.display.HTML object>"
      ]
     },
     "metadata": {},
     "output_type": "display_data"
    },
    {
     "data": {
      "text/html": [
       "<span class=\"tex2jax_ignore\"><div class=\"entities\" style=\"line-height: 2.5; direction: ltr\">En aquel entonces habría unos 500 restaurantes mejicanos.</div></span>"
      ],
      "text/plain": [
       "<IPython.core.display.HTML object>"
      ]
     },
     "metadata": {},
     "output_type": "display_data"
    },
    {
     "data": {
      "text/html": [
       "<span class=\"tex2jax_ignore\"><div class=\"entities\" style=\"line-height: 2.5; direction: ltr\">Hoy debe haber más de 200,000.</div></span>"
      ],
      "text/plain": [
       "<IPython.core.display.HTML object>"
      ]
     },
     "metadata": {},
     "output_type": "display_data"
    },
    {
     "data": {
      "text/html": [
       "<span class=\"tex2jax_ignore\"><div class=\"entities\" style=\"line-height: 2.5; direction: ltr\">Con ello no solo lograron introducir dicho concepto, sino que también lograron poner de moda el tequila, la cerveza \n",
       "<mark class=\"entity\" style=\"background: #ddd; padding: 0.45em 0.6em; margin: 0 0.25em; line-height: 1; border-radius: 0.35em;\">\n",
       "    Corona\n",
       "    <span style=\"font-size: 0.8em; font-weight: bold; line-height: 1; border-radius: 0.35em; vertical-align: middle; margin-left: 0.5rem\">MISC</span>\n",
       "</mark>\n",
       ", las salsas derivadas que hoy vemos en todos los supermercados y, por supuesto, el chile.</div></span>"
      ],
      "text/plain": [
       "<IPython.core.display.HTML object>"
      ]
     },
     "metadata": {},
     "output_type": "display_data"
    },
    {
     "data": {
      "text/html": [
       "<span class=\"tex2jax_ignore\"><div class=\"entities\" style=\"line-height: 2.5; direction: ltr\">La difusión del chile llegó a tal punto, que hoy nuestro \n",
       "<mark class=\"entity\" style=\"background: #ff9561; padding: 0.45em 0.6em; margin: 0 0.25em; line-height: 1; border-radius: 0.35em;\">\n",
       "    valle de Virú\n",
       "    <span style=\"font-size: 0.8em; font-weight: bold; line-height: 1; border-radius: 0.35em; vertical-align: middle; margin-left: 0.5rem\">LOC</span>\n",
       "</mark>\n",
       " tiene que producir chile jalapeño porque el agro mejicano no es suficiente para abastecer la demanda mundial.</div></span>"
      ],
      "text/plain": [
       "<IPython.core.display.HTML object>"
      ]
     },
     "metadata": {},
     "output_type": "display_data"
    },
    {
     "data": {
      "text/html": [
       "<span class=\"tex2jax_ignore\"><div class=\"entities\" style=\"line-height: 2.5; direction: ltr\">Con los japoneses sucedió lo mismo.</div></span>"
      ],
      "text/plain": [
       "<IPython.core.display.HTML object>"
      ]
     },
     "metadata": {},
     "output_type": "display_data"
    },
    {
     "data": {
      "text/html": [
       "<span class=\"tex2jax_ignore\"><div class=\"entities\" style=\"line-height: 2.5; direction: ltr\">A inicios de los ochenta no había sushi bares por el mundo.</div></span>"
      ],
      "text/plain": [
       "<IPython.core.display.HTML object>"
      ]
     },
     "metadata": {},
     "output_type": "display_data"
    },
    {
     "data": {
      "text/html": [
       "<span class=\"tex2jax_ignore\"><div class=\"entities\" style=\"line-height: 2.5; direction: ltr\">Hoy hay más de 50,000, y, gracias a ellos, pudieron entrar no solo productos sino otros conceptos como el teppanyakki, del benihana, o los noodle bars tan de moda en \n",
       "<mark class=\"entity\" style=\"background: #ff9561; padding: 0.45em 0.6em; margin: 0 0.25em; line-height: 1; border-radius: 0.35em;\">\n",
       "    Europa\n",
       "    <span style=\"font-size: 0.8em; font-weight: bold; line-height: 1; border-radius: 0.35em; vertical-align: middle; margin-left: 0.5rem\">LOC</span>\n",
       "</mark>\n",
       ".</div></span>"
      ],
      "text/plain": [
       "<IPython.core.display.HTML object>"
      ]
     },
     "metadata": {},
     "output_type": "display_data"
    },
    {
     "data": {
      "text/html": [
       "<span class=\"tex2jax_ignore\"><div class=\"entities\" style=\"line-height: 2.5; direction: ltr\">Entonces, si hoy las barreras culturales ya no existen, si el \n",
       "<mark class=\"entity\" style=\"background: #ddd; padding: 0.45em 0.6em; margin: 0 0.25em; line-height: 1; border-radius: 0.35em;\">\n",
       "    Internet\n",
       "    <span style=\"font-size: 0.8em; font-weight: bold; line-height: 1; border-radius: 0.35em; vertical-align: middle; margin-left: 0.5rem\">MISC</span>\n",
       "</mark>\n",
       " está al servicio de todos los conocimientos culinarios internacionales, si las economías se han globalizado irreversiblemente, si los estudios, la prensa internacional y el consumidor foráneo nos dan permanentes señales de estar esperándonos, y si, además, contamos no con un producto, sino con muchos productos mucho más diversos, sofisticados y divertidos que ofrecer, ¿por qué creer que vamos a fracasar en el intento?</div></span>"
      ],
      "text/plain": [
       "<IPython.core.display.HTML object>"
      ]
     },
     "metadata": {},
     "output_type": "display_data"
    },
    {
     "data": {
      "text/html": [
       "<span class=\"tex2jax_ignore\"><div class=\"entities\" style=\"line-height: 2.5; direction: ltr\">Nuestra fe nace del análisis, no de la ilusión, y nuestra fuerza, eso sí, nace del deber, de la convicción de que los cocineros somos actores reales de los procesos de cambio que \n",
       "<mark class=\"entity\" style=\"background: #ff9561; padding: 0.45em 0.6em; margin: 0 0.25em; line-height: 1; border-radius: 0.35em;\">\n",
       "    el Perú\n",
       "    <span style=\"font-size: 0.8em; font-weight: bold; line-height: 1; border-radius: 0.35em; vertical-align: middle; margin-left: 0.5rem\">LOC</span>\n",
       "</mark>\n",
       " necesita.</div></span>"
      ],
      "text/plain": [
       "<IPython.core.display.HTML object>"
      ]
     },
     "metadata": {},
     "output_type": "display_data"
    },
    {
     "data": {
      "text/html": [
       "<span class=\"tex2jax_ignore\"><div class=\"entities\" style=\"line-height: 2.5; direction: ltr\">Creemos firmemente que el éxito de los restaurantes peruanos por el mundo traerá consigo muchísimos beneficios directos e indirectos para el país.</div></span>"
      ],
      "text/plain": [
       "<IPython.core.display.HTML object>"
      ]
     },
     "metadata": {},
     "output_type": "display_data"
    },
    {
     "data": {
      "text/html": [
       "<span class=\"tex2jax_ignore\"><div class=\"entities\" style=\"line-height: 2.5; direction: ltr\">Imaginamos de aquí a veinte años un escenario donde existan, al igual que hoy hay mejicanos, unos 200,000 restaurantes peruanos de todo tipo y en todas partes.</div></span>"
      ],
      "text/plain": [
       "<IPython.core.display.HTML object>"
      ]
     },
     "metadata": {},
     "output_type": "display_data"
    },
    {
     "data": {
      "text/html": [
       "<span class=\"tex2jax_ignore\"><div class=\"entities\" style=\"line-height: 2.5; direction: ltr\">Supongamos que, cuando caminemos por cualquier ciudad europea, encontraremos una anticuchería al lado de una pizzería, una sanguchería al lado de una hamburguesería, una cebichería al lado de un sushi bar o un restaurante criollo al lado de un \n",
       "<mark class=\"entity\" style=\"background: #ddd; padding: 0.45em 0.6em; margin: 0 0.25em; line-height: 1; border-radius: 0.35em;\">\n",
       "    tex\n",
       "    <span style=\"font-size: 0.8em; font-weight: bold; line-height: 1; border-radius: 0.35em; vertical-align: middle; margin-left: 0.5rem\">MISC</span>\n",
       "</mark>\n",
       " mex.</div></span>"
      ],
      "text/plain": [
       "<IPython.core.display.HTML object>"
      ]
     },
     "metadata": {},
     "output_type": "display_data"
    },
    {
     "data": {
      "text/html": [
       "<span class=\"tex2jax_ignore\"><div class=\"entities\" style=\"line-height: 2.5; direction: ltr\">Si somos capaces de concebir esa realidad, entonces podremos imaginarnos todos los beneficios que aquel escenario traerá consigo.</div></span>"
      ],
      "text/plain": [
       "<IPython.core.display.HTML object>"
      ]
     },
     "metadata": {},
     "output_type": "display_data"
    },
    {
     "data": {
      "text/html": [
       "<span class=\"tex2jax_ignore\"><div class=\"entities\" style=\"line-height: 2.5; direction: ltr\">La demanda de productos tan comunes como papa amarilla, ají, cebolla roja, rocoto o limón se multiplicaría infinitamente y con ello acabaríamos con uno de los más dolorosos males que padece nuestro país y que genera tanto enfrentamiento aprovechado coyunturalmente por falsos profetas: el empobrecimiento del campesino peruano en los \n",
       "<mark class=\"entity\" style=\"background: #ff9561; padding: 0.45em 0.6em; margin: 0 0.25em; line-height: 1; border-radius: 0.35em;\">\n",
       "    Andes\n",
       "    <span style=\"font-size: 0.8em; font-weight: bold; line-height: 1; border-radius: 0.35em; vertical-align: middle; margin-left: 0.5rem\">LOC</span>\n",
       "</mark>\n",
       ".</div></span>"
      ],
      "text/plain": [
       "<IPython.core.display.HTML object>"
      ]
     },
     "metadata": {},
     "output_type": "display_data"
    },
    {
     "data": {
      "text/html": [
       "<span class=\"tex2jax_ignore\"><div class=\"entities\" style=\"line-height: 2.5; direction: ltr\">Hoy, para solo darles un ejemplo, el kilo de papa amarilla se vende en \n",
       "<mark class=\"entity\" style=\"background: #ff9561; padding: 0.45em 0.6em; margin: 0 0.25em; line-height: 1; border-radius: 0.35em;\">\n",
       "    Europa\n",
       "    <span style=\"font-size: 0.8em; font-weight: bold; line-height: 1; border-radius: 0.35em; vertical-align: middle; margin-left: 0.5rem\">LOC</span>\n",
       "</mark>\n",
       " en mercados étnicos a 5 euros el kilo.</div></span>"
      ],
      "text/plain": [
       "<IPython.core.display.HTML object>"
      ]
     },
     "metadata": {},
     "output_type": "display_data"
    },
    {
     "data": {
      "text/html": [
       "<span class=\"tex2jax_ignore\"><div class=\"entities\" style=\"line-height: 2.5; direction: ltr\">En contraste, por lo mismo al campesino peruano se le pagan solo 30 céntimos de sol en chacra.</div></span>"
      ],
      "text/plain": [
       "<IPython.core.display.HTML object>"
      ]
     },
     "metadata": {},
     "output_type": "display_data"
    },
    {
     "data": {
      "text/html": [
       "<span class=\"tex2jax_ignore\"><div class=\"entities\" style=\"line-height: 2.5; direction: ltr\">Con el nuevo escenario, esto cambiaría y, con ello, desaparecería un permanente caldo de cultivo para la inestabilidad del país.</div></span>"
      ],
      "text/plain": [
       "<IPython.core.display.HTML object>"
      ]
     },
     "metadata": {},
     "output_type": "display_data"
    },
    {
     "data": {
      "text/html": [
       "<span class=\"tex2jax_ignore\"><div class=\"entities\" style=\"line-height: 2.5; direction: ltr\">En dicho escenario se generarían también muchas industrias y productos de base de sabor, como la que venimos desarrollando, de salsas, de pisco, de libros, de revistas, de turismo gastronómico, de asesoramiento gastronómico, de snacks, de dips y todo aquello que va naciendo alrededor de conceptos como los que tenemos.</div></span>"
      ],
      "text/plain": [
       "<IPython.core.display.HTML object>"
      ]
     },
     "metadata": {},
     "output_type": "display_data"
    },
    {
     "data": {
      "text/html": [
       "<span class=\"tex2jax_ignore\"><div class=\"entities\" style=\"line-height: 2.5; direction: ltr\">\n",
       "<mark class=\"entity\" style=\"background: #ff9561; padding: 0.45em 0.6em; margin: 0 0.25em; line-height: 1; border-radius: 0.35em;\">\n",
       "    Italia\n",
       "    <span style=\"font-size: 0.8em; font-weight: bold; line-height: 1; border-radius: 0.35em; vertical-align: middle; margin-left: 0.5rem\">LOC</span>\n",
       "</mark>\n",
       ", por ejemplo, exporta productos por 5,000 millones de dólares solo porque un concepto llamado pizza existe por todo el mundo.</div></span>"
      ],
      "text/plain": [
       "<IPython.core.display.HTML object>"
      ]
     },
     "metadata": {},
     "output_type": "display_data"
    },
    {
     "data": {
      "text/html": [
       "<span class=\"tex2jax_ignore\"><div class=\"entities\" style=\"line-height: 2.5; direction: ltr\">Esto es más que elocuente para imaginar lo que podríamos generar en torno a toda nuestra gama de conceptos.</div></span>"
      ],
      "text/plain": [
       "<IPython.core.display.HTML object>"
      ]
     },
     "metadata": {},
     "output_type": "display_data"
    },
    {
     "data": {
      "text/html": [
       "<span class=\"tex2jax_ignore\"><div class=\"entities\" style=\"line-height: 2.5; direction: ltr\">Quizás lograríamos una cifra mucho mayor que esa.</div></span>"
      ],
      "text/plain": [
       "<IPython.core.display.HTML object>"
      ]
     },
     "metadata": {},
     "output_type": "display_data"
    },
    {
     "data": {
      "text/html": [
       "<span class=\"tex2jax_ignore\"><div class=\"entities\" style=\"line-height: 2.5; direction: ltr\">Por último, el hecho de tener estos conceptos y marcas por el mundo, le daría a la marca \n",
       "<mark class=\"entity\" style=\"background: #ff9561; padding: 0.45em 0.6em; margin: 0 0.25em; line-height: 1; border-radius: 0.35em;\">\n",
       "    Perú\n",
       "    <span style=\"font-size: 0.8em; font-weight: bold; line-height: 1; border-radius: 0.35em; vertical-align: middle; margin-left: 0.5rem\">LOC</span>\n",
       "</mark>\n",
       " un poder de seducción que no solo llamaría la atención del público internacional hacia otras propuestas peruanas, como la moda, el diseño, la joyería, la música, la industria y demás, sino que también incentivaría y activaría la creatividad y la confianza de nuestros jóvenes para elaborar conceptos propios y tener la valentía de salir al mundo con ellos.</div></span>"
      ],
      "text/plain": [
       "<IPython.core.display.HTML object>"
      ]
     },
     "metadata": {},
     "output_type": "display_data"
    },
    {
     "data": {
      "text/html": [
       "<span class=\"tex2jax_ignore\"><div class=\"entities\" style=\"line-height: 2.5; direction: ltr\">Por estas razones creemos que los cocineros tenemos muchas cosas que decir: además de cocinar, tenemos una enorme responsabilidad como miembros de una generación a la que se ha dado con mucha generosidad la oportunidad de representar a su país en aquello que tiene de más poderoso: su gastronomía; en aquello que el mercado hoy más valora y aprecia de nosotros; en aquello que puede generar enormes cambios no solo económicos, sino sobre todo en la manera como los peruanos debemos encarar nuestro futuro personal y el futuro del \n",
       "<mark class=\"entity\" style=\"background: #ff9561; padding: 0.45em 0.6em; margin: 0 0.25em; line-height: 1; border-radius: 0.35em;\">\n",
       "    Perú\n",
       "    <span style=\"font-size: 0.8em; font-weight: bold; line-height: 1; border-radius: 0.35em; vertical-align: middle; margin-left: 0.5rem\">LOC</span>\n",
       "</mark>\n",
       ".</div></span>"
      ],
      "text/plain": [
       "<IPython.core.display.HTML object>"
      ]
     },
     "metadata": {},
     "output_type": "display_data"
    },
    {
     "data": {
      "text/html": [
       "<span class=\"tex2jax_ignore\"><div class=\"entities\" style=\"line-height: 2.5; direction: ltr\">Los peruanos debemos buscar la riqueza dentro de nosotros mismos: estamos llenos de oportunidades por todas partes esperando a alguien que les dé el valor y la fuerza necesarios para convertirlas en algo atractivo y poderoso para vender al mundo.</div></span>"
      ],
      "text/plain": [
       "<IPython.core.display.HTML object>"
      ]
     },
     "metadata": {},
     "output_type": "display_data"
    },
    {
     "data": {
      "text/html": [
       "<span class=\"tex2jax_ignore\"><div class=\"entities\" style=\"line-height: 2.5; direction: ltr\">La clave está en entender que somos una gran nación, con una gran cultura viva, fruto de siglos de mestizaje, y que es justamente ese mestizaje el que ha hecho de nuestra cocina una propuesta variada y diversa que ha cautivado finalmente al público internacional.</div></span>"
      ],
      "text/plain": [
       "<IPython.core.display.HTML object>"
      ]
     },
     "metadata": {},
     "output_type": "display_data"
    },
    {
     "data": {
      "text/html": [
       "<span class=\"tex2jax_ignore\"><div class=\"entities\" style=\"line-height: 2.5; direction: ltr\">Es en ese mestizaje donde los peruanos debemos encontrar la fuente de inspiración no solo para generar riqueza, sino sobre todo para aceptarnos y querernos como nación.</div></span>"
      ],
      "text/plain": [
       "<IPython.core.display.HTML object>"
      ]
     },
     "metadata": {},
     "output_type": "display_data"
    },
    {
     "data": {
      "text/html": [
       "<span class=\"tex2jax_ignore\"><div class=\"entities\" style=\"line-height: 2.5; direction: ltr\">Solo a partir de ello podremos encontrar dentro de nosotros todas aquellas ideas que luego saldrán transformadas en productos y en marcas para conquistar el planeta.</div></span>"
      ],
      "text/plain": [
       "<IPython.core.display.HTML object>"
      ]
     },
     "metadata": {},
     "output_type": "display_data"
    },
    {
     "data": {
      "text/html": [
       "<span class=\"tex2jax_ignore\"><div class=\"entities\" style=\"line-height: 2.5; direction: ltr\">Hoy estoy aquí muy emocionado por el hecho de poder dirigirme a ustedes no solo para contarles todas estas cosas, sino para recordarles que, como yo, son ustedes los jóvenes más afortunados de este país.</div></span>"
      ],
      "text/plain": [
       "<IPython.core.display.HTML object>"
      ]
     },
     "metadata": {},
     "output_type": "display_data"
    },
    {
     "data": {
      "text/html": [
       "<span class=\"tex2jax_ignore\"><div class=\"entities\" style=\"line-height: 2.5; direction: ltr\">Que son aquellos a quienes la suerte les concedió haber nacido en una familia que los pudo educar con amor en un país donde muchos niños ni siquiera conocen el amor.</div></span>"
      ],
      "text/plain": [
       "<IPython.core.display.HTML object>"
      ]
     },
     "metadata": {},
     "output_type": "display_data"
    },
    {
     "data": {
      "text/html": [
       "<span class=\"tex2jax_ignore\"><div class=\"entities\" style=\"line-height: 2.5; direction: ltr\">Ustedes, hoy y aquí, están recibiendo la mejor educación, como la que yo recibí y como la que hoy reciben mis hijas, mientras muchas otras niñas en vez de ir a la escuela tienen que trabajar.</div></span>"
      ],
      "text/plain": [
       "<IPython.core.display.HTML object>"
      ]
     },
     "metadata": {},
     "output_type": "display_data"
    },
    {
     "data": {
      "text/html": [
       "<span class=\"tex2jax_ignore\"><div class=\"entities\" style=\"line-height: 2.5; direction: ltr\">Esto no solo debe indignarnos como ciudadanos de un país al que amamos y en el que queremos crear riqueza y logros personales, sino que debe convertirnos en actores para revertir para siempre esta situación y llevarnos finalmente a construir un país próspero lleno de riqueza, donde sintamos orgullo de formar parte de una nación en la que las oportunidades están basadas en una educación igual para todos, en la que existe una justicia igual para todos y un Estado que, de la mano con sus ciudadanos, vigila e interviene enérgicamente frente a la arbitrariedad, el abuso y el rompimiento de las reglas de juego pactadas por todos.</div></span>"
      ],
      "text/plain": [
       "<IPython.core.display.HTML object>"
      ]
     },
     "metadata": {},
     "output_type": "display_data"
    },
    {
     "data": {
      "text/html": [
       "<span class=\"tex2jax_ignore\"><div class=\"entities\" style=\"line-height: 2.5; direction: ltr\">\n",
       "<mark class=\"entity\" style=\"background: #ddd; padding: 0.45em 0.6em; margin: 0 0.25em; line-height: 1; border-radius: 0.35em;\">\n",
       "    Créanme\n",
       "    <span style=\"font-size: 0.8em; font-weight: bold; line-height: 1; border-radius: 0.35em; vertical-align: middle; margin-left: 0.5rem\">MISC</span>\n",
       "</mark>\n",
       ", solo es posible cumplir sus sueños personales si tenemos un sueño nacional anterior.</div></span>"
      ],
      "text/plain": [
       "<IPython.core.display.HTML object>"
      ]
     },
     "metadata": {},
     "output_type": "display_data"
    },
    {
     "data": {
      "text/html": [
       "<span class=\"tex2jax_ignore\"><div class=\"entities\" style=\"line-height: 2.5; direction: ltr\">El éxito personal solo llegará si nuestros objetivos trascienden al ámbito individual para formar parte de una gran aspiración colectiva.</div></span>"
      ],
      "text/plain": [
       "<IPython.core.display.HTML object>"
      ]
     },
     "metadata": {},
     "output_type": "display_data"
    },
    {
     "data": {
      "text/html": [
       "<span class=\"tex2jax_ignore\"><div class=\"entities\" style=\"line-height: 2.5; direction: ltr\">\n",
       "<mark class=\"entity\" style=\"background: #ff9561; padding: 0.45em 0.6em; margin: 0 0.25em; line-height: 1; border-radius: 0.35em;\">\n",
       "    Japón\n",
       "    <span style=\"font-size: 0.8em; font-weight: bold; line-height: 1; border-radius: 0.35em; vertical-align: middle; margin-left: 0.5rem\">LOC</span>\n",
       "</mark>\n",
       " reconstruyó su país en ruinas para convertirse en la potencia de hoy porque antes que individuos eran japoneses.</div></span>"
      ],
      "text/plain": [
       "<IPython.core.display.HTML object>"
      ]
     },
     "metadata": {},
     "output_type": "display_data"
    },
    {
     "data": {
      "text/html": [
       "<span class=\"tex2jax_ignore\"><div class=\"entities\" style=\"line-height: 2.5; direction: ltr\">\n",
       "<mark class=\"entity\" style=\"background: #ff9561; padding: 0.45em 0.6em; margin: 0 0.25em; line-height: 1; border-radius: 0.35em;\">\n",
       "    Alemania\n",
       "    <span style=\"font-size: 0.8em; font-weight: bold; line-height: 1; border-radius: 0.35em; vertical-align: middle; margin-left: 0.5rem\">LOC</span>\n",
       "</mark>\n",
       " hizo lo mismo, \n",
       "<mark class=\"entity\" style=\"background: #ff9561; padding: 0.45em 0.6em; margin: 0 0.25em; line-height: 1; border-radius: 0.35em;\">\n",
       "    Israel\n",
       "    <span style=\"font-size: 0.8em; font-weight: bold; line-height: 1; border-radius: 0.35em; vertical-align: middle; margin-left: 0.5rem\">LOC</span>\n",
       "</mark>\n",
       " también, al igual que naciones mucho más jóvenes como \n",
       "<mark class=\"entity\" style=\"background: #ff9561; padding: 0.45em 0.6em; margin: 0 0.25em; line-height: 1; border-radius: 0.35em;\">\n",
       "    Australia\n",
       "    <span style=\"font-size: 0.8em; font-weight: bold; line-height: 1; border-radius: 0.35em; vertical-align: middle; margin-left: 0.5rem\">LOC</span>\n",
       "</mark>\n",
       " o \n",
       "<mark class=\"entity\" style=\"background: #ff9561; padding: 0.45em 0.6em; margin: 0 0.25em; line-height: 1; border-radius: 0.35em;\">\n",
       "    Nueva Zelanda\n",
       "    <span style=\"font-size: 0.8em; font-weight: bold; line-height: 1; border-radius: 0.35em; vertical-align: middle; margin-left: 0.5rem\">LOC</span>\n",
       "</mark>\n",
       ".</div></span>"
      ],
      "text/plain": [
       "<IPython.core.display.HTML object>"
      ]
     },
     "metadata": {},
     "output_type": "display_data"
    },
    {
     "data": {
      "text/html": [
       "<span class=\"tex2jax_ignore\"><div class=\"entities\" style=\"line-height: 2.5; direction: ltr\">Es en ese espíritu nacional, pero el positivo, el que se abre al mundo, el que se cuestiona, el que tolera, el que abraza, el que integra, el que aplaude el éxito y no en el nacionalismo que se lamenta, que condena, que divide, que se encierra y protege la mediocridad, en donde finalmente los peruanos alcanzaremos el rostro definitivo de nuestra nación y con él la tan ansiada prosperidad.</div></span>"
      ],
      "text/plain": [
       "<IPython.core.display.HTML object>"
      ]
     },
     "metadata": {},
     "output_type": "display_data"
    },
    {
     "data": {
      "text/html": [
       "<span class=\"tex2jax_ignore\"><div class=\"entities\" style=\"line-height: 2.5; direction: ltr\">Para terminar quisiera decirles, en realidad pedirles, que no se vayan del \n",
       "<mark class=\"entity\" style=\"background: #ff9561; padding: 0.45em 0.6em; margin: 0 0.25em; line-height: 1; border-radius: 0.35em;\">\n",
       "    Perú\n",
       "    <span style=\"font-size: 0.8em; font-weight: bold; line-height: 1; border-radius: 0.35em; vertical-align: middle; margin-left: 0.5rem\">LOC</span>\n",
       "</mark>\n",
       ": ustedes son sus hijos más afortunados, sus hijos más preparados.</div></span>"
      ],
      "text/plain": [
       "<IPython.core.display.HTML object>"
      ]
     },
     "metadata": {},
     "output_type": "display_data"
    },
    {
     "data": {
      "text/html": [
       "<span class=\"tex2jax_ignore\"><div class=\"entities\" style=\"line-height: 2.5; direction: ltr\">Si salen a estudiar una maestría, regresen.</div></span>"
      ],
      "text/plain": [
       "<IPython.core.display.HTML object>"
      ]
     },
     "metadata": {},
     "output_type": "display_data"
    },
    {
     "data": {
      "text/html": [
       "<span class=\"tex2jax_ignore\"><div class=\"entities\" style=\"line-height: 2.5; direction: ltr\">No se vayan: es aquí donde están las oportunidades, es aquí donde está la riqueza, es aquí donde la vida encuentra un sentido.</div></span>"
      ],
      "text/plain": [
       "<IPython.core.display.HTML object>"
      ]
     },
     "metadata": {},
     "output_type": "display_data"
    },
    {
     "data": {
      "text/html": [
       "<span class=\"tex2jax_ignore\"><div class=\"entities\" style=\"line-height: 2.5; direction: ltr\">No se vayan porque su pueblo los necesita; \n",
       "<mark class=\"entity\" style=\"background: #ff9561; padding: 0.45em 0.6em; margin: 0 0.25em; line-height: 1; border-radius: 0.35em;\">\n",
       "    el Perú\n",
       "    <span style=\"font-size: 0.8em; font-weight: bold; line-height: 1; border-radius: 0.35em; vertical-align: middle; margin-left: 0.5rem\">LOC</span>\n",
       "</mark>\n",
       " los necesita; la historia los necesita.</div></span>"
      ],
      "text/plain": [
       "<IPython.core.display.HTML object>"
      ]
     },
     "metadata": {},
     "output_type": "display_data"
    },
    {
     "data": {
      "text/html": [
       "<span class=\"tex2jax_ignore\"><div class=\"entities\" style=\"line-height: 2.5; direction: ltr\">Muchas gracias.</div></span>"
      ],
      "text/plain": [
       "<IPython.core.display.HTML object>"
      ]
     },
     "metadata": {},
     "output_type": "display_data"
    }
   ],
   "source": [
    "import es_core_news_md\n",
    "nlp = es_core_news_md.load()\n",
    "for o in discurso:\n",
    "    article_text = o\n",
    "    doc = nlp(article_text)\n",
    "    SVG(data = displacy.render(doc, style=\"ent\"))"
   ]
  },
  {
   "cell_type": "code",
   "execution_count": 27,
   "id": "083791fa-00b4-4b2f-b3dd-e89564f7565b",
   "metadata": {},
   "outputs": [
    {
     "ename": "TypeError",
     "evalue": "expected string or bytes-like object, got 'list'",
     "output_type": "error",
     "traceback": [
      "\u001b[0;31m---------------------------------------------------------------------------\u001b[0m",
      "\u001b[0;31mTypeError\u001b[0m                                 Traceback (most recent call last)",
      "Cell \u001b[0;32mIn[27], line 2\u001b[0m\n\u001b[1;32m      1\u001b[0m text \u001b[38;5;241m=\u001b[39m [discurso]\n\u001b[0;32m----> 2\u001b[0m tokens \u001b[38;5;241m=\u001b[39m \u001b[43mnltk\u001b[49m\u001b[38;5;241;43m.\u001b[39;49m\u001b[43mword_tokenize\u001b[49m\u001b[43m(\u001b[49m\u001b[43mtext\u001b[49m\u001b[43m)\u001b[49m\n\u001b[1;32m      4\u001b[0m textBigGrams \u001b[38;5;241m=\u001b[39m nltk\u001b[38;5;241m.\u001b[39mbigrams(tokens)\n\u001b[1;32m      5\u001b[0m textTriGrams \u001b[38;5;241m=\u001b[39m nltk\u001b[38;5;241m.\u001b[39mtrigrams(tokens)\n",
      "File \u001b[0;32m~/Library/Python/3.11/lib/python/site-packages/nltk/tokenize/__init__.py:129\u001b[0m, in \u001b[0;36mword_tokenize\u001b[0;34m(text, language, preserve_line)\u001b[0m\n\u001b[1;32m    114\u001b[0m \u001b[38;5;28;01mdef\u001b[39;00m \u001b[38;5;21mword_tokenize\u001b[39m(text, language\u001b[38;5;241m=\u001b[39m\u001b[38;5;124m\"\u001b[39m\u001b[38;5;124menglish\u001b[39m\u001b[38;5;124m\"\u001b[39m, preserve_line\u001b[38;5;241m=\u001b[39m\u001b[38;5;28;01mFalse\u001b[39;00m):\n\u001b[1;32m    115\u001b[0m \u001b[38;5;250m    \u001b[39m\u001b[38;5;124;03m\"\"\"\u001b[39;00m\n\u001b[1;32m    116\u001b[0m \u001b[38;5;124;03m    Return a tokenized copy of *text*,\u001b[39;00m\n\u001b[1;32m    117\u001b[0m \u001b[38;5;124;03m    using NLTK's recommended word tokenizer\u001b[39;00m\n\u001b[0;32m   (...)\u001b[0m\n\u001b[1;32m    127\u001b[0m \u001b[38;5;124;03m    :type preserve_line: bool\u001b[39;00m\n\u001b[1;32m    128\u001b[0m \u001b[38;5;124;03m    \"\"\"\u001b[39;00m\n\u001b[0;32m--> 129\u001b[0m     sentences \u001b[38;5;241m=\u001b[39m [text] \u001b[38;5;28;01mif\u001b[39;00m preserve_line \u001b[38;5;28;01melse\u001b[39;00m \u001b[43msent_tokenize\u001b[49m\u001b[43m(\u001b[49m\u001b[43mtext\u001b[49m\u001b[43m,\u001b[49m\u001b[43m \u001b[49m\u001b[43mlanguage\u001b[49m\u001b[43m)\u001b[49m\n\u001b[1;32m    130\u001b[0m     \u001b[38;5;28;01mreturn\u001b[39;00m [\n\u001b[1;32m    131\u001b[0m         token \u001b[38;5;28;01mfor\u001b[39;00m sent \u001b[38;5;129;01min\u001b[39;00m sentences \u001b[38;5;28;01mfor\u001b[39;00m token \u001b[38;5;129;01min\u001b[39;00m _treebank_word_tokenizer\u001b[38;5;241m.\u001b[39mtokenize(sent)\n\u001b[1;32m    132\u001b[0m     ]\n",
      "File \u001b[0;32m~/Library/Python/3.11/lib/python/site-packages/nltk/tokenize/__init__.py:107\u001b[0m, in \u001b[0;36msent_tokenize\u001b[0;34m(text, language)\u001b[0m\n\u001b[1;32m     97\u001b[0m \u001b[38;5;250m\u001b[39m\u001b[38;5;124;03m\"\"\"\u001b[39;00m\n\u001b[1;32m     98\u001b[0m \u001b[38;5;124;03mReturn a sentence-tokenized copy of *text*,\u001b[39;00m\n\u001b[1;32m     99\u001b[0m \u001b[38;5;124;03musing NLTK's recommended sentence tokenizer\u001b[39;00m\n\u001b[0;32m   (...)\u001b[0m\n\u001b[1;32m    104\u001b[0m \u001b[38;5;124;03m:param language: the model name in the Punkt corpus\u001b[39;00m\n\u001b[1;32m    105\u001b[0m \u001b[38;5;124;03m\"\"\"\u001b[39;00m\n\u001b[1;32m    106\u001b[0m tokenizer \u001b[38;5;241m=\u001b[39m load(\u001b[38;5;124mf\u001b[39m\u001b[38;5;124m\"\u001b[39m\u001b[38;5;124mtokenizers/punkt/\u001b[39m\u001b[38;5;132;01m{\u001b[39;00mlanguage\u001b[38;5;132;01m}\u001b[39;00m\u001b[38;5;124m.pickle\u001b[39m\u001b[38;5;124m\"\u001b[39m)\n\u001b[0;32m--> 107\u001b[0m \u001b[38;5;28;01mreturn\u001b[39;00m \u001b[43mtokenizer\u001b[49m\u001b[38;5;241;43m.\u001b[39;49m\u001b[43mtokenize\u001b[49m\u001b[43m(\u001b[49m\u001b[43mtext\u001b[49m\u001b[43m)\u001b[49m\n",
      "File \u001b[0;32m~/Library/Python/3.11/lib/python/site-packages/nltk/tokenize/punkt.py:1281\u001b[0m, in \u001b[0;36mPunktSentenceTokenizer.tokenize\u001b[0;34m(self, text, realign_boundaries)\u001b[0m\n\u001b[1;32m   1277\u001b[0m \u001b[38;5;28;01mdef\u001b[39;00m \u001b[38;5;21mtokenize\u001b[39m(\u001b[38;5;28mself\u001b[39m, text: \u001b[38;5;28mstr\u001b[39m, realign_boundaries: \u001b[38;5;28mbool\u001b[39m \u001b[38;5;241m=\u001b[39m \u001b[38;5;28;01mTrue\u001b[39;00m) \u001b[38;5;241m-\u001b[39m\u001b[38;5;241m>\u001b[39m List[\u001b[38;5;28mstr\u001b[39m]:\n\u001b[1;32m   1278\u001b[0m \u001b[38;5;250m    \u001b[39m\u001b[38;5;124;03m\"\"\"\u001b[39;00m\n\u001b[1;32m   1279\u001b[0m \u001b[38;5;124;03m    Given a text, returns a list of the sentences in that text.\u001b[39;00m\n\u001b[1;32m   1280\u001b[0m \u001b[38;5;124;03m    \"\"\"\u001b[39;00m\n\u001b[0;32m-> 1281\u001b[0m     \u001b[38;5;28;01mreturn\u001b[39;00m \u001b[38;5;28mlist\u001b[39m(\u001b[38;5;28;43mself\u001b[39;49m\u001b[38;5;241;43m.\u001b[39;49m\u001b[43msentences_from_text\u001b[49m\u001b[43m(\u001b[49m\u001b[43mtext\u001b[49m\u001b[43m,\u001b[49m\u001b[43m \u001b[49m\u001b[43mrealign_boundaries\u001b[49m\u001b[43m)\u001b[49m)\n",
      "File \u001b[0;32m~/Library/Python/3.11/lib/python/site-packages/nltk/tokenize/punkt.py:1341\u001b[0m, in \u001b[0;36mPunktSentenceTokenizer.sentences_from_text\u001b[0;34m(self, text, realign_boundaries)\u001b[0m\n\u001b[1;32m   1332\u001b[0m \u001b[38;5;28;01mdef\u001b[39;00m \u001b[38;5;21msentences_from_text\u001b[39m(\n\u001b[1;32m   1333\u001b[0m     \u001b[38;5;28mself\u001b[39m, text: \u001b[38;5;28mstr\u001b[39m, realign_boundaries: \u001b[38;5;28mbool\u001b[39m \u001b[38;5;241m=\u001b[39m \u001b[38;5;28;01mTrue\u001b[39;00m\n\u001b[1;32m   1334\u001b[0m ) \u001b[38;5;241m-\u001b[39m\u001b[38;5;241m>\u001b[39m List[\u001b[38;5;28mstr\u001b[39m]:\n\u001b[1;32m   1335\u001b[0m \u001b[38;5;250m    \u001b[39m\u001b[38;5;124;03m\"\"\"\u001b[39;00m\n\u001b[1;32m   1336\u001b[0m \u001b[38;5;124;03m    Given a text, generates the sentences in that text by only\u001b[39;00m\n\u001b[1;32m   1337\u001b[0m \u001b[38;5;124;03m    testing candidate sentence breaks. If realign_boundaries is\u001b[39;00m\n\u001b[1;32m   1338\u001b[0m \u001b[38;5;124;03m    True, includes in the sentence closing punctuation that\u001b[39;00m\n\u001b[1;32m   1339\u001b[0m \u001b[38;5;124;03m    follows the period.\u001b[39;00m\n\u001b[1;32m   1340\u001b[0m \u001b[38;5;124;03m    \"\"\"\u001b[39;00m\n\u001b[0;32m-> 1341\u001b[0m     \u001b[38;5;28;01mreturn\u001b[39;00m \u001b[43m[\u001b[49m\u001b[43mtext\u001b[49m\u001b[43m[\u001b[49m\u001b[43ms\u001b[49m\u001b[43m:\u001b[49m\u001b[43me\u001b[49m\u001b[43m]\u001b[49m\u001b[43m \u001b[49m\u001b[38;5;28;43;01mfor\u001b[39;49;00m\u001b[43m \u001b[49m\u001b[43ms\u001b[49m\u001b[43m,\u001b[49m\u001b[43m \u001b[49m\u001b[43me\u001b[49m\u001b[43m \u001b[49m\u001b[38;5;129;43;01min\u001b[39;49;00m\u001b[43m \u001b[49m\u001b[38;5;28;43mself\u001b[39;49m\u001b[38;5;241;43m.\u001b[39;49m\u001b[43mspan_tokenize\u001b[49m\u001b[43m(\u001b[49m\u001b[43mtext\u001b[49m\u001b[43m,\u001b[49m\u001b[43m \u001b[49m\u001b[43mrealign_boundaries\u001b[49m\u001b[43m)\u001b[49m\u001b[43m]\u001b[49m\n",
      "File \u001b[0;32m~/Library/Python/3.11/lib/python/site-packages/nltk/tokenize/punkt.py:1341\u001b[0m, in \u001b[0;36m<listcomp>\u001b[0;34m(.0)\u001b[0m\n\u001b[1;32m   1332\u001b[0m \u001b[38;5;28;01mdef\u001b[39;00m \u001b[38;5;21msentences_from_text\u001b[39m(\n\u001b[1;32m   1333\u001b[0m     \u001b[38;5;28mself\u001b[39m, text: \u001b[38;5;28mstr\u001b[39m, realign_boundaries: \u001b[38;5;28mbool\u001b[39m \u001b[38;5;241m=\u001b[39m \u001b[38;5;28;01mTrue\u001b[39;00m\n\u001b[1;32m   1334\u001b[0m ) \u001b[38;5;241m-\u001b[39m\u001b[38;5;241m>\u001b[39m List[\u001b[38;5;28mstr\u001b[39m]:\n\u001b[1;32m   1335\u001b[0m \u001b[38;5;250m    \u001b[39m\u001b[38;5;124;03m\"\"\"\u001b[39;00m\n\u001b[1;32m   1336\u001b[0m \u001b[38;5;124;03m    Given a text, generates the sentences in that text by only\u001b[39;00m\n\u001b[1;32m   1337\u001b[0m \u001b[38;5;124;03m    testing candidate sentence breaks. If realign_boundaries is\u001b[39;00m\n\u001b[1;32m   1338\u001b[0m \u001b[38;5;124;03m    True, includes in the sentence closing punctuation that\u001b[39;00m\n\u001b[1;32m   1339\u001b[0m \u001b[38;5;124;03m    follows the period.\u001b[39;00m\n\u001b[1;32m   1340\u001b[0m \u001b[38;5;124;03m    \"\"\"\u001b[39;00m\n\u001b[0;32m-> 1341\u001b[0m     \u001b[38;5;28;01mreturn\u001b[39;00m [text[s:e] \u001b[38;5;28;01mfor\u001b[39;00m s, e \u001b[38;5;129;01min\u001b[39;00m \u001b[38;5;28mself\u001b[39m\u001b[38;5;241m.\u001b[39mspan_tokenize(text, realign_boundaries)]\n",
      "File \u001b[0;32m~/Library/Python/3.11/lib/python/site-packages/nltk/tokenize/punkt.py:1329\u001b[0m, in \u001b[0;36mPunktSentenceTokenizer.span_tokenize\u001b[0;34m(self, text, realign_boundaries)\u001b[0m\n\u001b[1;32m   1327\u001b[0m \u001b[38;5;28;01mif\u001b[39;00m realign_boundaries:\n\u001b[1;32m   1328\u001b[0m     slices \u001b[38;5;241m=\u001b[39m \u001b[38;5;28mself\u001b[39m\u001b[38;5;241m.\u001b[39m_realign_boundaries(text, slices)\n\u001b[0;32m-> 1329\u001b[0m \u001b[38;5;28;01mfor\u001b[39;00m sentence \u001b[38;5;129;01min\u001b[39;00m slices:\n\u001b[1;32m   1330\u001b[0m     \u001b[38;5;28;01myield\u001b[39;00m (sentence\u001b[38;5;241m.\u001b[39mstart, sentence\u001b[38;5;241m.\u001b[39mstop)\n",
      "File \u001b[0;32m~/Library/Python/3.11/lib/python/site-packages/nltk/tokenize/punkt.py:1459\u001b[0m, in \u001b[0;36mPunktSentenceTokenizer._realign_boundaries\u001b[0;34m(self, text, slices)\u001b[0m\n\u001b[1;32m   1446\u001b[0m \u001b[38;5;250m\u001b[39m\u001b[38;5;124;03m\"\"\"\u001b[39;00m\n\u001b[1;32m   1447\u001b[0m \u001b[38;5;124;03mAttempts to realign punctuation that falls after the period but\u001b[39;00m\n\u001b[1;32m   1448\u001b[0m \u001b[38;5;124;03mshould otherwise be included in the same sentence.\u001b[39;00m\n\u001b[0;32m   (...)\u001b[0m\n\u001b[1;32m   1456\u001b[0m \u001b[38;5;124;03m    [\"(Sent1.)\", \"Sent2.\"].\u001b[39;00m\n\u001b[1;32m   1457\u001b[0m \u001b[38;5;124;03m\"\"\"\u001b[39;00m\n\u001b[1;32m   1458\u001b[0m realign \u001b[38;5;241m=\u001b[39m \u001b[38;5;241m0\u001b[39m\n\u001b[0;32m-> 1459\u001b[0m \u001b[38;5;28;01mfor\u001b[39;00m sentence1, sentence2 \u001b[38;5;129;01min\u001b[39;00m _pair_iter(slices):\n\u001b[1;32m   1460\u001b[0m     sentence1 \u001b[38;5;241m=\u001b[39m \u001b[38;5;28mslice\u001b[39m(sentence1\u001b[38;5;241m.\u001b[39mstart \u001b[38;5;241m+\u001b[39m realign, sentence1\u001b[38;5;241m.\u001b[39mstop)\n\u001b[1;32m   1461\u001b[0m     \u001b[38;5;28;01mif\u001b[39;00m \u001b[38;5;129;01mnot\u001b[39;00m sentence2:\n",
      "File \u001b[0;32m~/Library/Python/3.11/lib/python/site-packages/nltk/tokenize/punkt.py:321\u001b[0m, in \u001b[0;36m_pair_iter\u001b[0;34m(iterator)\u001b[0m\n\u001b[1;32m    319\u001b[0m iterator \u001b[38;5;241m=\u001b[39m \u001b[38;5;28miter\u001b[39m(iterator)\n\u001b[1;32m    320\u001b[0m \u001b[38;5;28;01mtry\u001b[39;00m:\n\u001b[0;32m--> 321\u001b[0m     prev \u001b[38;5;241m=\u001b[39m \u001b[38;5;28mnext\u001b[39m(iterator)\n\u001b[1;32m    322\u001b[0m \u001b[38;5;28;01mexcept\u001b[39;00m \u001b[38;5;167;01mStopIteration\u001b[39;00m:\n\u001b[1;32m    323\u001b[0m     \u001b[38;5;28;01mreturn\u001b[39;00m\n",
      "File \u001b[0;32m~/Library/Python/3.11/lib/python/site-packages/nltk/tokenize/punkt.py:1431\u001b[0m, in \u001b[0;36mPunktSentenceTokenizer._slices_from_text\u001b[0;34m(self, text)\u001b[0m\n\u001b[1;32m   1429\u001b[0m \u001b[38;5;28;01mdef\u001b[39;00m \u001b[38;5;21m_slices_from_text\u001b[39m(\u001b[38;5;28mself\u001b[39m, text: \u001b[38;5;28mstr\u001b[39m) \u001b[38;5;241m-\u001b[39m\u001b[38;5;241m>\u001b[39m Iterator[\u001b[38;5;28mslice\u001b[39m]:\n\u001b[1;32m   1430\u001b[0m     last_break \u001b[38;5;241m=\u001b[39m \u001b[38;5;241m0\u001b[39m\n\u001b[0;32m-> 1431\u001b[0m     \u001b[38;5;28;01mfor\u001b[39;00m match, context \u001b[38;5;129;01min\u001b[39;00m \u001b[38;5;28mself\u001b[39m\u001b[38;5;241m.\u001b[39m_match_potential_end_contexts(text):\n\u001b[1;32m   1432\u001b[0m         \u001b[38;5;28;01mif\u001b[39;00m \u001b[38;5;28mself\u001b[39m\u001b[38;5;241m.\u001b[39mtext_contains_sentbreak(context):\n\u001b[1;32m   1433\u001b[0m             \u001b[38;5;28;01myield\u001b[39;00m \u001b[38;5;28mslice\u001b[39m(last_break, match\u001b[38;5;241m.\u001b[39mend())\n",
      "File \u001b[0;32m~/Library/Python/3.11/lib/python/site-packages/nltk/tokenize/punkt.py:1395\u001b[0m, in \u001b[0;36mPunktSentenceTokenizer._match_potential_end_contexts\u001b[0;34m(self, text)\u001b[0m\n\u001b[1;32m   1393\u001b[0m previous_slice \u001b[38;5;241m=\u001b[39m \u001b[38;5;28mslice\u001b[39m(\u001b[38;5;241m0\u001b[39m, \u001b[38;5;241m0\u001b[39m)\n\u001b[1;32m   1394\u001b[0m previous_match \u001b[38;5;241m=\u001b[39m \u001b[38;5;28;01mNone\u001b[39;00m\n\u001b[0;32m-> 1395\u001b[0m \u001b[38;5;28;01mfor\u001b[39;00m match \u001b[38;5;129;01min\u001b[39;00m \u001b[38;5;28;43mself\u001b[39;49m\u001b[38;5;241;43m.\u001b[39;49m\u001b[43m_lang_vars\u001b[49m\u001b[38;5;241;43m.\u001b[39;49m\u001b[43mperiod_context_re\u001b[49m\u001b[43m(\u001b[49m\u001b[43m)\u001b[49m\u001b[38;5;241;43m.\u001b[39;49m\u001b[43mfinditer\u001b[49m\u001b[43m(\u001b[49m\u001b[43mtext\u001b[49m\u001b[43m)\u001b[49m:\n\u001b[1;32m   1396\u001b[0m \n\u001b[1;32m   1397\u001b[0m     \u001b[38;5;66;03m# Get the slice of the previous word\u001b[39;00m\n\u001b[1;32m   1398\u001b[0m     before_text \u001b[38;5;241m=\u001b[39m text[previous_slice\u001b[38;5;241m.\u001b[39mstop : match\u001b[38;5;241m.\u001b[39mstart()]\n\u001b[1;32m   1399\u001b[0m     index_after_last_space \u001b[38;5;241m=\u001b[39m \u001b[38;5;28mself\u001b[39m\u001b[38;5;241m.\u001b[39m_get_last_whitespace_index(before_text)\n",
      "\u001b[0;31mTypeError\u001b[0m: expected string or bytes-like object, got 'list'"
     ]
    }
   ],
   "source": [
    "text = discurso\n",
    "tokens = nltk.word_tokenize(text)\n",
    "\n",
    "textBigGrams = nltk.bigrams(tokens)\n",
    "textTriGrams = nltk.trigrams(tokens)\n",
    "\n",
    "print(list(textBigGrams), list(textTriGrams))"
   ]
  }
 ],
 "metadata": {
  "kernelspec": {
   "display_name": "Python 3 (ipykernel)",
   "language": "python",
   "name": "python3"
  },
  "language_info": {
   "codemirror_mode": {
    "name": "ipython",
    "version": 3
   },
   "file_extension": ".py",
   "mimetype": "text/x-python",
   "name": "python",
   "nbconvert_exporter": "python",
   "pygments_lexer": "ipython3",
   "version": "3.11.3"
  }
 },
 "nbformat": 4,
 "nbformat_minor": 5
}
